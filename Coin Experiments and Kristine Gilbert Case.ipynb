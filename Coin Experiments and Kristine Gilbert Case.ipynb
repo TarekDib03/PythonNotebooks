{
 "cells": [
  {
   "cell_type": "markdown",
   "metadata": {},
   "source": [
    "A population has 100 people, including Mo and Jo. Suppose we sample two people at random without replacement, what is the probability that both Mo and Jo are in the sample? Jo and Mo are equally likely to be selected. A simple random sample (SRS) is uniform and without replacement.\n",
    "\n",
    "There are two ways to draw Mo and Jo: Mo then Jo, or Jo then Mo. The probability to draw Mo then Jo is equal to the probability of drawing Jo then Mo. The probability is 1/100 * 1/99 using the multiplication rule."
   ]
  },
  {
   "cell_type": "code",
   "execution_count": 2,
   "metadata": {},
   "outputs": [
    {
     "data": {
      "text/plain": [
       "0.0002"
      ]
     },
     "execution_count": 2,
     "metadata": {},
     "output_type": "execute_result"
    }
   ],
   "source": [
    "# The probability that both Mo and Jo are in the sample\n",
    "P = round(2*(1/100 * 1/99), 5)\n",
    "P"
   ]
  },
  {
   "cell_type": "code",
   "execution_count": 5,
   "metadata": {},
   "outputs": [
    {
     "data": {
      "text/plain": [
       "0.9602"
      ]
     },
     "execution_count": 5,
     "metadata": {},
     "output_type": "execute_result"
    }
   ],
   "source": [
    "# The probability that neither Mo nor Jo is in the sample\n",
    "round((98/100) * (97/99),5)"
   ]
  },
  {
   "cell_type": "markdown",
   "metadata": {},
   "source": [
    "### Flipping a Coin"
   ]
  },
  {
   "cell_type": "markdown",
   "metadata": {},
   "source": [
    "#### Case 1: Coin is Fair"
   ]
  },
  {
   "cell_type": "code",
   "execution_count": 6,
   "metadata": {},
   "outputs": [],
   "source": [
    "from datascience import *\n",
    "import numpy as np\n",
    "\n",
    "import matplotlib.pyplot as plots\n",
    "plots.style.use('fivethirtyeight')\n",
    "%matplotlib inline"
   ]
  },
  {
   "cell_type": "code",
   "execution_count": 9,
   "metadata": {},
   "outputs": [
    {
     "data": {
      "text/plain": [
       "array([0.5025, 0.4975])"
      ]
     },
     "execution_count": 9,
     "metadata": {},
     "output_type": "execute_result"
    }
   ],
   "source": [
    "# We will assume that heads show up 50%, and tails the same since the coin is fair \n",
    "model = [0.5, 0.5]\n",
    "# Flip the coin 400 times\n",
    "sample_proportions(400, model)"
   ]
  },
  {
   "cell_type": "code",
   "execution_count": 21,
   "metadata": {},
   "outputs": [],
   "source": [
    "counts = []\n",
    "\n",
    "iterations = 10000\n",
    "for i in np.arange(iterations):\n",
    "    sample_distribution = sample_proportions(400, model)\n",
    "    # The count of heads in 400 coin flips\n",
    "    sampled_count = 400 * sample_distribution[0]\n",
    "    counts.append(sampled_count)"
   ]
  },
  {
   "cell_type": "code",
   "execution_count": 20,
   "metadata": {},
   "outputs": [
    {
     "data": {
      "image/png": "[encoded data removed]",
      "text/plain": [
       "<Figure size 432x288 with 1 Axes>"
      ]
     },
     "metadata": {
      "needs_background": "light"
     },
     "output_type": "display_data"
    }
   ],
   "source": [
    "# Create a table and draw a histogram. The distribution is normal!\n",
    "Table().with_column('Random Sample Count', counts).hist(bins = np.arange(160, 240, 5))  \n",
    "# Normally distributed with mean of head counts of about 200. The head counts range between 170 and 230 "
   ]
  },
  {
   "cell_type": "markdown",
   "metadata": {},
   "source": [
    "#### Coin is Not Fair"
   ]
  },
  {
   "cell_type": "code",
   "execution_count": 22,
   "metadata": {},
   "outputs": [],
   "source": [
    "# Suppose the coin is biased towards tails. Assume that tails show up 70% of the times\n",
    "model_biased = [0.3, 0.7]"
   ]
  },
  {
   "cell_type": "code",
   "execution_count": 27,
   "metadata": {},
   "outputs": [
    {
     "data": {
      "text/plain": [
       "279"
      ]
     },
     "execution_count": 27,
     "metadata": {},
     "output_type": "execute_result"
    }
   ],
   "source": [
    "counts_biased = []\n",
    "\n",
    "for i in np.arange(iterations):\n",
    "    sample_distribution = sample_proportions(400, model_biased)\n",
    "    # The count of heads in 400 coin flips\n",
    "    sampled_count = 400 * sample_distribution[1]\n",
    "    counts_biased.append(sampled_count)\n",
    "    \n",
    "int(np.mean(counts_biased))"
   ]
  },
  {
   "cell_type": "code",
   "execution_count": 28,
   "metadata": {},
   "outputs": [
    {
     "data": {
      "image/png": "[encoded data removed]",
      "text/plain": [
       "<Figure size 432x288 with 1 Axes>"
      ]
     },
     "metadata": {
      "needs_background": "light"
     },
     "output_type": "display_data"
    }
   ],
   "source": [
    "# Create a table and draw a histogram. The distribution is normal!\n",
    "Table().with_column('Random Sample Count', counts_biased).hist() "
   ]
  },
  {
   "cell_type": "code",
   "execution_count": 36,
   "metadata": {},
   "outputs": [
    {
     "data": {
      "text/plain": [
       "62.41072516758074"
      ]
     },
     "execution_count": 36,
     "metadata": {},
     "output_type": "execute_result"
    }
   ],
   "source": [
    "1384*74/1641"
   ]
  },
  {
   "cell_type": "code",
   "execution_count": 40,
   "metadata": {},
   "outputs": [
    {
     "data": {
      "text/plain": [
       "array([16.73151751, 83.26848249])"
      ]
     },
     "execution_count": 40,
     "metadata": {},
     "output_type": "execute_result"
    }
   ],
   "source": [
    "test = [257/1641, 1384/1641]\n",
    "sample_proportions(257, test)*100"
   ]
  },
  {
   "cell_type": "markdown",
   "metadata": {},
   "source": [
    "### Kristine Gilbert's Case\n",
    "\n",
    "Kristen Gilbert was an American nurse in the 1990’s who had established a reputation of being very good in crisis situations. When a patient went into cardiac arrest, she would stay calm, sound the code blue alarm, and administer epinephrine to restart the heart. However, other nurses at the hospital became suspicious of Gilbert because it seemed like there was an unusual number of code blue calls when she was working. Some nurses thought that Gilbert was administering fatal injections to patients to cause their cardiac arrest, but no one ever witnessed this directly. \n",
    "\n",
    "There were 1641 shifts in total. Each shift was classified according to whether or not there was at least one death and whether or not Gilbert was present. Of the 1641 shifts, Gilbert was present a total 257 shifts. Of those 257 shifts, she was present in 40 shifts where at least there was one death. The total number of deaths in these 1641 shifts is 74. "
   ]
  },
  {
   "cell_type": "code",
   "execution_count": 59,
   "metadata": {},
   "outputs": [
    {
     "data": {
      "text/plain": [
       "11.595051361867704"
      ]
     },
     "execution_count": 59,
     "metadata": {},
     "output_type": "execute_result"
    }
   ],
   "source": [
    "# The suggested model\n",
    "shifts_ratio = [257/1641, 1384/1641]\n",
    "\n",
    "counts = []\n",
    "iterations = 10000\n",
    "\n",
    "for i in np.arange(iterations):\n",
    "    sample_distribution = sample_proportions(257, shifts_ratio)\n",
    "    # expected value of death during Gilbert's shift\n",
    "    sampled_count = 74 * sample_distribution[0]\n",
    "    counts.append(sampled_count)\n",
    "\n",
    "np.mean(counts)"
   ]
  },
  {
   "cell_type": "code",
   "execution_count": 67,
   "metadata": {},
   "outputs": [
    {
     "data": {
      "image/png": "[encoded data removed]",
      "text/plain": [
       "<Figure size 432x288 with 1 Axes>"
      ]
     },
     "metadata": {
      "needs_background": "light"
     },
     "output_type": "display_data"
    }
   ],
   "source": [
    "# Draw the histogram\n",
    "Table().with_column('Number of Shifts with at Least One Death', counts).hist(bins = np.arange(5, 20, 0.8))"
   ]
  },
  {
   "cell_type": "markdown",
   "metadata": {},
   "source": [
    "At Gilbert's presence, the expected value of shifts where Gilbert saw at least one death was supposed to be around 12. However, Of those 257 shifts, Gilbert was present in 40 shifts where at least there was one death. Thus, the suspicious of Gilbert injecting those patients with ephedrine came into light! "
   ]
  },
  {
   "cell_type": "code",
   "execution_count": null,
   "metadata": {},
   "outputs": [],
   "source": []
  }
 ],
 "metadata": {
  "kernelspec": {
   "display_name": "Python 3",
   "language": "python",
   "name": "python3"
  },
  "language_info": {
   "codemirror_mode": {
    "name": "ipython",
    "version": 3
   },
   "file_extension": ".py",
   "mimetype": "text/x-python",
   "name": "python",
   "nbconvert_exporter": "python",
   "pygments_lexer": "ipython3",
   "version": "3.7.3"
  }
 },
 "nbformat": 4,
 "nbformat_minor": 2
}
