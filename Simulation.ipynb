{
 "cells": [
  {
   "cell_type": "markdown",
   "metadata": {},
   "source": [
    "### Import Modules"
   ]
  },
  {
   "cell_type": "code",
   "execution_count": 8,
   "metadata": {},
   "outputs": [],
   "source": [
    "from datascience import *\n",
    "import numpy as np\n",
    "\n",
    "%matplotlib inline\n",
    "import matplotlib.pyplot as plots\n",
    "plots.style.use('fivethirtyeight')"
   ]
  },
  {
   "cell_type": "markdown",
   "metadata": {},
   "source": [
    "## Choice"
   ]
  },
  {
   "cell_type": "code",
   "execution_count": 12,
   "metadata": {},
   "outputs": [
    {
     "data": {
      "text/plain": [
       "array(['control', 'control', 'control', 'control', 'treatment',\n",
       "       'treatment', 'control', 'treatment', 'control', 'control'],\n",
       "      dtype='<U9')"
      ]
     },
     "execution_count": 12,
     "metadata": {},
     "output_type": "execute_result"
    }
   ],
   "source": [
    "outcomes = np.random.choice(two_groups, 10)\n",
    "outcomes"
   ]
  },
  {
   "cell_type": "code",
   "execution_count": 14,
   "metadata": {},
   "outputs": [
    {
     "data": {
      "text/plain": [
       "array([ True,  True,  True,  True, False, False,  True, False,  True,\n",
       "        True])"
      ]
     },
     "execution_count": 14,
     "metadata": {},
     "output_type": "execute_result"
    }
   ],
   "source": [
    "outcomes == 'control'"
   ]
  },
  {
   "cell_type": "code",
   "execution_count": 16,
   "metadata": {},
   "outputs": [
    {
     "data": {
      "text/plain": [
       "7"
      ]
     },
     "execution_count": 16,
     "metadata": {},
     "output_type": "execute_result"
    }
   ],
   "source": [
    "sum(outcomes == 'control')"
   ]
  },
  {
   "cell_type": "code",
   "execution_count": 17,
   "metadata": {},
   "outputs": [
    {
     "data": {
      "text/plain": [
       "3"
      ]
     },
     "execution_count": 17,
     "metadata": {},
     "output_type": "execute_result"
    }
   ],
   "source": [
    "sum(outcomes == 'treatment')"
   ]
  },
  {
   "cell_type": "code",
   "execution_count": 18,
   "metadata": {},
   "outputs": [
    {
     "data": {
      "text/plain": [
       "3"
      ]
     },
     "execution_count": 18,
     "metadata": {},
     "output_type": "execute_result"
    }
   ],
   "source": [
    "np.count_nonzero(outcomes == 'treatment')"
   ]
  },
  {
   "cell_type": "markdown",
   "metadata": {},
   "source": [
    "### Simulation of Rolling Fair die"
   ]
  },
  {
   "cell_type": "code",
   "execution_count": 19,
   "metadata": {},
   "outputs": [
    {
     "data": {
      "text/html": [
       "<table border=\"1\" class=\"dataframe\">\n",
       "    <thead>\n",
       "        <tr>\n",
       "            <th>Outcome</th> <th>count</th>\n",
       "        </tr>\n",
       "    </thead>\n",
       "    <tbody>\n",
       "        <tr>\n",
       "            <td>2      </td> <td>28   </td>\n",
       "        </tr>\n",
       "        <tr>\n",
       "            <td>3      </td> <td>53   </td>\n",
       "        </tr>\n",
       "        <tr>\n",
       "            <td>4      </td> <td>79   </td>\n",
       "        </tr>\n",
       "        <tr>\n",
       "            <td>5      </td> <td>121  </td>\n",
       "        </tr>\n",
       "        <tr>\n",
       "            <td>6      </td> <td>146  </td>\n",
       "        </tr>\n",
       "        <tr>\n",
       "            <td>7      </td> <td>183  </td>\n",
       "        </tr>\n",
       "        <tr>\n",
       "            <td>8      </td> <td>143  </td>\n",
       "        </tr>\n",
       "        <tr>\n",
       "            <td>9      </td> <td>103  </td>\n",
       "        </tr>\n",
       "        <tr>\n",
       "            <td>10     </td> <td>76   </td>\n",
       "        </tr>\n",
       "        <tr>\n",
       "            <td>11     </td> <td>53   </td>\n",
       "        </tr>\n",
       "        <tr>\n",
       "            <td>12     </td> <td>15   </td>\n",
       "        </tr>\n",
       "    </tbody>\n",
       "</table>"
      ],
      "text/plain": [
       "<IPython.core.display.HTML object>"
      ]
     },
     "metadata": {},
     "output_type": "display_data"
    }
   ],
   "source": [
    "# Roll two die 1000 times (Sum of two RVs. Don't multiple by 2) \n",
    "outcomes = np.random.choice(np.arange(7), 1000) + np.random.choice(np.arange(7), 1000)\n",
    "Table().with_column(\"Outcome\", outcomes).group(0).show()"
   ]
  },
  {
   "cell_type": "code",
   "execution_count": 20,
   "metadata": {},
   "outputs": [
    {
     "data": {
      "image/png": "[encoded data removed]",
      "text/plain": [
       "<Figure size 432x288 with 1 Axes>"
      ]
     },
     "metadata": {},
     "output_type": "display_data"
    }
   ],
   "source": [
    "Table().with_column(\"Outcome\", outcomes).group(0).bar('Outcome')   # Normally distributed."
   ]
  },
  {
   "cell_type": "code",
   "execution_count": 21,
   "metadata": {},
   "outputs": [
    {
     "data": {
      "text/html": [
       "<table border=\"1\" class=\"dataframe\">\n",
       "    <thead>\n",
       "        <tr>\n",
       "            <th>Outcome</th> <th>count</th>\n",
       "        </tr>\n",
       "    </thead>\n",
       "    <tbody>\n",
       "        <tr>\n",
       "            <td>2      </td> <td>173  </td>\n",
       "        </tr>\n",
       "        <tr>\n",
       "            <td>4      </td> <td>162  </td>\n",
       "        </tr>\n",
       "        <tr>\n",
       "            <td>6      </td> <td>159  </td>\n",
       "        </tr>\n",
       "        <tr>\n",
       "            <td>8      </td> <td>161  </td>\n",
       "        </tr>\n",
       "        <tr>\n",
       "            <td>10     </td> <td>183  </td>\n",
       "        </tr>\n",
       "        <tr>\n",
       "            <td>12     </td> <td>162  </td>\n",
       "        </tr>\n",
       "    </tbody>\n",
       "</table>"
      ],
      "text/plain": [
       "Outcome | count\n",
       "2       | 173\n",
       "4       | 162\n",
       "6       | 159\n",
       "8       | 161\n",
       "10      | 183\n",
       "12      | 162"
      ]
     },
     "execution_count": 21,
     "metadata": {},
     "output_type": "execute_result"
    }
   ],
   "source": [
    "outcomes2 = 2 * np.random.choice(np.arange(1, 7), 1000)       # A different distribution than the one above!\n",
    "Table().with_column('Outcome', outcomes2).group(0)       "
   ]
  },
  {
   "cell_type": "code",
   "execution_count": 22,
   "metadata": {},
   "outputs": [
    {
     "data": {
      "image/png": "[encoded data removed]",
      "text/plain": [
       "<Figure size 432x288 with 1 Axes>"
      ]
     },
     "metadata": {},
     "output_type": "display_data"
    }
   ],
   "source": [
    "Table().with_column(\"Outcome\", outcomes2).group(0).bar('Outcome')    # Aproximately Uniformly distributed"
   ]
  },
  {
   "cell_type": "markdown",
   "metadata": {},
   "source": [
    "## Simulation of Flipping a Fair Coin 100 Times"
   ]
  },
  {
   "cell_type": "code",
   "execution_count": 28,
   "metadata": {},
   "outputs": [
    {
     "data": {
      "text/plain": [
       "'heads'"
      ]
     },
     "execution_count": 28,
     "metadata": {},
     "output_type": "execute_result"
    }
   ],
   "source": [
    "coin = make_array('heads', 'tails')\n",
    "np.random.choice(coin)"
   ]
  },
  {
   "cell_type": "code",
   "execution_count": 29,
   "metadata": {},
   "outputs": [
    {
     "data": {
      "text/plain": [
       "318"
      ]
     },
     "execution_count": 29,
     "metadata": {},
     "output_type": "execute_result"
    }
   ],
   "source": [
    "sum(np.random.choice(coin, 600) == 'heads')"
   ]
  },
  {
   "cell_type": "code",
   "execution_count": 30,
   "metadata": {},
   "outputs": [
    {
     "data": {
      "text/plain": [
       "array([47])"
      ]
     },
     "execution_count": 30,
     "metadata": {},
     "output_type": "execute_result"
    }
   ],
   "source": [
    "num_heads = make_array(sum(np.random.choice(coin, 100) == 'heads'))\n",
    "num_heads"
   ]
  },
  {
   "cell_type": "code",
   "execution_count": 31,
   "metadata": {},
   "outputs": [
    {
     "data": {
      "text/plain": [
       "array([47, 57])"
      ]
     },
     "execution_count": 31,
     "metadata": {},
     "output_type": "execute_result"
    }
   ],
   "source": [
    "num_heads = np.append(num_heads, sum(np.random.choice(coin, 100) == 'heads'))\n",
    "num_heads"
   ]
  },
  {
   "cell_type": "code",
   "execution_count": 32,
   "metadata": {},
   "outputs": [
    {
     "data": {
      "text/plain": [
       "10000"
      ]
     },
     "execution_count": 32,
     "metadata": {},
     "output_type": "execute_result"
    }
   ],
   "source": [
    "num_heads = []\n",
    "for i in np.arange(10000):\n",
    "    num_heads = np.append(num_heads, sum(np.random.choice(coin, 100) == 'heads'))\n",
    "len(num_heads)"
   ]
  },
  {
   "cell_type": "code",
   "execution_count": 33,
   "metadata": {},
   "outputs": [
    {
     "data": {
      "image/png": "[encoded data removed]",
      "text/plain": [
       "<Figure size 432x288 with 1 Axes>"
      ]
     },
     "metadata": {},
     "output_type": "display_data"
    }
   ],
   "source": [
    "t = Table().with_column('Heads in 100 coin flips', num_heads)\n",
    "t.hist(bins=np.arange(30, 70, 1))"
   ]
  },
  {
   "cell_type": "code",
   "execution_count": 34,
   "metadata": {},
   "outputs": [
    {
     "data": {
      "text/html": [
       "<table border=\"1\" class=\"dataframe\">\n",
       "    <thead>\n",
       "        <tr>\n",
       "            <th>Heads in 100 coin flips</th>\n",
       "        </tr>\n",
       "    </thead>\n",
       "    <tbody>\n",
       "        <tr>\n",
       "            <td>50                     </td>\n",
       "        </tr>\n",
       "        <tr>\n",
       "            <td>60                     </td>\n",
       "        </tr>\n",
       "        <tr>\n",
       "            <td>53                     </td>\n",
       "        </tr>\n",
       "        <tr>\n",
       "            <td>63                     </td>\n",
       "        </tr>\n",
       "        <tr>\n",
       "            <td>49                     </td>\n",
       "        </tr>\n",
       "        <tr>\n",
       "            <td>39                     </td>\n",
       "        </tr>\n",
       "        <tr>\n",
       "            <td>43                     </td>\n",
       "        </tr>\n",
       "        <tr>\n",
       "            <td>57                     </td>\n",
       "        </tr>\n",
       "        <tr>\n",
       "            <td>53                     </td>\n",
       "        </tr>\n",
       "        <tr>\n",
       "            <td>50                     </td>\n",
       "        </tr>\n",
       "    </tbody>\n",
       "</table>\n",
       "<p>... (9990 rows omitted)</p>"
      ],
      "text/plain": [
       "Heads in 100 coin flips\n",
       "50\n",
       "60\n",
       "53\n",
       "63\n",
       "49\n",
       "39\n",
       "43\n",
       "57\n",
       "53\n",
       "50\n",
       "... (9990 rows omitted)"
      ]
     },
     "execution_count": 34,
     "metadata": {},
     "output_type": "execute_result"
    }
   ],
   "source": [
    "t"
   ]
  },
  {
   "cell_type": "code",
   "execution_count": 47,
   "metadata": {},
   "outputs": [
    {
     "data": {
      "text/html": [
       "<table border=\"1\" class=\"dataframe\">\n",
       "    <thead>\n",
       "        <tr>\n",
       "            <th>Heads in 100 coin flips</th> <th>count</th>\n",
       "        </tr>\n",
       "    </thead>\n",
       "    <tbody>\n",
       "        <tr>\n",
       "            <td>40                     </td> <td>96   </td>\n",
       "        </tr>\n",
       "        <tr>\n",
       "            <td>41                     </td> <td>139  </td>\n",
       "        </tr>\n",
       "        <tr>\n",
       "            <td>42                     </td> <td>210  </td>\n",
       "        </tr>\n",
       "        <tr>\n",
       "            <td>43                     </td> <td>316  </td>\n",
       "        </tr>\n",
       "        <tr>\n",
       "            <td>44                     </td> <td>383  </td>\n",
       "        </tr>\n",
       "        <tr>\n",
       "            <td>45                     </td> <td>508  </td>\n",
       "        </tr>\n",
       "        <tr>\n",
       "            <td>46                     </td> <td>602  </td>\n",
       "        </tr>\n",
       "        <tr>\n",
       "            <td>47                     </td> <td>660  </td>\n",
       "        </tr>\n",
       "        <tr>\n",
       "            <td>48                     </td> <td>748  </td>\n",
       "        </tr>\n",
       "        <tr>\n",
       "            <td>49                     </td> <td>771  </td>\n",
       "        </tr>\n",
       "    </tbody>\n",
       "</table>\n",
       "<p>... (10 rows omitted)</p>"
      ],
      "text/plain": [
       "Heads in 100 coin flips | count\n",
       "40                      | 96\n",
       "41                      | 139\n",
       "42                      | 210\n",
       "43                      | 316\n",
       "44                      | 383\n",
       "45                      | 508\n",
       "46                      | 602\n",
       "47                      | 660\n",
       "48                      | 748\n",
       "49                      | 771\n",
       "... (10 rows omitted)"
      ]
     },
     "execution_count": 47,
     "metadata": {},
     "output_type": "execute_result"
    }
   ],
   "source": [
    "most = t.group(0).where(0, are.between(40, 60))\n",
    "most"
   ]
  },
  {
   "cell_type": "code",
   "execution_count": 49,
   "metadata": {},
   "outputs": [
    {
     "data": {
      "text/plain": [
       "95.27"
      ]
     },
     "execution_count": 49,
     "metadata": {},
     "output_type": "execute_result"
    }
   ],
   "source": [
    "sum(most.column('count')) / t.num_rows * 100    # 95% of the number of heads in 100 coin flips is between 40 and 60. "
   ]
  },
  {
   "cell_type": "markdown",
   "metadata": {},
   "source": [
    "### Using Z-Scores and Normal Distribution "
   ]
  },
  {
   "cell_type": "code",
   "execution_count": 43,
   "metadata": {},
   "outputs": [
    {
     "name": "stdout",
     "output_type": "stream",
     "text": [
      "5.005966643916175\n"
     ]
    },
    {
     "data": {
      "text/plain": [
       "5.005966643916038"
      ]
     },
     "execution_count": 43,
     "metadata": {},
     "output_type": "execute_result"
    }
   ],
   "source": [
    "# Of flipping the coin 100 times, assume the average of getting a head is 50\n",
    "x_bar = np.average(t.column('Heads in 100 coin flips'))\n",
    "# Standard deviation\n",
    "n = len(t.column('Heads in 100 coin flips'))\n",
    "variance = sum([((x - x_bar) ** 2) for x in t.column('Heads in 100 coin flips')]) / n\n",
    "s = variance ** 0.5\n",
    "print(s)\n",
    "# We could also use np.std()\n",
    "np.std(t.column('Heads in 100 coin flips'))"
   ]
  },
  {
   "cell_type": "code",
   "execution_count": 37,
   "metadata": {},
   "outputs": [
    {
     "data": {
      "text/plain": [
       "49.9286"
      ]
     },
     "execution_count": 37,
     "metadata": {},
     "output_type": "execute_result"
    }
   ],
   "source": [
    "x_bar"
   ]
  },
  {
   "cell_type": "code",
   "execution_count": 40,
   "metadata": {},
   "outputs": [
    {
     "data": {
      "text/plain": [
       "(-1.9833532075301332, 2.011879166682007)"
      ]
     },
     "execution_count": 40,
     "metadata": {},
     "output_type": "execute_result"
    }
   ],
   "source": [
    "# Z Scores\n",
    "Z1 = (40 - x_bar) / s\n",
    "Z2 = (60 - x_bar) / s\n",
    "Z1, Z2"
   ]
  },
  {
   "cell_type": "code",
   "execution_count": 44,
   "metadata": {},
   "outputs": [
    {
     "data": {
      "text/plain": [
       "95.42"
      ]
     },
     "execution_count": 44,
     "metadata": {},
     "output_type": "execute_result"
    }
   ],
   "source": [
    "# P(40 < X < 60) = P(X < 60) - P(X < 40) = P(Z < Z1) - P(Z < Z2) \n",
    "import scipy.stats as st\n",
    "round((st.norm.cdf(Z2) - st.norm.cdf(Z1)) * 100, 2)"
   ]
  }
 ],
 "metadata": {
  "kernelspec": {
   "display_name": "Python 3",
   "language": "python",
   "name": "python3"
  },
  "language_info": {
   "codemirror_mode": {
    "name": "ipython",
    "version": 3
   },
   "file_extension": ".py",
   "mimetype": "text/x-python",
   "name": "python",
   "nbconvert_exporter": "python",
   "pygments_lexer": "ipython3",
   "version": "3.7.3"
  }
 },
 "nbformat": 4,
 "nbformat_minor": 2
}
