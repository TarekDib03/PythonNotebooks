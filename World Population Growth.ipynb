{
 "cells": [
  {
   "cell_type": "markdown",
   "metadata": {},
   "source": [
    "# World Population Progress Through History"
   ]
  },
  {
   "cell_type": "code",
   "execution_count": 1,
   "metadata": {},
   "outputs": [],
   "source": [
    "# These lines import the Numpy and Datascience modules.\n",
    "import numpy as np\n",
    "from datascience import *\n",
    "\n",
    "# These lines do some fancy plotting magic.\n",
    "import matplotlib\n",
    "%matplotlib inline\n",
    "import matplotlib.pyplot as plots\n",
    "plots.style.use('fivethirtyeight')\n",
    "\n",
    "from ipywidgets import interact, interactive, fixed, interact_manual\n",
    "import ipywidgets as widgets"
   ]
  },
  {
   "cell_type": "code",
   "execution_count": 26,
   "metadata": {},
   "outputs": [
    {
     "data": {
      "text/html": [
       "<table border=\"1\" class=\"dataframe\">\n",
       "    <thead>\n",
       "        <tr>\n",
       "            <th>time</th> <th>Total Population</th>\n",
       "        </tr>\n",
       "    </thead>\n",
       "    <tbody>\n",
       "        <tr>\n",
       "            <td>1800</td> <td>948,784,816     </td>\n",
       "        </tr>\n",
       "        <tr>\n",
       "            <td>1801</td> <td>952,969,354     </td>\n",
       "        </tr>\n",
       "        <tr>\n",
       "            <td>1802</td> <td>957,188,652     </td>\n",
       "        </tr>\n",
       "        <tr>\n",
       "            <td>1803</td> <td>961,450,077     </td>\n",
       "        </tr>\n",
       "        <tr>\n",
       "            <td>1804</td> <td>965,746,378     </td>\n",
       "        </tr>\n",
       "        <tr>\n",
       "            <td>1805</td> <td>970,075,767     </td>\n",
       "        </tr>\n",
       "        <tr>\n",
       "            <td>1806</td> <td>974,435,944     </td>\n",
       "        </tr>\n",
       "        <tr>\n",
       "            <td>1807</td> <td>978,823,346     </td>\n",
       "        </tr>\n",
       "        <tr>\n",
       "            <td>1808</td> <td>983,237,625     </td>\n",
       "        </tr>\n",
       "        <tr>\n",
       "            <td>1809</td> <td>987,671,330     </td>\n",
       "        </tr>\n",
       "    </tbody>\n",
       "</table>\n",
       "<p>... (291 rows omitted)</p>"
      ],
      "text/plain": [
       "time | Total Population\n",
       "1800 | 948,784,816\n",
       "1801 | 952,969,354\n",
       "1802 | 957,188,652\n",
       "1803 | 961,450,077\n",
       "1804 | 965,746,378\n",
       "1805 | 970,075,767\n",
       "1806 | 974,435,944\n",
       "1807 | 978,823,346\n",
       "1808 | 983,237,625\n",
       "1809 | 987,671,330\n",
       "... (291 rows omitted)"
      ]
     },
     "execution_count": 26,
     "metadata": {},
     "output_type": "execute_result"
    }
   ],
   "source": [
    "population = Table.read_table(\"https://github.com/open-numbers/ddf--gapminder--systema_globalis/raw/master/ddf--datapoints--population_total--by--geo--time.csv\")\n",
    "population = population.set_format(\"population_total\", NumberFormatter)\n",
    "pop = population.drop(0)\n",
    "pop.group(0, sum).relabeled(1, \"Total Population\").set_format(1, NumberFormatter)"
   ]
  },
  {
   "cell_type": "code",
   "execution_count": 3,
   "metadata": {},
   "outputs": [
    {
     "data": {
      "text/html": [
       "<table border=\"1\" class=\"dataframe\">\n",
       "    <thead>\n",
       "        <tr>\n",
       "            <th>time</th> <th>population_total</th>\n",
       "        </tr>\n",
       "    </thead>\n",
       "    <tbody>\n",
       "        <tr>\n",
       "            <td>1970</td> <td>65,047,770      </td>\n",
       "        </tr>\n",
       "        <tr>\n",
       "            <td>1971</td> <td>66,424,744      </td>\n",
       "        </tr>\n",
       "        <tr>\n",
       "            <td>1972</td> <td>67,597,470      </td>\n",
       "        </tr>\n",
       "        <tr>\n",
       "            <td>1973</td> <td>68,691,185      </td>\n",
       "        </tr>\n",
       "        <tr>\n",
       "            <td>1974</td> <td>69,884,420      </td>\n",
       "        </tr>\n",
       "        <tr>\n",
       "            <td>1975</td> <td>71,305,923      </td>\n",
       "        </tr>\n",
       "        <tr>\n",
       "            <td>1976</td> <td>72,999,136      </td>\n",
       "        </tr>\n",
       "        <tr>\n",
       "            <td>1977</td> <td>74,925,896      </td>\n",
       "        </tr>\n",
       "        <tr>\n",
       "            <td>1978</td> <td>77,033,846      </td>\n",
       "        </tr>\n",
       "        <tr>\n",
       "            <td>1979</td> <td>79,236,776      </td>\n",
       "        </tr>\n",
       "    </tbody>\n",
       "</table>\n",
       "<p>... (36 rows omitted)</p>"
      ],
      "text/plain": [
       "time | population_total\n",
       "1970 | 65,047,770\n",
       "1971 | 66,424,744\n",
       "1972 | 67,597,470\n",
       "1973 | 68,691,185\n",
       "1974 | 69,884,420\n",
       "1975 | 71,305,923\n",
       "1976 | 72,999,136\n",
       "1977 | 74,925,896\n",
       "1978 | 77,033,846\n",
       "1979 | 79,236,776\n",
       "... (36 rows omitted)"
      ]
     },
     "execution_count": 3,
     "metadata": {},
     "output_type": "execute_result"
    }
   ],
   "source": [
    "# Population of Bangledesh between 1970 and 2015 inclusively using the where method and the predicate are.between_or_equal_to\n",
    "b_pop = population.where(\"geo\", \"bgd\").drop(\"geo\").where(\"time\", are.between_or_equal_to(1970, 2015))\n",
    "b_pop"
   ]
  },
  {
   "cell_type": "code",
   "execution_count": 4,
   "metadata": {},
   "outputs": [
    {
     "data": {
      "text/html": [
       "<table border=\"1\" class=\"dataframe\">\n",
       "    <thead>\n",
       "        <tr>\n",
       "            <th>time</th> <th>population_total</th>\n",
       "        </tr>\n",
       "    </thead>\n",
       "    <tbody>\n",
       "        <tr>\n",
       "            <td>1970</td> <td>65,047,770      </td>\n",
       "        </tr>\n",
       "        <tr>\n",
       "            <td>2015</td> <td>161,200,886     </td>\n",
       "        </tr>\n",
       "    </tbody>\n",
       "</table>"
      ],
      "text/plain": [
       "time | population_total\n",
       "1970 | 65,047,770\n",
       "2015 | 161,200,886"
      ]
     },
     "execution_count": 4,
     "metadata": {},
     "output_type": "execute_result"
    }
   ],
   "source": [
    "# Return only the years 1970 and 2015\n",
    "a = make_array(1970, 2015)\n",
    "#b_pop.take([0,b_pop.num_rows-1])\n",
    "b_pop.where('time', are.contained_in(a))"
   ]
  },
  {
   "cell_type": "code",
   "execution_count": 5,
   "metadata": {},
   "outputs": [
    {
     "data": {
      "text/plain": [
       "datascience.tables.Table"
      ]
     },
     "execution_count": 5,
     "metadata": {},
     "output_type": "execute_result"
    }
   ],
   "source": [
    "type(population.select('time', 'geo'))"
   ]
  },
  {
   "cell_type": "code",
   "execution_count": 6,
   "metadata": {},
   "outputs": [
    {
     "data": {
      "text/plain": [
       "array([1800, 1801, 1802, ..., 2098, 2099, 2100])"
      ]
     },
     "execution_count": 6,
     "metadata": {},
     "output_type": "execute_result"
    }
   ],
   "source": [
    "population.column(1)"
   ]
  },
  {
   "cell_type": "code",
   "execution_count": 7,
   "metadata": {},
   "outputs": [
    {
     "data": {
      "text/plain": [
       "(array(['afg', 'afg', 'afg', ..., 'zwe', 'zwe', 'zwe'], dtype='<U3'),\n",
       " array([1800, 1801, 1802, ..., 2098, 2099, 2100]),\n",
       " array([ 3280000,  3280000,  3280000, ..., 40591626, 40642628, 40687107]))"
      ]
     },
     "execution_count": 7,
     "metadata": {},
     "output_type": "execute_result"
    }
   ],
   "source": [
    "population.columns"
   ]
  },
  {
   "cell_type": "code",
   "execution_count": 8,
   "metadata": {},
   "outputs": [
    {
     "data": {
      "text/plain": [
       "3"
      ]
     },
     "execution_count": 8,
     "metadata": {},
     "output_type": "execute_result"
    }
   ],
   "source": [
    "population.num_columns"
   ]
  },
  {
   "cell_type": "code",
   "execution_count": 9,
   "metadata": {},
   "outputs": [
    {
     "data": {
      "text/html": [
       "<table border=\"1\" class=\"dataframe\">\n",
       "    <thead>\n",
       "        <tr>\n",
       "            <th>time</th> <th>population_total</th>\n",
       "        </tr>\n",
       "    </thead>\n",
       "    <tbody>\n",
       "        <tr>\n",
       "            <td>1970</td> <td>65,047,770      </td>\n",
       "        </tr>\n",
       "        <tr>\n",
       "            <td>1975</td> <td>71,305,923      </td>\n",
       "        </tr>\n",
       "        <tr>\n",
       "            <td>1980</td> <td>81,470,860      </td>\n",
       "        </tr>\n",
       "        <tr>\n",
       "            <td>1985</td> <td>93,199,865      </td>\n",
       "        </tr>\n",
       "        <tr>\n",
       "            <td>1990</td> <td>106,188,642     </td>\n",
       "        </tr>\n",
       "        <tr>\n",
       "            <td>1995</td> <td>118,706,871     </td>\n",
       "        </tr>\n",
       "        <tr>\n",
       "            <td>2000</td> <td>131,581,243     </td>\n",
       "        </tr>\n",
       "        <tr>\n",
       "            <td>2005</td> <td>143,431,101     </td>\n",
       "        </tr>\n",
       "        <tr>\n",
       "            <td>2010</td> <td>152,149,102     </td>\n",
       "        </tr>\n",
       "        <tr>\n",
       "            <td>2015</td> <td>161,200,886     </td>\n",
       "        </tr>\n",
       "    </tbody>\n",
       "</table>"
      ],
      "text/plain": [
       "time | population_total\n",
       "1970 | 65,047,770\n",
       "1975 | 71,305,923\n",
       "1980 | 81,470,860\n",
       "1985 | 93,199,865\n",
       "1990 | 106,188,642\n",
       "1995 | 118,706,871\n",
       "2000 | 131,581,243\n",
       "2005 | 143,431,101\n",
       "2010 | 152,149,102\n",
       "2015 | 161,200,886"
      ]
     },
     "execution_count": 9,
     "metadata": {},
     "output_type": "execute_result"
    }
   ],
   "source": [
    "# Population of Bangledesh from 1970 to 2015 every 5 years\n",
    "fives = np.arange(1970, 2016, 5) # 1970, 1975, 1980, ...\n",
    "b_five = b_pop.sort('time').where('time', are.contained_in(fives))\n",
    "b_five"
   ]
  },
  {
   "cell_type": "markdown",
   "metadata": {},
   "source": [
    "Create a table called `b_five_growth` which shows the growth rate for each five-year period from 1970 through 2010."
   ]
  },
  {
   "cell_type": "code",
   "execution_count": 10,
   "metadata": {},
   "outputs": [
    {
     "data": {
      "text/html": [
       "<table border=\"1\" class=\"dataframe\">\n",
       "    <thead>\n",
       "        <tr>\n",
       "            <th>time</th> <th>population_total</th>\n",
       "        </tr>\n",
       "    </thead>\n",
       "    <tbody>\n",
       "        <tr>\n",
       "            <td>1975</td> <td>71,305,923      </td>\n",
       "        </tr>\n",
       "        <tr>\n",
       "            <td>1980</td> <td>81,470,860      </td>\n",
       "        </tr>\n",
       "        <tr>\n",
       "            <td>1985</td> <td>93,199,865      </td>\n",
       "        </tr>\n",
       "        <tr>\n",
       "            <td>1990</td> <td>106,188,642     </td>\n",
       "        </tr>\n",
       "        <tr>\n",
       "            <td>1995</td> <td>118,706,871     </td>\n",
       "        </tr>\n",
       "        <tr>\n",
       "            <td>2000</td> <td>131,581,243     </td>\n",
       "        </tr>\n",
       "        <tr>\n",
       "            <td>2005</td> <td>143,431,101     </td>\n",
       "        </tr>\n",
       "        <tr>\n",
       "            <td>2010</td> <td>152,149,102     </td>\n",
       "        </tr>\n",
       "        <tr>\n",
       "            <td>2015</td> <td>161,200,886     </td>\n",
       "        </tr>\n",
       "    </tbody>\n",
       "</table>"
      ],
      "text/plain": [
       "time | population_total\n",
       "1975 | 71,305,923\n",
       "1980 | 81,470,860\n",
       "1985 | 93,199,865\n",
       "1990 | 106,188,642\n",
       "1995 | 118,706,871\n",
       "2000 | 131,581,243\n",
       "2005 | 143,431,101\n",
       "2010 | 152,149,102\n",
       "2015 | 161,200,886"
      ]
     },
     "execution_count": 10,
     "metadata": {},
     "output_type": "execute_result"
    }
   ],
   "source": [
    "# Exclude the first row\n",
    "b_five.exclude(0)"
   ]
  },
  {
   "cell_type": "code",
   "execution_count": 11,
   "metadata": {},
   "outputs": [
    {
     "data": {
      "text/html": [
       "<table border=\"1\" class=\"dataframe\">\n",
       "    <thead>\n",
       "        <tr>\n",
       "            <th>time</th> <th>population_total</th> <th>annual_growth</th>\n",
       "        </tr>\n",
       "    </thead>\n",
       "    <tbody>\n",
       "        <tr>\n",
       "            <td>1970</td> <td>65,047,770      </td> <td>1.85%        </td>\n",
       "        </tr>\n",
       "        <tr>\n",
       "            <td>1975</td> <td>71,305,923      </td> <td>2.70%        </td>\n",
       "        </tr>\n",
       "        <tr>\n",
       "            <td>1980</td> <td>81,470,860      </td> <td>2.73%        </td>\n",
       "        </tr>\n",
       "        <tr>\n",
       "            <td>1985</td> <td>93,199,865      </td> <td>2.64%        </td>\n",
       "        </tr>\n",
       "        <tr>\n",
       "            <td>1990</td> <td>106,188,642     </td> <td>2.25%        </td>\n",
       "        </tr>\n",
       "        <tr>\n",
       "            <td>1995</td> <td>118,706,871     </td> <td>2.08%        </td>\n",
       "        </tr>\n",
       "        <tr>\n",
       "            <td>2000</td> <td>131,581,243     </td> <td>1.74%        </td>\n",
       "        </tr>\n",
       "        <tr>\n",
       "            <td>2005</td> <td>143,431,101     </td> <td>1.19%        </td>\n",
       "        </tr>\n",
       "        <tr>\n",
       "            <td>2010</td> <td>152,149,102     </td> <td>1.16%        </td>\n",
       "        </tr>\n",
       "    </tbody>\n",
       "</table>"
      ],
      "text/plain": [
       "time | population_total | annual_growth\n",
       "1970 | 65,047,770       | 1.85%\n",
       "1975 | 71,305,923       | 2.70%\n",
       "1980 | 81,470,860       | 2.73%\n",
       "1985 | 93,199,865       | 2.64%\n",
       "1990 | 106,188,642      | 2.25%\n",
       "1995 | 118,706,871      | 2.08%\n",
       "2000 | 131,581,243      | 1.74%\n",
       "2005 | 143,431,101      | 1.19%\n",
       "2010 | 152,149,102      | 1.16%"
      ]
     },
     "execution_count": 11,
     "metadata": {},
     "output_type": "execute_result"
    }
   ],
   "source": [
    "b_1970_through_2010 = b_five.where('time', are.below_or_equal_to(2010))\n",
    "# Example: population in 1975 / population in 1970,......, population in 2015 / population in 2010\n",
    "b_five_growth = b_1970_through_2010.with_column('annual_growth', (b_five.exclude(0).column(1)/b_1970_through_2010.column(1))**0.2-1)\n",
    "b_five_growth.set_format('annual_growth', PercentFormatter)"
   ]
  },
  {
   "cell_type": "code",
   "execution_count": 12,
   "metadata": {},
   "outputs": [
    {
     "data": {
      "text/html": [
       "<table border=\"1\" class=\"dataframe\">\n",
       "    <thead>\n",
       "        <tr>\n",
       "            <th>time</th> <th>population_total</th>\n",
       "        </tr>\n",
       "    </thead>\n",
       "    <tbody>\n",
       "        <tr>\n",
       "            <td>1970</td> <td>65,047,770      </td>\n",
       "        </tr>\n",
       "        <tr>\n",
       "            <td>1975</td> <td>71,305,923      </td>\n",
       "        </tr>\n",
       "        <tr>\n",
       "            <td>1980</td> <td>81,470,860      </td>\n",
       "        </tr>\n",
       "        <tr>\n",
       "            <td>1985</td> <td>93,199,865      </td>\n",
       "        </tr>\n",
       "        <tr>\n",
       "            <td>1990</td> <td>106,188,642     </td>\n",
       "        </tr>\n",
       "        <tr>\n",
       "            <td>1995</td> <td>118,706,871     </td>\n",
       "        </tr>\n",
       "        <tr>\n",
       "            <td>2000</td> <td>131,581,243     </td>\n",
       "        </tr>\n",
       "        <tr>\n",
       "            <td>2005</td> <td>143,431,101     </td>\n",
       "        </tr>\n",
       "        <tr>\n",
       "            <td>2010</td> <td>152,149,102     </td>\n",
       "        </tr>\n",
       "    </tbody>\n",
       "</table>"
      ],
      "text/plain": [
       "time | population_total\n",
       "1970 | 65,047,770\n",
       "1975 | 71,305,923\n",
       "1980 | 81,470,860\n",
       "1985 | 93,199,865\n",
       "1990 | 106,188,642\n",
       "1995 | 118,706,871\n",
       "2000 | 131,581,243\n",
       "2005 | 143,431,101\n",
       "2010 | 152,149,102"
      ]
     },
     "execution_count": 12,
     "metadata": {},
     "output_type": "execute_result"
    }
   ],
   "source": [
    "b_1970_through_2010"
   ]
  },
  {
   "cell_type": "code",
   "execution_count": 15,
   "metadata": {},
   "outputs": [
    {
     "data": {
      "text/plain": [
       "1.85"
      ]
     },
     "execution_count": 15,
     "metadata": {},
     "output_type": "execute_result"
    }
   ],
   "source": [
    "round(((71305923 / 65047770)**0.2 - 1)*100, 2)"
   ]
  },
  {
   "cell_type": "code",
   "execution_count": 22,
   "metadata": {},
   "outputs": [
    {
     "data": {
      "text/plain": [
       "array([ 65047770,  66424744,  67597470,  68691185,  69884420,  71305923,\n",
       "        72999136,  74925896,  77033846,  79236776,  81470860,  83721268,\n",
       "        86007331,  88338242,  90732362,  93199865,  95742431,  98343809,\n",
       "       100975321, 103599232, 106188642, 108727432, 111221938, 113695139,\n",
       "       116182267, 118706871, 121269645, 123854640, 126447965, 129029691,\n",
       "       131581243, 134107160, 136600667, 139019001, 141307489, 143431101,\n",
       "       145368004, 147139191, 148805814, 150454708, 152149102, 153911916,\n",
       "       155727053, 157571292, 159405279, 161200886])"
      ]
     },
     "execution_count": 22,
     "metadata": {},
     "output_type": "execute_result"
    }
   ],
   "source": [
    "b_pop[1]"
   ]
  },
  {
   "cell_type": "code",
   "execution_count": null,
   "metadata": {},
   "outputs": [],
   "source": []
  }
 ],
 "metadata": {
  "kernelspec": {
   "display_name": "Python 3",
   "language": "python",
   "name": "python3"
  },
  "language_info": {
   "codemirror_mode": {
    "name": "ipython",
    "version": 3
   },
   "file_extension": ".py",
   "mimetype": "text/x-python",
   "name": "python",
   "nbconvert_exporter": "python",
   "pygments_lexer": "ipython3",
   "version": "3.7.3"
  }
 },
 "nbformat": 4,
 "nbformat_minor": 2
}
