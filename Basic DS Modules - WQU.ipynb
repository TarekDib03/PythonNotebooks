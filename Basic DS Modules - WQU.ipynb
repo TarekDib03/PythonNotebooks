{
 "cells": [
  {
   "cell_type": "code",
   "execution_count": 1,
   "metadata": {},
   "outputs": [],
   "source": [
    "%matplotlib inline\n",
    "import matplotlib\n",
    "import seaborn as sns\n",
    "matplotlib.rcParams['savefig.dpi'] = 144"
   ]
  },
  {
   "cell_type": "code",
   "execution_count": 2,
   "metadata": {},
   "outputs": [],
   "source": [
    "import expectexception"
   ]
  },
  {
   "cell_type": "markdown",
   "metadata": {},
   "source": [
    "# Basic data tools: NumPy, Matplotlib, Pandas\n",
    "\n",
    "Python is a powerful and flexible programming language, but it doesn't have built-in tools for mathematical analysis or data visualization. For most data analysis we will rely on some helpful libraries. We'll explore three libraries that are very common for data analysis and visualization."
   ]
  },
  {
   "cell_type": "markdown",
   "metadata": {},
   "source": [
    "## NumPy\n",
    "\n",
    "First among these is NumPy. The main NumPy features are three-fold: its mathematical functions (e.g. `sin`, `log`, `floor`), its `random` submodule (useful for random sampling), and the NumPy `ndarray` object.\n",
    "\n",
    "A NumPy array is similar to a mathematical n-dimensional matrix. For example, \n",
    "\n",
    "$$\\begin{bmatrix}\n",
    "    x_{11} & x_{12} & x_{13} & \\dots  & x_{1n} \\\\\n",
    "    x_{21} & x_{22} & x_{23} & \\dots  & x_{2n} \\\\\n",
    "    \\vdots & \\vdots & \\vdots & \\ddots & \\vdots \\\\\n",
    "    x_{d1} & x_{d2} & x_{d3} & \\dots  & x_{dn}\n",
    "\\end{bmatrix}$$\n",
    "\n",
    "A NumPy array could be 1-dimensional (e.g. [1, 5, 20, 34, ...]), 2-dimensional (as above), or many dimensions. It's important to note that all the rows and columns of the 2-dimensional array are the same length. That will be true for all dimensions of arrays.\n",
    "\n",
    "Let's contrast this with lists."
   ]
  },
  {
   "cell_type": "code",
   "execution_count": 3,
   "metadata": {},
   "outputs": [],
   "source": [
    "# to access NumPy, we have to import it\n",
    "import numpy as np"
   ]
  },
  {
   "cell_type": "code",
   "execution_count": 4,
   "metadata": {},
   "outputs": [
    {
     "name": "stdout",
     "output_type": "stream",
     "text": [
      "[[1, 2, 3], [4, 5, 6], [7, 8, 9]]\n"
     ]
    }
   ],
   "source": [
    "list_of_lists = [[1, 2, 3], [4, 5, 6], [7, 8, 9]]\n",
    "print(list_of_lists)"
   ]
  },
  {
   "cell_type": "code",
   "execution_count": 5,
   "metadata": {},
   "outputs": [
    {
     "name": "stdout",
     "output_type": "stream",
     "text": [
      "[[1 2 3]\n",
      " [4 5 6]\n",
      " [7 8 9]]\n"
     ]
    }
   ],
   "source": [
    "an_array = np.array(list_of_lists)\n",
    "print(an_array)"
   ]
  },
  {
   "cell_type": "code",
   "execution_count": 6,
   "metadata": {},
   "outputs": [
    {
     "name": "stdout",
     "output_type": "stream",
     "text": [
      "[[1, 2], [3, 4, 5], [6, 7, 8, 9]]\n"
     ]
    }
   ],
   "source": [
    "non_rectangular = [[1, 2], [3, 4, 5], [6, 7, 8, 9]]\n",
    "print(non_rectangular)"
   ]
  },
  {
   "cell_type": "code",
   "execution_count": 7,
   "metadata": {},
   "outputs": [
    {
     "name": "stdout",
     "output_type": "stream",
     "text": [
      "[list([1, 2]) list([3, 4, 5]) list([6, 7, 8, 9])]\n"
     ]
    }
   ],
   "source": [
    "non_rectangular_array = np.array(non_rectangular)\n",
    "print(non_rectangular_array)"
   ]
  },
  {
   "cell_type": "markdown",
   "metadata": {},
   "source": [
    "Why did these print differently? Let's investigate their _shape_ and _data type_ (`dtype`)."
   ]
  },
  {
   "cell_type": "code",
   "execution_count": 8,
   "metadata": {},
   "outputs": [
    {
     "name": "stdout",
     "output_type": "stream",
     "text": [
      "(3, 3) int64\n",
      "(3,) object\n"
     ]
    }
   ],
   "source": [
    "print(an_array.shape, an_array.dtype)\n",
    "print(non_rectangular_array.shape, non_rectangular_array.dtype)"
   ]
  },
  {
   "cell_type": "markdown",
   "metadata": {},
   "source": [
    "The first case, `an_array`, is a 2-dimensional 3x3 array (of integers). In contrast, `non_rectangular_array` is a 1-dimensional length 3 array (of _objects_, namely `list` objects).\n",
    "\n",
    "We can also create a variety of arrays with NumPy's convenience functions."
   ]
  },
  {
   "cell_type": "code",
   "execution_count": 9,
   "metadata": {},
   "outputs": [
    {
     "data": {
      "text/plain": [
       "array([ 1.,  2.,  3.,  4.,  5.,  6.,  7.,  8.,  9., 10.])"
      ]
     },
     "execution_count": 9,
     "metadata": {},
     "output_type": "execute_result"
    }
   ],
   "source": [
    "np.linspace(1, 10, 10)"
   ]
  },
  {
   "cell_type": "code",
   "execution_count": 10,
   "metadata": {},
   "outputs": [
    {
     "data": {
      "text/plain": [
       "array([1, 2, 3, 4, 5, 6, 7, 8, 9])"
      ]
     },
     "execution_count": 10,
     "metadata": {},
     "output_type": "execute_result"
    }
   ],
   "source": [
    "np.arange(1, 10, 1)"
   ]
  },
  {
   "cell_type": "code",
   "execution_count": 11,
   "metadata": {},
   "outputs": [
    {
     "data": {
      "text/plain": [
       "array([1.e+01, 1.e+02, 1.e+03, 1.e+04, 1.e+05, 1.e+06, 1.e+07, 1.e+08,\n",
       "       1.e+09, 1.e+10])"
      ]
     },
     "execution_count": 11,
     "metadata": {},
     "output_type": "execute_result"
    }
   ],
   "source": [
    "np.logspace(1, 10, 10)"
   ]
  },
  {
   "cell_type": "code",
   "execution_count": 12,
   "metadata": {},
   "outputs": [
    {
     "data": {
      "text/plain": [
       "array([0., 0., 0., 0., 0., 0., 0., 0., 0., 0.])"
      ]
     },
     "execution_count": 12,
     "metadata": {},
     "output_type": "execute_result"
    }
   ],
   "source": [
    "np.zeros(10)"
   ]
  },
  {
   "cell_type": "code",
   "execution_count": 23,
   "metadata": {},
   "outputs": [
    {
     "data": {
      "text/plain": [
       "array([[0., 0.],\n",
       "       [0., 0.],\n",
       "       [0., 0.],\n",
       "       [0., 0.],\n",
       "       [0., 0.]])"
      ]
     },
     "execution_count": 23,
     "metadata": {},
     "output_type": "execute_result"
    }
   ],
   "source": [
    "np.zeros((5,2))"
   ]
  },
  {
   "cell_type": "code",
   "execution_count": 25,
   "metadata": {},
   "outputs": [
    {
     "data": {
      "text/plain": [
       "array([[[0., 0., 0., 0., 0.],\n",
       "        [0., 0., 0., 0., 0.],\n",
       "        [0., 0., 0., 0., 0.],\n",
       "        [0., 0., 0., 0., 0.],\n",
       "        [0., 0., 0., 0., 0.],\n",
       "        [0., 0., 0., 0., 0.],\n",
       "        [0., 0., 0., 0., 0.],\n",
       "        [0., 0., 0., 0., 0.],\n",
       "        [0., 0., 0., 0., 0.],\n",
       "        [0., 0., 0., 0., 0.]],\n",
       "\n",
       "       [[0., 0., 0., 0., 0.],\n",
       "        [0., 0., 0., 0., 0.],\n",
       "        [0., 0., 0., 0., 0.],\n",
       "        [0., 0., 0., 0., 0.],\n",
       "        [0., 0., 0., 0., 0.],\n",
       "        [0., 0., 0., 0., 0.],\n",
       "        [0., 0., 0., 0., 0.],\n",
       "        [0., 0., 0., 0., 0.],\n",
       "        [0., 0., 0., 0., 0.],\n",
       "        [0., 0., 0., 0., 0.]]])"
      ]
     },
     "execution_count": 25,
     "metadata": {},
     "output_type": "execute_result"
    }
   ],
   "source": [
    "np.zeros((2,10,5))"
   ]
  },
  {
   "cell_type": "code",
   "execution_count": 13,
   "metadata": {},
   "outputs": [
    {
     "data": {
      "text/plain": [
       "array([[1, 0, 0, 0],\n",
       "       [0, 2, 0, 0],\n",
       "       [0, 0, 3, 0],\n",
       "       [0, 0, 0, 4]])"
      ]
     },
     "execution_count": 13,
     "metadata": {},
     "output_type": "execute_result"
    }
   ],
   "source": [
    "np.diag([1,2,3,4])"
   ]
  },
  {
   "cell_type": "code",
   "execution_count": 14,
   "metadata": {},
   "outputs": [
    {
     "data": {
      "text/plain": [
       "array([[1., 0., 0., 0., 0.],\n",
       "       [0., 1., 0., 0., 0.],\n",
       "       [0., 0., 1., 0., 0.],\n",
       "       [0., 0., 0., 1., 0.],\n",
       "       [0., 0., 0., 0., 1.]])"
      ]
     },
     "execution_count": 14,
     "metadata": {},
     "output_type": "execute_result"
    }
   ],
   "source": [
    "np.eye(5)"
   ]
  },
  {
   "cell_type": "markdown",
   "metadata": {},
   "source": [
    "We can also convert the `dtype` of an array after creation."
   ]
  },
  {
   "cell_type": "code",
   "execution_count": 15,
   "metadata": {},
   "outputs": [
    {
     "name": "stdout",
     "output_type": "stream",
     "text": [
      "float64\n",
      "int64\n"
     ]
    }
   ],
   "source": [
    "print(np.logspace(1, 10, 10).dtype)\n",
    "print(np.logspace(1, 10, 10).astype(int).dtype)"
   ]
  },
  {
   "cell_type": "markdown",
   "metadata": {},
   "source": [
    "Why does any of this matter?\n",
    "\n",
    "Arrays are often more efficient in terms of code as well as computational resources for certain calculations. Computationally this efficiency comes from the fact that we pre-allocate a contiguous block of memory for the results of our computation.\n",
    "\n",
    "To explore the advantages in code, let's try to do some math on these numbers.\n",
    "\n",
    "First let's simply calculate the sum of all the numbers and look at the differences in the necessary code for `list_of_lists`, `an_array`, and `non_rectangular_array`."
   ]
  },
  {
   "cell_type": "code",
   "execution_count": 19,
   "metadata": {},
   "outputs": [
    {
     "name": "stdout",
     "output_type": "stream",
     "text": [
      "45\n",
      "45\n"
     ]
    }
   ],
   "source": [
    "print(sum([sum(inner_list) for inner_list in list_of_lists]))\n",
    "print(an_array.sum())"
   ]
  },
  {
   "cell_type": "markdown",
   "metadata": {},
   "source": [
    "Summing the numbers in an array is much easier than for a list of lists. We don't have to dig into a hierarchy of lists, we just use the `sum` method of the `ndarray`. Does this still work for `non_rectangular_array`?"
   ]
  },
  {
   "cell_type": "code",
   "execution_count": 20,
   "metadata": {},
   "outputs": [
    {
     "name": "stdout",
     "output_type": "stream",
     "text": [
      "[1, 2, 3, 4, 5, 6, 7, 8, 9]\n"
     ]
    }
   ],
   "source": [
    "# what happens here?\n",
    "print(non_rectangular_array.sum())"
   ]
  },
  {
   "cell_type": "markdown",
   "metadata": {},
   "source": [
    "Remember `non_rectangular_array` is a 1-dimensional array of `list` objects. The `sum` method tries to add them together: first list + second list + third list. Addition of lists results in _concatenation_."
   ]
  },
  {
   "cell_type": "code",
   "execution_count": 21,
   "metadata": {},
   "outputs": [
    {
     "name": "stdout",
     "output_type": "stream",
     "text": [
      "[1, 2, 3, 4, 5, 6, 7, 8, 9]\n"
     ]
    }
   ],
   "source": [
    "# concatenate three lists\n",
    "print([1, 2] + [3, 4, 5] + [6, 7, 8, 9])"
   ]
  },
  {
   "cell_type": "markdown",
   "metadata": {},
   "source": [
    "The contrast becomes even more clear when we try to sum rows or columns individually."
   ]
  },
  {
   "cell_type": "code",
   "execution_count": 22,
   "metadata": {},
   "outputs": [
    {
     "name": "stdout",
     "output_type": "stream",
     "text": [
      "Array row sums:  [ 6 15 24]\n",
      "Array column sums:  [12 15 18]\n"
     ]
    }
   ],
   "source": [
    "print('Array row sums: ', an_array.sum(axis=1))\n",
    "print('Array column sums: ', an_array.sum(axis=0))"
   ]
  },
  {
   "cell_type": "code",
   "execution_count": 28,
   "metadata": {},
   "outputs": [
    {
     "data": {
      "text/plain": [
       "[[1, 2, 3], [4, 5, 6], [7, 8, 9]]"
      ]
     },
     "execution_count": 28,
     "metadata": {},
     "output_type": "execute_result"
    }
   ],
   "source": [
    "list_of_lists"
   ]
  },
  {
   "cell_type": "code",
   "execution_count": 29,
   "metadata": {},
   "outputs": [
    {
     "name": "stdout",
     "output_type": "stream",
     "text": [
      "List of list row sums:  [6, 15, 24]\n",
      "List of list column sums:  [12, 15, 18]\n"
     ]
    }
   ],
   "source": [
    "print('List of list row sums: ', [sum(inner_list) for inner_list in list_of_lists])\n",
    "\n",
    "def column_sum(list_of_lists):\n",
    "    running_sums = [0] * len(list_of_lists[0])\n",
    "    for inner_list in list_of_lists:\n",
    "        for i, number in enumerate(inner_list):\n",
    "            running_sums[i] += number\n",
    "            \n",
    "    return running_sums\n",
    "\n",
    "print('List of list column sums: ', column_sum(list_of_lists))"
   ]
  },
  {
   "cell_type": "markdown",
   "metadata": {},
   "source": [
    "Generally it is much more natural to do mathematical operations with arrays than lists."
   ]
  },
  {
   "cell_type": "code",
   "execution_count": 30,
   "metadata": {},
   "outputs": [
    {
     "name": "stdout",
     "output_type": "stream",
     "text": [
      "[ 6  7  8  9 10]\n",
      "[ 5 10 15 20 25]\n",
      "[0.2 0.4 0.6 0.8 1. ]\n"
     ]
    }
   ],
   "source": [
    "a = np.array([1, 2, 3, 4, 5])\n",
    "print(a + 5) # add a scalar\n",
    "print(a * 5) # multiply by a scalar\n",
    "print(a / 5) # divide by a scalar (note the float!)"
   ]
  },
  {
   "cell_type": "code",
   "execution_count": 31,
   "metadata": {},
   "outputs": [
    {
     "name": "stdout",
     "output_type": "stream",
     "text": [
      "[ 3  5  7  9 11]\n",
      "[ 2  6 12 20 30]\n",
      "[0.5        0.66666667 0.75       0.8        0.83333333]\n"
     ]
    }
   ],
   "source": [
    "b = a + 1\n",
    "print(a + b) # add together two arrays\n",
    "print(a * b) # multiply two arrays (element-wise)\n",
    "print(a / b.astype(float)) # divide two arrays (element-wise)"
   ]
  },
  {
   "cell_type": "markdown",
   "metadata": {},
   "source": [
    "Arrays can also be used for linear algebra, acting as vectors, matrices, tensors, etc."
   ]
  },
  {
   "cell_type": "code",
   "execution_count": 32,
   "metadata": {},
   "outputs": [
    {
     "name": "stdout",
     "output_type": "stream",
     "text": [
      "70\n",
      "[[ 2  3  4  5  6]\n",
      " [ 4  6  8 10 12]\n",
      " [ 6  9 12 15 18]\n",
      " [ 8 12 16 20 24]\n",
      " [10 15 20 25 30]]\n"
     ]
    }
   ],
   "source": [
    "print(np.dot(a, b)) # inner product of two arrays\n",
    "print(np.outer(a, b)) # outer product of two arrays"
   ]
  },
  {
   "cell_type": "markdown",
   "metadata": {},
   "source": [
    "Arrays have a lot to offer us in terms of representing and analyzing data, since we can easily apply mathematical functions to data sets or sections of data sets. Most of the time we won't run into any trouble using arrays, but it's good to be mindful of the restrictions around shape and datatype.\n",
    "\n",
    "These restrictions around `shape` and `dtype` allow the `ndarray` objects to be much more performant compared to a general Python `list`.  There are few reasons for this, but the main two result from the typed nature of the `ndarray`, as this allows contiguous memory storage and consistent function lookup.  When a Python `list` is summed, Python needs to figure out at runtime the correct way in which to add each element of the list together.  When an `ndarray` is summed, `NumPy` already knows the type of the each element (and they are consistent), thus it can sum them without checking the correct add function for each element.\n",
    "\n",
    "Lets see this in action by doing some basic profiling.  First we will create a list of 100000 random elements and then time the sum function."
   ]
  },
  {
   "cell_type": "code",
   "execution_count": 33,
   "metadata": {},
   "outputs": [],
   "source": [
    "time_list = [np.random.random() for _ in range(100000)]\n",
    "time_arr = np.array(time_list)"
   ]
  },
  {
   "cell_type": "code",
   "execution_count": 34,
   "metadata": {},
   "outputs": [
    {
     "name": "stdout",
     "output_type": "stream",
     "text": [
      "492 µs ± 4.9 µs per loop (mean ± std. dev. of 7 runs, 1000 loops each)\n"
     ]
    }
   ],
   "source": [
    "%%timeit \n",
    "sum(time_list)"
   ]
  },
  {
   "cell_type": "code",
   "execution_count": 35,
   "metadata": {},
   "outputs": [
    {
     "name": "stdout",
     "output_type": "stream",
     "text": [
      "50.5 µs ± 607 ns per loop (mean ± std. dev. of 7 runs, 10000 loops each)\n"
     ]
    }
   ],
   "source": [
    "%%timeit\n",
    "np.sum(time_arr)"
   ]
  },
  {
   "cell_type": "markdown",
   "metadata": {},
   "source": [
    "### Universal functions\n",
    "\n",
    "`NumPy` defines a `ufunc` which allows it to efficiently run functions over arrays.  Many of these functions are built in, such as `np.cos`, and implemented in highly performance compiled `C` code.  These functions can perform `broadcasting` which allows them to automatically handle operations between arrays of different shapes, for example two arrays with the same shape, or an array and a scalar."
   ]
  },
  {
   "cell_type": "markdown",
   "metadata": {},
   "source": [
    "### Changing Shape\n",
    "\n",
    "Often we will want to take arrays that are one shape and transform them to a different shape more amenable to a specific operation."
   ]
  },
  {
   "cell_type": "code",
   "execution_count": 38,
   "metadata": {},
   "outputs": [],
   "source": [
    "mat = np.random.rand(20, 10)"
   ]
  },
  {
   "cell_type": "code",
   "execution_count": 39,
   "metadata": {},
   "outputs": [
    {
     "data": {
      "text/plain": [
       "(40, 5)"
      ]
     },
     "execution_count": 39,
     "metadata": {},
     "output_type": "execute_result"
    }
   ],
   "source": [
    "mat.reshape(40, 5).shape"
   ]
  },
  {
   "cell_type": "code",
   "execution_count": 41,
   "metadata": {},
   "outputs": [
    {
     "data": {
      "text/plain": [
       "(200,)"
      ]
     },
     "execution_count": 41,
     "metadata": {},
     "output_type": "execute_result"
    }
   ],
   "source": [
    "mat.ravel().shape     # Convert a rectangular matrix into a 1D array"
   ]
  },
  {
   "cell_type": "code",
   "execution_count": 42,
   "metadata": {},
   "outputs": [
    {
     "data": {
      "text/plain": [
       "(10, 20)"
      ]
     },
     "execution_count": 42,
     "metadata": {},
     "output_type": "execute_result"
    }
   ],
   "source": [
    "mat.transpose().shape"
   ]
  },
  {
   "cell_type": "markdown",
   "metadata": {},
   "source": [
    "### Combining arrays"
   ]
  },
  {
   "cell_type": "code",
   "execution_count": 43,
   "metadata": {},
   "outputs": [
    {
     "name": "stdout",
     "output_type": "stream",
     "text": [
      "[1 2 3 4 5]\n",
      "[2 3 4 5 6]\n"
     ]
    }
   ],
   "source": [
    "print(a)\n",
    "print(b)"
   ]
  },
  {
   "cell_type": "code",
   "execution_count": 47,
   "metadata": {},
   "outputs": [
    {
     "data": {
      "text/plain": [
       "array([1, 2, 3, 4, 5, 2, 3, 4, 5, 6])"
      ]
     },
     "execution_count": 47,
     "metadata": {},
     "output_type": "execute_result"
    }
   ],
   "source": [
    "np.hstack((a, b))"
   ]
  },
  {
   "cell_type": "code",
   "execution_count": 48,
   "metadata": {},
   "outputs": [
    {
     "data": {
      "text/plain": [
       "array([[1, 2, 3, 4, 5],\n",
       "       [2, 3, 4, 5, 6]])"
      ]
     },
     "execution_count": 48,
     "metadata": {},
     "output_type": "execute_result"
    }
   ],
   "source": [
    "np.vstack((a, b))"
   ]
  },
  {
   "cell_type": "code",
   "execution_count": 49,
   "metadata": {},
   "outputs": [
    {
     "data": {
      "text/plain": [
       "array([[[1, 2],\n",
       "        [2, 3],\n",
       "        [3, 4],\n",
       "        [4, 5],\n",
       "        [5, 6]]])"
      ]
     },
     "execution_count": 49,
     "metadata": {},
     "output_type": "execute_result"
    }
   ],
   "source": [
    "np.dstack((a, b))"
   ]
  },
  {
   "cell_type": "markdown",
   "metadata": {},
   "source": [
    "### Basic data aggregation\n",
    "\n",
    "Let's explore some more examples of using arrays, this time using NumPy's `random` submodule to create some \"fake data\". Simulating data is useful for testing and prototyping new techniques or code, and some algorithms even require random input."
   ]
  },
  {
   "cell_type": "code",
   "execution_count": 50,
   "metadata": {},
   "outputs": [
    {
     "name": "stdout",
     "output_type": "stream",
     "text": [
      "[[127 117  39 131  96  45 127]\n",
      " [146  99 112 141 124 128 176]\n",
      " [155 174  77  26 112 182  62]\n",
      " [154  45 185  82  46 113  73]]\n"
     ]
    }
   ],
   "source": [
    "np.random.seed(42)\n",
    "jan_coffee_sales = np.random.randint(25, 200, size=(4, 7))   # For ease, we assume that there are only 4 weeks in January\n",
    "print(jan_coffee_sales)"
   ]
  },
  {
   "cell_type": "code",
   "execution_count": null,
   "metadata": {},
   "outputs": [],
   "source": [
    "# Average sales per day in January\n",
    "print('Mean coffees sold per day in January: %d' % jan_coffee_sales.mean())"
   ]
  },
  {
   "cell_type": "code",
   "execution_count": 52,
   "metadata": {},
   "outputs": [
    {
     "data": {
      "text/plain": [
       "108.75"
      ]
     },
     "execution_count": 52,
     "metadata": {},
     "output_type": "execute_result"
    }
   ],
   "source": [
    "jan_coffee_sales[:, 1].mean()   # Sales in Monday"
   ]
  },
  {
   "cell_type": "code",
   "execution_count": 53,
   "metadata": {},
   "outputs": [
    {
     "name": "stdout",
     "output_type": "stream",
     "text": [
      "Mean coffees sold on Monday in January: 108\n"
     ]
    }
   ],
   "source": [
    "# Average sales for Monday\n",
    "print('Mean coffees sold on Monday in January: %d' % jan_coffee_sales[:, 1].mean())"
   ]
  },
  {
   "cell_type": "code",
   "execution_count": 55,
   "metadata": {},
   "outputs": [
    {
     "name": "stdout",
     "output_type": "stream",
     "text": [
      "Day with highest sales was January 24\n"
     ]
    }
   ],
   "source": [
    "# day with most sales. Remember we count dates from 1, not 0! argmax() is a method used to return the index of the max value\n",
    "print('Day with highest sales was January %d' % (jan_coffee_sales.argmax() + 1))"
   ]
  },
  {
   "cell_type": "code",
   "execution_count": 86,
   "metadata": {},
   "outputs": [
    {
     "name": "stdout",
     "output_type": "stream",
     "text": [
      "Day with highest sales was January 24\n"
     ]
    }
   ],
   "source": [
    "# Use raw python instead of numpy to find the day with the highest sales in January\n",
    "print('Day with highest sales was January %d' % (jan_coffee_sales.ravel().tolist().index(max(jan_coffee_sales.ravel().tolist())) + 1))"
   ]
  },
  {
   "cell_type": "code",
   "execution_count": null,
   "metadata": {},
   "outputs": [],
   "source": [
    "# is there a weekly periodicity? Trend in data!\n",
    "from fractions import Fraction\n",
    "\n",
    "normalized_sales = (jan_coffee_sales - jan_coffee_sales.mean()) / abs(jan_coffee_sales - jan_coffee_sales.mean()).max()\n",
    "frequencies = [Fraction.from_float(f).limit_denominator() for f in np.fft.fftfreq(normalized_sales.size)]\n",
    "power = np.abs(np.fft.fft(normalized_sales.ravel()))**2\n",
    "list(zip(frequencies, power))[:len(power) // 2]"
   ]
  },
  {
   "cell_type": "markdown",
   "metadata": {},
   "source": [
    "Some of the functions we used above do not exist in standard Python and are provided to us by NumPy. Additionally we see that we can use the shape of an array to help us compute statistics on a subset of our data (e.g. mean number of coffees sold on Mondays). But one of the most powerful things we can do to explore data is to simply visualize it."
   ]
  },
  {
   "cell_type": "code",
   "execution_count": 98,
   "metadata": {},
   "outputs": [
    {
     "data": {
      "text/plain": [
       "array([6, 2, 6, 2, 2, 2, 2, 4, 6, 8, 4, 8, 4, 8, 2, 6, 2, 6, 8, 4, 8, 4,\n",
       "       8, 2, 2, 6, 6, 2, 6, 8, 4, 8, 4, 8, 6, 8, 2, 8, 2, 6, 6, 4, 4, 2,\n",
       "       4, 6])"
      ]
     },
     "execution_count": 98,
     "metadata": {},
     "output_type": "execute_result"
    }
   ],
   "source": [
    "# Even numbers between 1 and 10. Use conditional slicing\n",
    "random_array = np.random.randint(1,10,100)\n",
    "random_array[random_array % 2 == 0]"
   ]
  },
  {
   "cell_type": "markdown",
   "metadata": {},
   "source": [
    "## Matplotlib\n",
    "\n",
    "Matplotlib is the most popular Python plotting library. It allows us to visualize data quickly by providing a variety of types of graphs (e.g. bar, scatter, line, etc.). It also provides useful tools for arranging multiple images or image components within a figure, enabling us to build up more complex visualizations as we need to.\n",
    "\n",
    "Let's visualize some data! In the next cells, we'll generate some data. For now we'll be focusing on how the graphs are produced rather than how the data is made."
   ]
  },
  {
   "cell_type": "code",
   "execution_count": 99,
   "metadata": {},
   "outputs": [],
   "source": [
    "import matplotlib.pyplot as plt"
   ]
  },
  {
   "cell_type": "code",
   "execution_count": 100,
   "metadata": {},
   "outputs": [
    {
     "data": {
      "text/plain": [
       "<matplotlib.legend.Legend at 0x7f166d5f5198>"
      ]
     },
     "execution_count": 100,
     "metadata": {},
     "output_type": "execute_result"
    },
    {
     "data": {
      "image/png": "[encoded data removed]",
      "text/plain": [
       "<Figure size 432x288 with 1 Axes>"
      ]
     },
     "metadata": {
      "needs_background": "light"
     },
     "output_type": "display_data"
    }
   ],
   "source": [
    "def gen_stock_price(days, initial_price):\n",
    "    # stock price grows or shrinks linearly\n",
    "    # not exceeding 10% per year (heuristic)\n",
    "    trend = initial_price * (np.arange(days) * .1 / 365 * np.random.rand() * np.random.choice([1, -1]) + 1)\n",
    "    # noise will be about 2%\n",
    "    noise = .02 * np.random.randn(len(trend)) * trend\n",
    "    return trend + noise\n",
    "\n",
    "days = 365\n",
    "initial_prices = [80, 70, 65]\n",
    "for price in initial_prices:\n",
    "    plt.plot(np.arange(-days, 0), gen_stock_price(days, price))\n",
    "plt.title('Stock price history for last %d days' % days)\n",
    "plt.xlabel('Time (days)')\n",
    "plt.ylabel('Price (USD)')\n",
    "plt.legend(['Company A', 'Company B', 'Company C'])"
   ]
  },
  {
   "cell_type": "code",
   "execution_count": 101,
   "metadata": {},
   "outputs": [
    {
     "data": {
      "text/plain": [
       "<matplotlib.legend.Legend at 0x7f166b460b70>"
      ]
     },
     "execution_count": 101,
     "metadata": {},
     "output_type": "execute_result"
    },
    {
     "data": {
      "image/png": "[encoded data removed]",
      "text/plain": [
       "<Figure size 864x432 with 3 Axes>"
      ]
     },
     "metadata": {
      "needs_background": "light"
     },
     "output_type": "display_data"
    }
   ],
   "source": [
    "from scipy.stats import linregress\n",
    "\n",
    "def gen_football_team(n_players, mean_shoe, mean_jersey):\n",
    "    shoe_sizes = np.random.normal(size=n_players, loc=mean_shoe, scale=.15 * mean_shoe)\n",
    "    jersey_sizes = mean_jersey / mean_shoe * shoe_sizes + np.random.normal(size=n_players, scale=.05 * mean_jersey)\n",
    "\n",
    "    return shoe_sizes, jersey_sizes\n",
    "\n",
    "shoes, jerseys = gen_football_team(16, 11, 100)\n",
    "\n",
    "fig = plt.figure(figsize=(12, 6))\n",
    "fig.suptitle('Football team equipment profile')\n",
    "\n",
    "ax1 = plt.subplot(221)\n",
    "ax1.hist(shoes)\n",
    "ax1.set_xlabel('Shoe size')\n",
    "ax1.set_ylabel('Counts')\n",
    "\n",
    "ax2 = plt.subplot(223)\n",
    "ax2.hist(jerseys)\n",
    "ax2.set_xlabel('Chest size (cm)')\n",
    "ax2.set_ylabel('Counts')\n",
    "\n",
    "ax3 = plt.subplot(122)\n",
    "ax3.scatter(shoes, jerseys, label='Data')\n",
    "ax3.set_xlabel('Shoe size')\n",
    "ax3.set_ylabel('Chest size (cm)')\n",
    "\n",
    "fit_line = linregress(shoes, jerseys)\n",
    "ax3.plot(shoes, fit_line[1] + fit_line[0] * shoes, 'r', label='Line of best fit')\n",
    "\n",
    "handles, labels = ax3.get_legend_handles_labels()\n",
    "ax3.legend(handles[::-1], labels[::-1])"
   ]
  },
  {
   "cell_type": "code",
   "execution_count": 102,
   "metadata": {},
   "outputs": [
    {
     "data": {
      "text/plain": [
       "Text(0, 0.5, 'Temperature (C)')"
      ]
     },
     "execution_count": 102,
     "metadata": {},
     "output_type": "execute_result"
    },
    {
     "data": {
      "image/png": "[encoded data removed]",
      "text/plain": [
       "<Figure size 432x288 with 1 Axes>"
      ]
     },
     "metadata": {
      "needs_background": "light"
     },
     "output_type": "display_data"
    }
   ],
   "source": [
    "def gen_hourly_temps(days):\n",
    "    ndays = len(days)\n",
    "    seasonality = (-15 * np.cos((np.array(days) - 30) * 2.0 * np.pi / 365)).repeat(24) + 10\n",
    "    solar = -3 * np.cos(np.arange(24 * ndays) * 2.0 * np.pi / 24)\n",
    "    weather = np.interp(range(len(days) * 24), range(0, 24 * len(days), 24 * 2), 3 * np.random.randn(np.ceil(float(len(days)) / 2).astype(int)))\n",
    "    noise = .5 * np.random.randn(24 * len(days))\n",
    "\n",
    "    return seasonality + solar + weather + noise\n",
    "\n",
    "days = np.arange(365)\n",
    "hours = np.arange(days[0] * 24, (days[-1] + 1) * 24)\n",
    "plt.plot(hours, gen_hourly_temps(days))\n",
    "plt.title('Hourly temperatures')\n",
    "plt.xlabel('Time (hours since Jan. 1)')\n",
    "plt.ylabel('Temperature (C)')"
   ]
  },
  {
   "cell_type": "markdown",
   "metadata": {},
   "source": [
    "In the examples above we've made use of the ubiquitous `plot` command, `subplot` for arranging multiple plots in one image, and `hist` for creating histograms. We've also used both the \"state machine\" (i.e. using a sequence of `plt.method` commands) and \"object-oriented\" (i.e. creating figure objects and mutating them) plotting paradigms. The Matplotlib package is very flexible and the possibilities for visualizing data are mostly limited by imagination. A great way to explore Matplotlib and other data visualization packages is by consulting their [gallery pages](https://matplotlib.org/gallery.html)."
   ]
  },
  {
   "cell_type": "markdown",
   "metadata": {},
   "source": [
    "# Pandas\n",
    "\n",
    "NumPy is useful for handling data as it lets us efficiently apply functions to whole data sets or select pieces of them. However, it can be difficult to keep track of related data that might be stored in different arrays, or the meaning of data stored in different rows or columns of the same array.\n",
    "\n",
    "For example, in the previous section we had a 1-dimensional array for shoe sizes, and another 1-dimensional array for jersey sizes. If we wanted to look up the shoe and jersey size for a particular player, we'd have to remember his position in each array.\n",
    "\n",
    "Alternatively, we could combine the two 1-dimensional arrays to make a 2-dimensional array with `n_players` rows and two columns (one for shoe size, one for jersey size). But once we combine the data, we now have to remember which column is shoe size and which column is jersey size.\n",
    "\n",
    "The Pandas package introduces a very powerful tool for working with data in Python: the DataFrame. A DataFrame is a table. Each column represents a different type of data (sometimes called a **field**). The columns are named, so I could have a column called `'shoe_size'` and a column called `'jersey_size'`. I don't have to remember which column is which, because I can refer to them by name. Each row represents a different **record** or **entity** (e.g. player). I can also name the rows, so instead of remembering which row in my array corresponds with Ronaldinho, I can name the row 'Ronaldinho' and look up his shoe size and jersey size by name."
   ]
  },
  {
   "cell_type": "code",
   "execution_count": 103,
   "metadata": {},
   "outputs": [
    {
     "data": {
      "text/html": [
       "<div>\n",
       "<style scoped>\n",
       "    .dataframe tbody tr th:only-of-type {\n",
       "        vertical-align: middle;\n",
       "    }\n",
       "\n",
       "    .dataframe tbody tr th {\n",
       "        vertical-align: top;\n",
       "    }\n",
       "\n",
       "    .dataframe thead th {\n",
       "        text-align: right;\n",
       "    }\n",
       "</style>\n",
       "<table border=\"1\" class=\"dataframe\">\n",
       "  <thead>\n",
       "    <tr style=\"text-align: right;\">\n",
       "      <th></th>\n",
       "      <th>shoe_size</th>\n",
       "      <th>jersey_size</th>\n",
       "    </tr>\n",
       "  </thead>\n",
       "  <tbody>\n",
       "    <tr>\n",
       "      <th>Ronaldinho</th>\n",
       "      <td>10.436707</td>\n",
       "      <td>114.823967</td>\n",
       "    </tr>\n",
       "    <tr>\n",
       "      <th>Pele</th>\n",
       "      <td>11.136670</td>\n",
       "      <td>113.340554</td>\n",
       "    </tr>\n",
       "    <tr>\n",
       "      <th>Lionel Messi</th>\n",
       "      <td>11.839779</td>\n",
       "      <td>118.339248</td>\n",
       "    </tr>\n",
       "    <tr>\n",
       "      <th>Zinedine Zidane</th>\n",
       "      <td>12.666317</td>\n",
       "      <td>122.504292</td>\n",
       "    </tr>\n",
       "    <tr>\n",
       "      <th>Didier Drogba</th>\n",
       "      <td>12.207622</td>\n",
       "      <td>126.557231</td>\n",
       "    </tr>\n",
       "    <tr>\n",
       "      <th>Ronaldo</th>\n",
       "      <td>10.287322</td>\n",
       "      <td>101.195919</td>\n",
       "    </tr>\n",
       "    <tr>\n",
       "      <th>Yaya Toure</th>\n",
       "      <td>11.688427</td>\n",
       "      <td>118.755030</td>\n",
       "    </tr>\n",
       "    <tr>\n",
       "      <th>Frank Rijkaard</th>\n",
       "      <td>10.264170</td>\n",
       "      <td>106.151408</td>\n",
       "    </tr>\n",
       "    <tr>\n",
       "      <th>Diego Maradona</th>\n",
       "      <td>11.028858</td>\n",
       "      <td>116.609130</td>\n",
       "    </tr>\n",
       "    <tr>\n",
       "      <th>Mohamed Aboutrika</th>\n",
       "      <td>9.100980</td>\n",
       "      <td>95.221666</td>\n",
       "    </tr>\n",
       "    <tr>\n",
       "      <th>Samuel Eto'o</th>\n",
       "      <td>10.693114</td>\n",
       "      <td>100.813847</td>\n",
       "    </tr>\n",
       "    <tr>\n",
       "      <th>George Best</th>\n",
       "      <td>9.290131</td>\n",
       "      <td>84.315314</td>\n",
       "    </tr>\n",
       "    <tr>\n",
       "      <th>George Weah</th>\n",
       "      <td>9.739684</td>\n",
       "      <td>100.904197</td>\n",
       "    </tr>\n",
       "    <tr>\n",
       "      <th>Roberto Donadoni</th>\n",
       "      <td>10.697843</td>\n",
       "      <td>107.408455</td>\n",
       "    </tr>\n",
       "  </tbody>\n",
       "</table>\n",
       "</div>"
      ],
      "text/plain": [
       "                   shoe_size  jersey_size\n",
       "Ronaldinho         10.436707   114.823967\n",
       "Pele               11.136670   113.340554\n",
       "Lionel Messi       11.839779   118.339248\n",
       "Zinedine Zidane    12.666317   122.504292\n",
       "Didier Drogba      12.207622   126.557231\n",
       "Ronaldo            10.287322   101.195919\n",
       "Yaya Toure         11.688427   118.755030\n",
       "Frank Rijkaard     10.264170   106.151408\n",
       "Diego Maradona     11.028858   116.609130\n",
       "Mohamed Aboutrika   9.100980    95.221666\n",
       "Samuel Eto'o       10.693114   100.813847\n",
       "George Best         9.290131    84.315314\n",
       "George Weah         9.739684   100.904197\n",
       "Roberto Donadoni   10.697843   107.408455"
      ]
     },
     "execution_count": 103,
     "metadata": {},
     "output_type": "execute_result"
    }
   ],
   "source": [
    "import pandas as pd\n",
    "\n",
    "players = ['Ronaldinho', 'Pele', 'Lionel Messi', 'Zinedine Zidane', 'Didier Drogba', 'Ronaldo', 'Yaya Toure', \n",
    "           'Frank Rijkaard', 'Diego Maradona', 'Mohamed Aboutrika', \"Samuel Eto'o\", 'George Best', 'George Weah', \n",
    "           'Roberto Donadoni']\n",
    "shoes, jerseys = gen_football_team(len(players), 10, 100)\n",
    "\n",
    "df = pd.DataFrame({'shoe_size': shoes, 'jersey_size': jerseys}, index = players)\n",
    "\n",
    "df"
   ]
  },
  {
   "cell_type": "code",
   "execution_count": 104,
   "metadata": {},
   "outputs": [
    {
     "data": {
      "text/html": [
       "<div>\n",
       "<style scoped>\n",
       "    .dataframe tbody tr th:only-of-type {\n",
       "        vertical-align: middle;\n",
       "    }\n",
       "\n",
       "    .dataframe tbody tr th {\n",
       "        vertical-align: top;\n",
       "    }\n",
       "\n",
       "    .dataframe thead th {\n",
       "        text-align: right;\n",
       "    }\n",
       "</style>\n",
       "<table border=\"1\" class=\"dataframe\">\n",
       "  <thead>\n",
       "    <tr style=\"text-align: right;\">\n",
       "      <th></th>\n",
       "      <th>shoe_size</th>\n",
       "      <th>jersey_size</th>\n",
       "    </tr>\n",
       "  </thead>\n",
       "  <tbody>\n",
       "    <tr>\n",
       "      <th>Ronaldinho</th>\n",
       "      <td>10.436707</td>\n",
       "      <td>114.823967</td>\n",
       "    </tr>\n",
       "    <tr>\n",
       "      <th>Pele</th>\n",
       "      <td>11.136670</td>\n",
       "      <td>113.340554</td>\n",
       "    </tr>\n",
       "    <tr>\n",
       "      <th>Lionel Messi</th>\n",
       "      <td>11.839779</td>\n",
       "      <td>118.339248</td>\n",
       "    </tr>\n",
       "    <tr>\n",
       "      <th>Zinedine Zidane</th>\n",
       "      <td>12.666317</td>\n",
       "      <td>122.504292</td>\n",
       "    </tr>\n",
       "    <tr>\n",
       "      <th>Didier Drogba</th>\n",
       "      <td>12.207622</td>\n",
       "      <td>126.557231</td>\n",
       "    </tr>\n",
       "    <tr>\n",
       "      <th>Ronaldo</th>\n",
       "      <td>10.287322</td>\n",
       "      <td>101.195919</td>\n",
       "    </tr>\n",
       "    <tr>\n",
       "      <th>Yaya Toure</th>\n",
       "      <td>11.688427</td>\n",
       "      <td>118.755030</td>\n",
       "    </tr>\n",
       "    <tr>\n",
       "      <th>Frank Rijkaard</th>\n",
       "      <td>10.264170</td>\n",
       "      <td>106.151408</td>\n",
       "    </tr>\n",
       "    <tr>\n",
       "      <th>Diego Maradona</th>\n",
       "      <td>11.028858</td>\n",
       "      <td>116.609130</td>\n",
       "    </tr>\n",
       "    <tr>\n",
       "      <th>Mohamed Aboutrika</th>\n",
       "      <td>9.100980</td>\n",
       "      <td>95.221666</td>\n",
       "    </tr>\n",
       "    <tr>\n",
       "      <th>Samuel Eto'o</th>\n",
       "      <td>10.693114</td>\n",
       "      <td>100.813847</td>\n",
       "    </tr>\n",
       "    <tr>\n",
       "      <th>George Best</th>\n",
       "      <td>9.290131</td>\n",
       "      <td>84.315314</td>\n",
       "    </tr>\n",
       "    <tr>\n",
       "      <th>George Weah</th>\n",
       "      <td>9.739684</td>\n",
       "      <td>100.904197</td>\n",
       "    </tr>\n",
       "    <tr>\n",
       "      <th>Roberto Donadoni</th>\n",
       "      <td>10.697843</td>\n",
       "      <td>107.408455</td>\n",
       "    </tr>\n",
       "  </tbody>\n",
       "</table>\n",
       "</div>"
      ],
      "text/plain": [
       "                   shoe_size  jersey_size\n",
       "Ronaldinho         10.436707   114.823967\n",
       "Pele               11.136670   113.340554\n",
       "Lionel Messi       11.839779   118.339248\n",
       "Zinedine Zidane    12.666317   122.504292\n",
       "Didier Drogba      12.207622   126.557231\n",
       "Ronaldo            10.287322   101.195919\n",
       "Yaya Toure         11.688427   118.755030\n",
       "Frank Rijkaard     10.264170   106.151408\n",
       "Diego Maradona     11.028858   116.609130\n",
       "Mohamed Aboutrika   9.100980    95.221666\n",
       "Samuel Eto'o       10.693114   100.813847\n",
       "George Best         9.290131    84.315314\n",
       "George Weah         9.739684   100.904197\n",
       "Roberto Donadoni   10.697843   107.408455"
      ]
     },
     "execution_count": 104,
     "metadata": {},
     "output_type": "execute_result"
    }
   ],
   "source": [
    "# we can also make a dataframe using zip\n",
    "\n",
    "df = pd.DataFrame(list(zip(shoes, jerseys)), columns = ['shoe_size', 'jersey_size'], index = players)\n",
    "\n",
    "df"
   ]
  },
  {
   "cell_type": "markdown",
   "metadata": {},
   "source": [
    "The DataFrame has similarities to both a `dict` and a NumPy `ndarray`. For example, we can retrieve a column from the DataFrame by using its name, just like we would retrieve an item from a `dict` using its key."
   ]
  },
  {
   "cell_type": "code",
   "execution_count": 105,
   "metadata": {},
   "outputs": [
    {
     "name": "stdout",
     "output_type": "stream",
     "text": [
      "Ronaldinho           10.436707\n",
      "Pele                 11.136670\n",
      "Lionel Messi         11.839779\n",
      "Zinedine Zidane      12.666317\n",
      "Didier Drogba        12.207622\n",
      "Ronaldo              10.287322\n",
      "Yaya Toure           11.688427\n",
      "Frank Rijkaard       10.264170\n",
      "Diego Maradona       11.028858\n",
      "Mohamed Aboutrika     9.100980\n",
      "Samuel Eto'o         10.693114\n",
      "George Best           9.290131\n",
      "George Weah           9.739684\n",
      "Roberto Donadoni     10.697843\n",
      "Name: shoe_size, dtype: float64\n"
     ]
    }
   ],
   "source": [
    "print(df['shoe_size'])"
   ]
  },
  {
   "cell_type": "markdown",
   "metadata": {},
   "source": [
    "And we can easily apply functions to the DataFrame, just like we would with a NumPy array."
   ]
  },
  {
   "cell_type": "code",
   "execution_count": 106,
   "metadata": {},
   "outputs": [
    {
     "name": "stdout",
     "output_type": "stream",
     "text": [
      "                   shoe_size  jersey_size\n",
      "Ronaldinho          2.345329     4.743400\n",
      "Pele                2.410243     4.730397\n",
      "Lionel Messi        2.471465     4.773555\n",
      "Zinedine Zidane     2.538946     4.808146\n",
      "Didier Drogba       2.502061     4.840695\n",
      "Ronaldo             2.330912     4.617058\n",
      "Yaya Toure          2.458599     4.777063\n",
      "Frank Rijkaard      2.328659     4.664866\n",
      "Diego Maradona      2.400515     4.758828\n",
      "Mohamed Aboutrika   2.208382     4.556208\n",
      "Samuel Eto'o        2.369600     4.613276\n",
      "George Best         2.228953     4.434564\n",
      "George Weah         2.276209     4.614172\n",
      "Roberto Donadoni    2.370042     4.676639\n"
     ]
    }
   ],
   "source": [
    "print(np.log(df))"
   ]
  },
  {
   "cell_type": "code",
   "execution_count": 107,
   "metadata": {},
   "outputs": [
    {
     "data": {
      "text/plain": [
       "shoe_size       10.791259\n",
       "jersey_size    109.067161\n",
       "dtype: float64"
      ]
     },
     "execution_count": 107,
     "metadata": {},
     "output_type": "execute_result"
    }
   ],
   "source": [
    "df.mean()"
   ]
  },
  {
   "cell_type": "markdown",
   "metadata": {},
   "source": [
    "We'll explore applying functions and analyzing data in a DataFrame in more depth later on. First we need to know how to retrieve, add, and remove data from a DataFrame.\n",
    "\n",
    "We've already seen how to retrieve a column, what about retrieving a row? The most flexible syntax is to use the DataFrame's `loc` method."
   ]
  },
  {
   "cell_type": "code",
   "execution_count": 108,
   "metadata": {},
   "outputs": [
    {
     "name": "stdout",
     "output_type": "stream",
     "text": [
      "shoe_size       10.287322\n",
      "jersey_size    101.195919\n",
      "Name: Ronaldo, dtype: float64\n"
     ]
    }
   ],
   "source": [
    "print(df.loc['Ronaldo'])"
   ]
  },
  {
   "cell_type": "code",
   "execution_count": 109,
   "metadata": {},
   "outputs": [
    {
     "name": "stdout",
     "output_type": "stream",
     "text": [
      "Ronaldo        10.287322\n",
      "George Best     9.290131\n",
      "Name: shoe_size, dtype: float64\n"
     ]
    }
   ],
   "source": [
    "print(df.loc[['Ronaldo', 'George Best'], 'shoe_size'])"
   ]
  },
  {
   "cell_type": "code",
   "execution_count": 110,
   "metadata": {},
   "outputs": [
    {
     "name": "stdout",
     "output_type": "stream",
     "text": [
      "Ronaldo              10.287322\n",
      "Yaya Toure           11.688427\n",
      "Frank Rijkaard       10.264170\n",
      "Diego Maradona       11.028858\n",
      "Mohamed Aboutrika     9.100980\n",
      "Samuel Eto'o         10.693114\n",
      "George Best           9.290131\n",
      "Name: shoe_size, dtype: float64\n"
     ]
    }
   ],
   "source": [
    "# can also select position-based slices of data\n",
    "print(df.loc['Ronaldo':'George Best', 'shoe_size'])"
   ]
  },
  {
   "cell_type": "code",
   "execution_count": 111,
   "metadata": {},
   "outputs": [
    {
     "name": "stdout",
     "output_type": "stream",
     "text": [
      "                 shoe_size  jersey_size\n",
      "Ronaldinho       10.436707   114.823967\n",
      "Pele             11.136670   113.340554\n",
      "Lionel Messi     11.839779   118.339248\n",
      "Zinedine Zidane  12.666317   122.504292\n",
      "Didier Drogba    12.207622   126.557231\n"
     ]
    }
   ],
   "source": [
    "# for position-based indexing, we will typically use iloc\n",
    "print(df.iloc[:5])"
   ]
  },
  {
   "cell_type": "code",
   "execution_count": 112,
   "metadata": {},
   "outputs": [
    {
     "name": "stdout",
     "output_type": "stream",
     "text": [
      "Lionel Messi       11.839779\n",
      "Zinedine Zidane    12.666317\n",
      "Name: shoe_size, dtype: float64\n"
     ]
    }
   ],
   "source": [
    "print(df.iloc[2:4, 0])"
   ]
  },
  {
   "cell_type": "code",
   "execution_count": 113,
   "metadata": {},
   "outputs": [
    {
     "data": {
      "text/html": [
       "<div>\n",
       "<style scoped>\n",
       "    .dataframe tbody tr th:only-of-type {\n",
       "        vertical-align: middle;\n",
       "    }\n",
       "\n",
       "    .dataframe tbody tr th {\n",
       "        vertical-align: top;\n",
       "    }\n",
       "\n",
       "    .dataframe thead th {\n",
       "        text-align: right;\n",
       "    }\n",
       "</style>\n",
       "<table border=\"1\" class=\"dataframe\">\n",
       "  <thead>\n",
       "    <tr style=\"text-align: right;\">\n",
       "      <th></th>\n",
       "      <th>shoe_size</th>\n",
       "      <th>jersey_size</th>\n",
       "    </tr>\n",
       "  </thead>\n",
       "  <tbody>\n",
       "    <tr>\n",
       "      <th>Ronaldinho</th>\n",
       "      <td>10.436707</td>\n",
       "      <td>114.823967</td>\n",
       "    </tr>\n",
       "    <tr>\n",
       "      <th>Pele</th>\n",
       "      <td>11.136670</td>\n",
       "      <td>113.340554</td>\n",
       "    </tr>\n",
       "    <tr>\n",
       "      <th>Lionel Messi</th>\n",
       "      <td>11.839779</td>\n",
       "      <td>118.339248</td>\n",
       "    </tr>\n",
       "    <tr>\n",
       "      <th>Zinedine Zidane</th>\n",
       "      <td>12.666317</td>\n",
       "      <td>122.504292</td>\n",
       "    </tr>\n",
       "    <tr>\n",
       "      <th>Didier Drogba</th>\n",
       "      <td>12.207622</td>\n",
       "      <td>126.557231</td>\n",
       "    </tr>\n",
       "  </tbody>\n",
       "</table>\n",
       "</div>"
      ],
      "text/plain": [
       "                 shoe_size  jersey_size\n",
       "Ronaldinho       10.436707   114.823967\n",
       "Pele             11.136670   113.340554\n",
       "Lionel Messi     11.839779   118.339248\n",
       "Zinedine Zidane  12.666317   122.504292\n",
       "Didier Drogba    12.207622   126.557231"
      ]
     },
     "execution_count": 113,
     "metadata": {},
     "output_type": "execute_result"
    }
   ],
   "source": [
    "# to see just the top of the DataFrame, use head\n",
    "df.head()"
   ]
  },
  {
   "cell_type": "code",
   "execution_count": 114,
   "metadata": {},
   "outputs": [
    {
     "data": {
      "text/html": [
       "<div>\n",
       "<style scoped>\n",
       "    .dataframe tbody tr th:only-of-type {\n",
       "        vertical-align: middle;\n",
       "    }\n",
       "\n",
       "    .dataframe tbody tr th {\n",
       "        vertical-align: top;\n",
       "    }\n",
       "\n",
       "    .dataframe thead th {\n",
       "        text-align: right;\n",
       "    }\n",
       "</style>\n",
       "<table border=\"1\" class=\"dataframe\">\n",
       "  <thead>\n",
       "    <tr style=\"text-align: right;\">\n",
       "      <th></th>\n",
       "      <th>shoe_size</th>\n",
       "      <th>jersey_size</th>\n",
       "    </tr>\n",
       "  </thead>\n",
       "  <tbody>\n",
       "    <tr>\n",
       "      <th>Mohamed Aboutrika</th>\n",
       "      <td>9.100980</td>\n",
       "      <td>95.221666</td>\n",
       "    </tr>\n",
       "    <tr>\n",
       "      <th>Samuel Eto'o</th>\n",
       "      <td>10.693114</td>\n",
       "      <td>100.813847</td>\n",
       "    </tr>\n",
       "    <tr>\n",
       "      <th>George Best</th>\n",
       "      <td>9.290131</td>\n",
       "      <td>84.315314</td>\n",
       "    </tr>\n",
       "    <tr>\n",
       "      <th>George Weah</th>\n",
       "      <td>9.739684</td>\n",
       "      <td>100.904197</td>\n",
       "    </tr>\n",
       "    <tr>\n",
       "      <th>Roberto Donadoni</th>\n",
       "      <td>10.697843</td>\n",
       "      <td>107.408455</td>\n",
       "    </tr>\n",
       "  </tbody>\n",
       "</table>\n",
       "</div>"
      ],
      "text/plain": [
       "                   shoe_size  jersey_size\n",
       "Mohamed Aboutrika   9.100980    95.221666\n",
       "Samuel Eto'o       10.693114   100.813847\n",
       "George Best         9.290131    84.315314\n",
       "George Weah         9.739684   100.904197\n",
       "Roberto Donadoni   10.697843   107.408455"
      ]
     },
     "execution_count": 114,
     "metadata": {},
     "output_type": "execute_result"
    }
   ],
   "source": [
    "# of for the bottom use tail\n",
    "df.tail()"
   ]
  },
  {
   "cell_type": "markdown",
   "metadata": {},
   "source": [
    "Just as with a `dict`, we can add data to our DataFrame by simply using the same syntax as we would use to retrieve data, but matching it with an assignment."
   ]
  },
  {
   "cell_type": "code",
   "execution_count": 115,
   "metadata": {},
   "outputs": [
    {
     "data": {
      "text/html": [
       "<div>\n",
       "<style scoped>\n",
       "    .dataframe tbody tr th:only-of-type {\n",
       "        vertical-align: middle;\n",
       "    }\n",
       "\n",
       "    .dataframe tbody tr th {\n",
       "        vertical-align: top;\n",
       "    }\n",
       "\n",
       "    .dataframe thead th {\n",
       "        text-align: right;\n",
       "    }\n",
       "</style>\n",
       "<table border=\"1\" class=\"dataframe\">\n",
       "  <thead>\n",
       "    <tr style=\"text-align: right;\">\n",
       "      <th></th>\n",
       "      <th>shoe_size</th>\n",
       "      <th>jersey_size</th>\n",
       "      <th>position</th>\n",
       "    </tr>\n",
       "  </thead>\n",
       "  <tbody>\n",
       "    <tr>\n",
       "      <th>Ronaldinho</th>\n",
       "      <td>10.436707</td>\n",
       "      <td>114.823967</td>\n",
       "      <td>attack</td>\n",
       "    </tr>\n",
       "    <tr>\n",
       "      <th>Pele</th>\n",
       "      <td>11.136670</td>\n",
       "      <td>113.340554</td>\n",
       "      <td>midfield</td>\n",
       "    </tr>\n",
       "    <tr>\n",
       "      <th>Lionel Messi</th>\n",
       "      <td>11.839779</td>\n",
       "      <td>118.339248</td>\n",
       "      <td>goaltender</td>\n",
       "    </tr>\n",
       "    <tr>\n",
       "      <th>Zinedine Zidane</th>\n",
       "      <td>12.666317</td>\n",
       "      <td>122.504292</td>\n",
       "      <td>defense</td>\n",
       "    </tr>\n",
       "    <tr>\n",
       "      <th>Didier Drogba</th>\n",
       "      <td>12.207622</td>\n",
       "      <td>126.557231</td>\n",
       "      <td>goaltender</td>\n",
       "    </tr>\n",
       "  </tbody>\n",
       "</table>\n",
       "</div>"
      ],
      "text/plain": [
       "                 shoe_size  jersey_size    position\n",
       "Ronaldinho       10.436707   114.823967      attack\n",
       "Pele             11.136670   113.340554    midfield\n",
       "Lionel Messi     11.839779   118.339248  goaltender\n",
       "Zinedine Zidane  12.666317   122.504292     defense\n",
       "Didier Drogba    12.207622   126.557231  goaltender"
      ]
     },
     "execution_count": 115,
     "metadata": {},
     "output_type": "execute_result"
    }
   ],
   "source": [
    "# adding a new column\n",
    "df['position'] = np.random.choice(['goaltender', 'defense', 'midfield', 'attack'], size=len(df))\n",
    "df.head()"
   ]
  },
  {
   "cell_type": "code",
   "execution_count": 116,
   "metadata": {},
   "outputs": [
    {
     "data": {
      "text/plain": [
       "shoe_size             9\n",
       "jersey_size          91\n",
       "position       midfield\n",
       "Name: Dylan, dtype: object"
      ]
     },
     "execution_count": 116,
     "metadata": {},
     "output_type": "execute_result"
    }
   ],
   "source": [
    "# adding a new row\n",
    "df.loc['Dylan'] = {'jersey_size': 91, 'shoe_size': 9, 'position': 'midfield'}\n",
    "df.loc['Dylan']"
   ]
  },
  {
   "cell_type": "markdown",
   "metadata": {},
   "source": [
    "To delete data, we can use the DataFrame's `drop` method."
   ]
  },
  {
   "cell_type": "code",
   "execution_count": 117,
   "metadata": {},
   "outputs": [
    {
     "data": {
      "text/html": [
       "<div>\n",
       "<style scoped>\n",
       "    .dataframe tbody tr th:only-of-type {\n",
       "        vertical-align: middle;\n",
       "    }\n",
       "\n",
       "    .dataframe tbody tr th {\n",
       "        vertical-align: top;\n",
       "    }\n",
       "\n",
       "    .dataframe thead th {\n",
       "        text-align: right;\n",
       "    }\n",
       "</style>\n",
       "<table border=\"1\" class=\"dataframe\">\n",
       "  <thead>\n",
       "    <tr style=\"text-align: right;\">\n",
       "      <th></th>\n",
       "      <th>shoe_size</th>\n",
       "      <th>jersey_size</th>\n",
       "      <th>position</th>\n",
       "    </tr>\n",
       "  </thead>\n",
       "  <tbody>\n",
       "    <tr>\n",
       "      <th>Ronaldinho</th>\n",
       "      <td>10.436707</td>\n",
       "      <td>114.823967</td>\n",
       "      <td>attack</td>\n",
       "    </tr>\n",
       "    <tr>\n",
       "      <th>Pele</th>\n",
       "      <td>11.136670</td>\n",
       "      <td>113.340554</td>\n",
       "      <td>midfield</td>\n",
       "    </tr>\n",
       "    <tr>\n",
       "      <th>Lionel Messi</th>\n",
       "      <td>11.839779</td>\n",
       "      <td>118.339248</td>\n",
       "      <td>goaltender</td>\n",
       "    </tr>\n",
       "    <tr>\n",
       "      <th>Zinedine Zidane</th>\n",
       "      <td>12.666317</td>\n",
       "      <td>122.504292</td>\n",
       "      <td>defense</td>\n",
       "    </tr>\n",
       "    <tr>\n",
       "      <th>Didier Drogba</th>\n",
       "      <td>12.207622</td>\n",
       "      <td>126.557231</td>\n",
       "      <td>goaltender</td>\n",
       "    </tr>\n",
       "    <tr>\n",
       "      <th>Ronaldo</th>\n",
       "      <td>10.287322</td>\n",
       "      <td>101.195919</td>\n",
       "      <td>defense</td>\n",
       "    </tr>\n",
       "    <tr>\n",
       "      <th>Yaya Toure</th>\n",
       "      <td>11.688427</td>\n",
       "      <td>118.755030</td>\n",
       "      <td>attack</td>\n",
       "    </tr>\n",
       "    <tr>\n",
       "      <th>Frank Rijkaard</th>\n",
       "      <td>10.264170</td>\n",
       "      <td>106.151408</td>\n",
       "      <td>midfield</td>\n",
       "    </tr>\n",
       "    <tr>\n",
       "      <th>Diego Maradona</th>\n",
       "      <td>11.028858</td>\n",
       "      <td>116.609130</td>\n",
       "      <td>goaltender</td>\n",
       "    </tr>\n",
       "    <tr>\n",
       "      <th>Mohamed Aboutrika</th>\n",
       "      <td>9.100980</td>\n",
       "      <td>95.221666</td>\n",
       "      <td>defense</td>\n",
       "    </tr>\n",
       "    <tr>\n",
       "      <th>Samuel Eto'o</th>\n",
       "      <td>10.693114</td>\n",
       "      <td>100.813847</td>\n",
       "      <td>attack</td>\n",
       "    </tr>\n",
       "    <tr>\n",
       "      <th>George Best</th>\n",
       "      <td>9.290131</td>\n",
       "      <td>84.315314</td>\n",
       "      <td>midfield</td>\n",
       "    </tr>\n",
       "    <tr>\n",
       "      <th>George Weah</th>\n",
       "      <td>9.739684</td>\n",
       "      <td>100.904197</td>\n",
       "      <td>midfield</td>\n",
       "    </tr>\n",
       "    <tr>\n",
       "      <th>Roberto Donadoni</th>\n",
       "      <td>10.697843</td>\n",
       "      <td>107.408455</td>\n",
       "      <td>midfield</td>\n",
       "    </tr>\n",
       "  </tbody>\n",
       "</table>\n",
       "</div>"
      ],
      "text/plain": [
       "                   shoe_size  jersey_size    position\n",
       "Ronaldinho         10.436707   114.823967      attack\n",
       "Pele               11.136670   113.340554    midfield\n",
       "Lionel Messi       11.839779   118.339248  goaltender\n",
       "Zinedine Zidane    12.666317   122.504292     defense\n",
       "Didier Drogba      12.207622   126.557231  goaltender\n",
       "Ronaldo            10.287322   101.195919     defense\n",
       "Yaya Toure         11.688427   118.755030      attack\n",
       "Frank Rijkaard     10.264170   106.151408    midfield\n",
       "Diego Maradona     11.028858   116.609130  goaltender\n",
       "Mohamed Aboutrika   9.100980    95.221666     defense\n",
       "Samuel Eto'o       10.693114   100.813847      attack\n",
       "George Best         9.290131    84.315314    midfield\n",
       "George Weah         9.739684   100.904197    midfield\n",
       "Roberto Donadoni   10.697843   107.408455    midfield"
      ]
     },
     "execution_count": 117,
     "metadata": {},
     "output_type": "execute_result"
    }
   ],
   "source": [
    "df.drop('Dylan')"
   ]
  },
  {
   "cell_type": "code",
   "execution_count": 118,
   "metadata": {},
   "outputs": [
    {
     "data": {
      "text/html": [
       "<div>\n",
       "<style scoped>\n",
       "    .dataframe tbody tr th:only-of-type {\n",
       "        vertical-align: middle;\n",
       "    }\n",
       "\n",
       "    .dataframe tbody tr th {\n",
       "        vertical-align: top;\n",
       "    }\n",
       "\n",
       "    .dataframe thead th {\n",
       "        text-align: right;\n",
       "    }\n",
       "</style>\n",
       "<table border=\"1\" class=\"dataframe\">\n",
       "  <thead>\n",
       "    <tr style=\"text-align: right;\">\n",
       "      <th></th>\n",
       "      <th>shoe_size</th>\n",
       "      <th>jersey_size</th>\n",
       "    </tr>\n",
       "  </thead>\n",
       "  <tbody>\n",
       "    <tr>\n",
       "      <th>Ronaldinho</th>\n",
       "      <td>10.436707</td>\n",
       "      <td>114.823967</td>\n",
       "    </tr>\n",
       "    <tr>\n",
       "      <th>Pele</th>\n",
       "      <td>11.136670</td>\n",
       "      <td>113.340554</td>\n",
       "    </tr>\n",
       "    <tr>\n",
       "      <th>Lionel Messi</th>\n",
       "      <td>11.839779</td>\n",
       "      <td>118.339248</td>\n",
       "    </tr>\n",
       "    <tr>\n",
       "      <th>Zinedine Zidane</th>\n",
       "      <td>12.666317</td>\n",
       "      <td>122.504292</td>\n",
       "    </tr>\n",
       "    <tr>\n",
       "      <th>Didier Drogba</th>\n",
       "      <td>12.207622</td>\n",
       "      <td>126.557231</td>\n",
       "    </tr>\n",
       "    <tr>\n",
       "      <th>Ronaldo</th>\n",
       "      <td>10.287322</td>\n",
       "      <td>101.195919</td>\n",
       "    </tr>\n",
       "    <tr>\n",
       "      <th>Yaya Toure</th>\n",
       "      <td>11.688427</td>\n",
       "      <td>118.755030</td>\n",
       "    </tr>\n",
       "    <tr>\n",
       "      <th>Frank Rijkaard</th>\n",
       "      <td>10.264170</td>\n",
       "      <td>106.151408</td>\n",
       "    </tr>\n",
       "    <tr>\n",
       "      <th>Diego Maradona</th>\n",
       "      <td>11.028858</td>\n",
       "      <td>116.609130</td>\n",
       "    </tr>\n",
       "    <tr>\n",
       "      <th>Mohamed Aboutrika</th>\n",
       "      <td>9.100980</td>\n",
       "      <td>95.221666</td>\n",
       "    </tr>\n",
       "    <tr>\n",
       "      <th>Samuel Eto'o</th>\n",
       "      <td>10.693114</td>\n",
       "      <td>100.813847</td>\n",
       "    </tr>\n",
       "    <tr>\n",
       "      <th>George Best</th>\n",
       "      <td>9.290131</td>\n",
       "      <td>84.315314</td>\n",
       "    </tr>\n",
       "    <tr>\n",
       "      <th>George Weah</th>\n",
       "      <td>9.739684</td>\n",
       "      <td>100.904197</td>\n",
       "    </tr>\n",
       "    <tr>\n",
       "      <th>Roberto Donadoni</th>\n",
       "      <td>10.697843</td>\n",
       "      <td>107.408455</td>\n",
       "    </tr>\n",
       "    <tr>\n",
       "      <th>Dylan</th>\n",
       "      <td>9.000000</td>\n",
       "      <td>91.000000</td>\n",
       "    </tr>\n",
       "  </tbody>\n",
       "</table>\n",
       "</div>"
      ],
      "text/plain": [
       "                   shoe_size  jersey_size\n",
       "Ronaldinho         10.436707   114.823967\n",
       "Pele               11.136670   113.340554\n",
       "Lionel Messi       11.839779   118.339248\n",
       "Zinedine Zidane    12.666317   122.504292\n",
       "Didier Drogba      12.207622   126.557231\n",
       "Ronaldo            10.287322   101.195919\n",
       "Yaya Toure         11.688427   118.755030\n",
       "Frank Rijkaard     10.264170   106.151408\n",
       "Diego Maradona     11.028858   116.609130\n",
       "Mohamed Aboutrika   9.100980    95.221666\n",
       "Samuel Eto'o       10.693114   100.813847\n",
       "George Best         9.290131    84.315314\n",
       "George Weah         9.739684   100.904197\n",
       "Roberto Donadoni   10.697843   107.408455\n",
       "Dylan               9.000000    91.000000"
      ]
     },
     "execution_count": 118,
     "metadata": {},
     "output_type": "execute_result"
    }
   ],
   "source": [
    "df.drop('position', axis=1)"
   ]
  },
  {
   "cell_type": "markdown",
   "metadata": {},
   "source": [
    "Notice when we executed `df.drop('position', axis=1)`, there was an entry for `Dylan` even though we had just executed `df.drop('Dylan')`. We have to be careful when using `drop`; many DataFrame functions return a _copy_ of the DataFrame. In order to make the change permanent, we either need to reassign `df` to the copy returned by `df.drop()` or we have to use the keyword `inplace`."
   ]
  },
  {
   "cell_type": "code",
   "execution_count": 119,
   "metadata": {},
   "outputs": [
    {
     "name": "stdout",
     "output_type": "stream",
     "text": [
      "                   shoe_size  jersey_size    position\n",
      "Ronaldinho         10.436707   114.823967      attack\n",
      "Pele               11.136670   113.340554    midfield\n",
      "Lionel Messi       11.839779   118.339248  goaltender\n",
      "Zinedine Zidane    12.666317   122.504292     defense\n",
      "Didier Drogba      12.207622   126.557231  goaltender\n",
      "Ronaldo            10.287322   101.195919     defense\n",
      "Yaya Toure         11.688427   118.755030      attack\n",
      "Frank Rijkaard     10.264170   106.151408    midfield\n",
      "Diego Maradona     11.028858   116.609130  goaltender\n",
      "Mohamed Aboutrika   9.100980    95.221666     defense\n",
      "Samuel Eto'o       10.693114   100.813847      attack\n",
      "George Best         9.290131    84.315314    midfield\n",
      "George Weah         9.739684   100.904197    midfield\n",
      "Roberto Donadoni   10.697843   107.408455    midfield\n"
     ]
    }
   ],
   "source": [
    "df = df.drop('Dylan')\n",
    "print(df)"
   ]
  },
  {
   "cell_type": "code",
   "execution_count": 120,
   "metadata": {},
   "outputs": [
    {
     "name": "stdout",
     "output_type": "stream",
     "text": [
      "                   shoe_size  jersey_size\n",
      "Ronaldinho         10.436707   114.823967\n",
      "Pele               11.136670   113.340554\n",
      "Lionel Messi       11.839779   118.339248\n",
      "Zinedine Zidane    12.666317   122.504292\n",
      "Didier Drogba      12.207622   126.557231\n",
      "Ronaldo            10.287322   101.195919\n",
      "Yaya Toure         11.688427   118.755030\n",
      "Frank Rijkaard     10.264170   106.151408\n",
      "Diego Maradona     11.028858   116.609130\n",
      "Mohamed Aboutrika   9.100980    95.221666\n",
      "Samuel Eto'o       10.693114   100.813847\n",
      "George Best         9.290131    84.315314\n",
      "George Weah         9.739684   100.904197\n",
      "Roberto Donadoni   10.697843   107.408455\n"
     ]
    }
   ],
   "source": [
    "df.drop('position', axis=1, inplace=True)\n",
    "print(df)"
   ]
  },
  {
   "cell_type": "markdown",
   "metadata": {},
   "source": [
    "We'll explore Pandas in much more detail later in the course, since it has many powerful tools for data analysis. However, even with these tools you can already start to discover patterns in data and draw interesting conclusions."
   ]
  },
  {
   "cell_type": "markdown",
   "metadata": {},
   "source": [
    "*Copyright &copy; 2017 The Data Incubator.  All rights reserved.*"
   ]
  }
 ],
 "metadata": {
  "kernelspec": {
   "display_name": "Python 3",
   "language": "python",
   "name": "python3"
  },
  "language_info": {
   "codemirror_mode": {
    "name": "ipython",
    "version": 3
   },
   "file_extension": ".py",
   "mimetype": "text/x-python",
   "name": "python",
   "nbconvert_exporter": "python",
   "pygments_lexer": "ipython3",
   "version": "3.7.3"
  },
  "nbclean": true
 },
 "nbformat": 4,
 "nbformat_minor": 1
}
