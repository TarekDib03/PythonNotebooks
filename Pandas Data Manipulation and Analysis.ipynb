{
 "cells": [
  {
   "cell_type": "code",
   "execution_count": 4,
   "metadata": {},
   "outputs": [],
   "source": [
    "%matplotlib inline\n",
    "import matplotlib\n",
    "import seaborn as sns\n",
    "sns.set()\n",
    "matplotlib.rcParams['figure.dpi'] = 144"
   ]
  },
  {
   "cell_type": "markdown",
   "metadata": {},
   "source": [
    "### Read Data Using Pandas"
   ]
  },
  {
   "cell_type": "code",
   "execution_count": 5,
   "metadata": {},
   "outputs": [],
   "source": [
    "import pandas as pd"
   ]
  },
  {
   "cell_type": "code",
   "execution_count": 6,
   "metadata": {},
   "outputs": [
    {
     "name": "stdout",
     "output_type": "stream",
     "text": [
      "-rw-r--r-- 1 Tarek 197121 4.2M Nov 13 14:09 ./yelp.json.gz\n"
     ]
    }
   ],
   "source": [
    "!ls -lh ./yelp.json.gz"
   ]
  },
  {
   "cell_type": "code",
   "execution_count": 18,
   "metadata": {},
   "outputs": [
    {
     "data": {
      "text/plain": [
       "'0.24.2'"
      ]
     },
     "execution_count": 18,
     "metadata": {},
     "output_type": "execute_result"
    }
   ],
   "source": [
    "pd.__version__"
   ]
  },
  {
   "cell_type": "code",
   "execution_count": 27,
   "metadata": {},
   "outputs": [
    {
     "data": {
      "text/plain": [
       "attributes        object\n",
       "business_id       object\n",
       "categories        object\n",
       "city              object\n",
       "full_address      object\n",
       "hours             object\n",
       "latitude         float64\n",
       "longitude        float64\n",
       "name              object\n",
       "neighborhoods     object\n",
       "open                bool\n",
       "review_count       int64\n",
       "stars            float64\n",
       "state             object\n",
       "type              object\n",
       "dtype: object"
      ]
     },
     "execution_count": 27,
     "metadata": {},
     "output_type": "execute_result"
    }
   ],
   "source": [
    "yelp_df = pd.read_json('yelp.json.gz', orient = 'records', lines = True)\n",
    "yelp_df.dtypes"
   ]
  },
  {
   "cell_type": "code",
   "execution_count": 34,
   "metadata": {},
   "outputs": [
    {
     "data": {
      "text/html": [
       "<div>\n",
       "<style scoped>\n",
       "    .dataframe tbody tr th:only-of-type {\n",
       "        vertical-align: middle;\n",
       "    }\n",
       "\n",
       "    .dataframe tbody tr th {\n",
       "        vertical-align: top;\n",
       "    }\n",
       "\n",
       "    .dataframe thead th {\n",
       "        text-align: right;\n",
       "    }\n",
       "</style>\n",
       "<table border=\"1\" class=\"dataframe\">\n",
       "  <thead>\n",
       "    <tr style=\"text-align: right;\">\n",
       "      <th></th>\n",
       "      <th>attributes</th>\n",
       "      <th>business_id</th>\n",
       "      <th>categories</th>\n",
       "      <th>city</th>\n",
       "      <th>full_address</th>\n",
       "      <th>hours</th>\n",
       "      <th>latitude</th>\n",
       "      <th>longitude</th>\n",
       "      <th>name</th>\n",
       "      <th>neighborhoods</th>\n",
       "      <th>open</th>\n",
       "      <th>review_count</th>\n",
       "      <th>stars</th>\n",
       "      <th>state</th>\n",
       "      <th>type</th>\n",
       "    </tr>\n",
       "  </thead>\n",
       "  <tbody>\n",
       "    <tr>\n",
       "      <th>0</th>\n",
       "      <td>{'By Appointment Only': True}</td>\n",
       "      <td>vcNAWiLM4dR7D2nwwJ7nCA</td>\n",
       "      <td>[Doctors, Health &amp; Medical]</td>\n",
       "      <td>Phoenix</td>\n",
       "      <td>4840 E Indian School Rd\\nSte 101\\nPhoenix, AZ ...</td>\n",
       "      <td>{'Tuesday': {'close': '17:00', 'open': '08:00'...</td>\n",
       "      <td>33.499313</td>\n",
       "      <td>-111.983758</td>\n",
       "      <td>Eric Goldberg, MD</td>\n",
       "      <td>[]</td>\n",
       "      <td>True</td>\n",
       "      <td>7</td>\n",
       "      <td>3.5</td>\n",
       "      <td>AZ</td>\n",
       "      <td>business</td>\n",
       "    </tr>\n",
       "    <tr>\n",
       "      <th>1</th>\n",
       "      <td>{'Take-out': True, 'Good For': {'dessert': Fal...</td>\n",
       "      <td>JwUE5GmEO-sH1FuwJgKBlQ</td>\n",
       "      <td>[Restaurants]</td>\n",
       "      <td>De Forest</td>\n",
       "      <td>6162 US Highway 51\\nDe Forest, WI 53532</td>\n",
       "      <td>{}</td>\n",
       "      <td>43.238893</td>\n",
       "      <td>-89.335844</td>\n",
       "      <td>Pine Cone Restaurant</td>\n",
       "      <td>[]</td>\n",
       "      <td>True</td>\n",
       "      <td>26</td>\n",
       "      <td>4.0</td>\n",
       "      <td>WI</td>\n",
       "      <td>business</td>\n",
       "    </tr>\n",
       "    <tr>\n",
       "      <th>2</th>\n",
       "      <td>{'Take-out': True, 'Good For': {'dessert': Fal...</td>\n",
       "      <td>uGykseHzyS5xAMWoN6YUqA</td>\n",
       "      <td>[American (Traditional), Restaurants]</td>\n",
       "      <td>De Forest</td>\n",
       "      <td>505 W North St\\nDe Forest, WI 53532</td>\n",
       "      <td>{'Monday': {'close': '22:00', 'open': '06:00'}...</td>\n",
       "      <td>43.252267</td>\n",
       "      <td>-89.353437</td>\n",
       "      <td>Deforest Family Restaurant</td>\n",
       "      <td>[]</td>\n",
       "      <td>True</td>\n",
       "      <td>16</td>\n",
       "      <td>4.0</td>\n",
       "      <td>WI</td>\n",
       "      <td>business</td>\n",
       "    </tr>\n",
       "    <tr>\n",
       "      <th>3</th>\n",
       "      <td>{'Take-out': True, 'Wi-Fi': 'free', 'Takes Res...</td>\n",
       "      <td>LRKJF43s9-3jG9Lgx4zODg</td>\n",
       "      <td>[Food, Ice Cream &amp; Frozen Yogurt, Fast Food, R...</td>\n",
       "      <td>De Forest</td>\n",
       "      <td>4910 County Rd V\\nDe Forest, WI 53532</td>\n",
       "      <td>{'Monday': {'close': '22:00', 'open': '10:30'}...</td>\n",
       "      <td>43.251045</td>\n",
       "      <td>-89.374983</td>\n",
       "      <td>Culver's</td>\n",
       "      <td>[]</td>\n",
       "      <td>True</td>\n",
       "      <td>7</td>\n",
       "      <td>4.5</td>\n",
       "      <td>WI</td>\n",
       "      <td>business</td>\n",
       "    </tr>\n",
       "    <tr>\n",
       "      <th>4</th>\n",
       "      <td>{'Take-out': True, 'Has TV': False, 'Outdoor S...</td>\n",
       "      <td>RgDg-k9S5YD_BaxMckifkg</td>\n",
       "      <td>[Chinese, Restaurants]</td>\n",
       "      <td>De Forest</td>\n",
       "      <td>631 S Main St\\nDe Forest, WI 53532</td>\n",
       "      <td>{'Monday': {'close': '22:00', 'open': '11:00'}...</td>\n",
       "      <td>43.240875</td>\n",
       "      <td>-89.343722</td>\n",
       "      <td>Chang Jiang Chinese Kitchen</td>\n",
       "      <td>[]</td>\n",
       "      <td>True</td>\n",
       "      <td>3</td>\n",
       "      <td>4.0</td>\n",
       "      <td>WI</td>\n",
       "      <td>business</td>\n",
       "    </tr>\n",
       "  </tbody>\n",
       "</table>\n",
       "</div>"
      ],
      "text/plain": [
       "                                          attributes             business_id  \\\n",
       "0                      {'By Appointment Only': True}  vcNAWiLM4dR7D2nwwJ7nCA   \n",
       "1  {'Take-out': True, 'Good For': {'dessert': Fal...  JwUE5GmEO-sH1FuwJgKBlQ   \n",
       "2  {'Take-out': True, 'Good For': {'dessert': Fal...  uGykseHzyS5xAMWoN6YUqA   \n",
       "3  {'Take-out': True, 'Wi-Fi': 'free', 'Takes Res...  LRKJF43s9-3jG9Lgx4zODg   \n",
       "4  {'Take-out': True, 'Has TV': False, 'Outdoor S...  RgDg-k9S5YD_BaxMckifkg   \n",
       "\n",
       "                                          categories       city  \\\n",
       "0                        [Doctors, Health & Medical]    Phoenix   \n",
       "1                                      [Restaurants]  De Forest   \n",
       "2              [American (Traditional), Restaurants]  De Forest   \n",
       "3  [Food, Ice Cream & Frozen Yogurt, Fast Food, R...  De Forest   \n",
       "4                             [Chinese, Restaurants]  De Forest   \n",
       "\n",
       "                                        full_address  \\\n",
       "0  4840 E Indian School Rd\\nSte 101\\nPhoenix, AZ ...   \n",
       "1            6162 US Highway 51\\nDe Forest, WI 53532   \n",
       "2                505 W North St\\nDe Forest, WI 53532   \n",
       "3              4910 County Rd V\\nDe Forest, WI 53532   \n",
       "4                 631 S Main St\\nDe Forest, WI 53532   \n",
       "\n",
       "                                               hours   latitude   longitude  \\\n",
       "0  {'Tuesday': {'close': '17:00', 'open': '08:00'...  33.499313 -111.983758   \n",
       "1                                                 {}  43.238893  -89.335844   \n",
       "2  {'Monday': {'close': '22:00', 'open': '06:00'}...  43.252267  -89.353437   \n",
       "3  {'Monday': {'close': '22:00', 'open': '10:30'}...  43.251045  -89.374983   \n",
       "4  {'Monday': {'close': '22:00', 'open': '11:00'}...  43.240875  -89.343722   \n",
       "\n",
       "                          name neighborhoods  open  review_count  stars state  \\\n",
       "0            Eric Goldberg, MD            []  True             7    3.5    AZ   \n",
       "1         Pine Cone Restaurant            []  True            26    4.0    WI   \n",
       "2   Deforest Family Restaurant            []  True            16    4.0    WI   \n",
       "3                     Culver's            []  True             7    4.5    WI   \n",
       "4  Chang Jiang Chinese Kitchen            []  True             3    4.0    WI   \n",
       "\n",
       "       type  \n",
       "0  business  \n",
       "1  business  \n",
       "2  business  \n",
       "3  business  \n",
       "4  business  "
      ]
     },
     "execution_count": 34,
     "metadata": {},
     "output_type": "execute_result"
    }
   ],
   "source": [
    "yelp_df.head()"
   ]
  },
  {
   "cell_type": "code",
   "execution_count": 7,
   "metadata": {},
   "outputs": [],
   "source": [
    "import gzip\n",
    "import simplejson as json\n",
    "\n",
    "with gzip.open('./yelp.json.gz', 'r') as f:\n",
    "    yelp_data = [json.loads(line) for line in f]\n",
    "    \n",
    "yelp_df = pd.DataFrame(yelp_data)"
   ]
  },
  {
   "cell_type": "code",
   "execution_count": 14,
   "metadata": {},
   "outputs": [
    {
     "data": {
      "text/plain": [
       "(37938, 15)"
      ]
     },
     "execution_count": 14,
     "metadata": {},
     "output_type": "execute_result"
    }
   ],
   "source": [
    "r, c = yelp_df.shape\n",
    "r, c"
   ]
  },
  {
   "cell_type": "code",
   "execution_count": 1,
   "metadata": {},
   "outputs": [],
   "source": [
    "# yelp_df.columns.tolist()"
   ]
  },
  {
   "cell_type": "code",
   "execution_count": 20,
   "metadata": {},
   "outputs": [
    {
     "data": {
      "text/plain": [
       "['attributes',\n",
       " 'business_id',\n",
       " 'categories',\n",
       " 'city',\n",
       " 'full_address',\n",
       " 'hours',\n",
       " 'latitude',\n",
       " 'longitude',\n",
       " 'name',\n",
       " 'neighborhoods',\n",
       " 'open',\n",
       " 'review_count',\n",
       " 'stars',\n",
       " 'state',\n",
       " 'type']"
      ]
     },
     "execution_count": 20,
     "metadata": {},
     "output_type": "execute_result"
    }
   ],
   "source": [
    "# Another way to extract column names off the pandas dataframe\n",
    "sorted(yelp_df)"
   ]
  },
  {
   "cell_type": "code",
   "execution_count": 67,
   "metadata": {},
   "outputs": [
    {
     "data": {
      "text/plain": [
       "attributes        object\n",
       "business_id       object\n",
       "categories        object\n",
       "city              object\n",
       "full_address      object\n",
       "hours             object\n",
       "latitude         float64\n",
       "longitude        float64\n",
       "name              object\n",
       "neighborhoods     object\n",
       "open                bool\n",
       "review_count       int64\n",
       "stars            float64\n",
       "state             object\n",
       "type              object\n",
       "dtype: object"
      ]
     },
     "execution_count": 67,
     "metadata": {},
     "output_type": "execute_result"
    }
   ],
   "source": [
    "yelp_df.dtypes"
   ]
  },
  {
   "cell_type": "code",
   "execution_count": 68,
   "metadata": {},
   "outputs": [
    {
     "data": {
      "text/plain": [
       "pandas.core.frame.DataFrame"
      ]
     },
     "execution_count": 68,
     "metadata": {},
     "output_type": "execute_result"
    }
   ],
   "source": [
    "type(yelp_df)"
   ]
  },
  {
   "cell_type": "code",
   "execution_count": 59,
   "metadata": {},
   "outputs": [
    {
     "data": {
      "text/plain": [
       "37938"
      ]
     },
     "execution_count": 59,
     "metadata": {},
     "output_type": "execute_result"
    }
   ],
   "source": [
    "yelp_df.city.count()"
   ]
  },
  {
   "cell_type": "code",
   "execution_count": 65,
   "metadata": {},
   "outputs": [
    {
     "data": {
      "text/html": [
       "<div>\n",
       "<style scoped>\n",
       "    .dataframe tbody tr th:only-of-type {\n",
       "        vertical-align: middle;\n",
       "    }\n",
       "\n",
       "    .dataframe tbody tr th {\n",
       "        vertical-align: top;\n",
       "    }\n",
       "\n",
       "    .dataframe thead th {\n",
       "        text-align: right;\n",
       "    }\n",
       "</style>\n",
       "<table border=\"1\" class=\"dataframe\">\n",
       "  <thead>\n",
       "    <tr style=\"text-align: right;\">\n",
       "      <th></th>\n",
       "      <th>business_id</th>\n",
       "    </tr>\n",
       "    <tr>\n",
       "      <th>city</th>\n",
       "      <th></th>\n",
       "    </tr>\n",
       "  </thead>\n",
       "  <tbody>\n",
       "    <tr>\n",
       "      <th>Las Vegas</th>\n",
       "      <td>10851</td>\n",
       "    </tr>\n",
       "    <tr>\n",
       "      <th>Phoenix</th>\n",
       "      <td>6715</td>\n",
       "    </tr>\n",
       "    <tr>\n",
       "      <th>Scottsdale</th>\n",
       "      <td>3226</td>\n",
       "    </tr>\n",
       "    <tr>\n",
       "      <th>Edinburgh</th>\n",
       "      <td>2595</td>\n",
       "    </tr>\n",
       "    <tr>\n",
       "      <th>Mesa</th>\n",
       "      <td>1847</td>\n",
       "    </tr>\n",
       "    <tr>\n",
       "      <th>Tempe</th>\n",
       "      <td>1822</td>\n",
       "    </tr>\n",
       "    <tr>\n",
       "      <th>Henderson</th>\n",
       "      <td>1740</td>\n",
       "    </tr>\n",
       "    <tr>\n",
       "      <th>Chandler</th>\n",
       "      <td>1468</td>\n",
       "    </tr>\n",
       "    <tr>\n",
       "      <th>Madison</th>\n",
       "      <td>1465</td>\n",
       "    </tr>\n",
       "    <tr>\n",
       "      <th>Glendale</th>\n",
       "      <td>1094</td>\n",
       "    </tr>\n",
       "  </tbody>\n",
       "</table>\n",
       "</div>"
      ],
      "text/plain": [
       "            business_id\n",
       "city                   \n",
       "Las Vegas         10851\n",
       "Phoenix            6715\n",
       "Scottsdale         3226\n",
       "Edinburgh          2595\n",
       "Mesa               1847\n",
       "Tempe              1822\n",
       "Henderson          1740\n",
       "Chandler           1468\n",
       "Madison            1465\n",
       "Glendale           1094"
      ]
     },
     "execution_count": 65,
     "metadata": {},
     "output_type": "execute_result"
    }
   ],
   "source": [
    "yelp_df.groupby('city').count()[['business_id']].sort_values(by = 'business_id', ascending = False).head(10)"
   ]
  },
  {
   "cell_type": "code",
   "execution_count": 69,
   "metadata": {},
   "outputs": [
    {
     "data": {
      "text/plain": [
       "pandas.core.series.Series"
      ]
     },
     "execution_count": 69,
     "metadata": {},
     "output_type": "execute_result"
    }
   ],
   "source": [
    "type(yelp_df['city'])"
   ]
  },
  {
   "cell_type": "markdown",
   "metadata": {},
   "source": [
    "An individual column is a Pandas `Series`. A `Series` has a `name` and a `dtype` (similar to a NumPy array). A `DataFrame` is essentially a `dict` of `Series` objects. The `Series` has an `index` attribute, which label the rows. The index is essentially a set of keys for referencing the rows. We can have an index composed of numbers, strings, timestamps, or any hashable Python object. The index will also have homogeneous type."
   ]
  },
  {
   "cell_type": "code",
   "execution_count": 78,
   "metadata": {},
   "outputs": [
    {
     "data": {
      "text/plain": [
       "pandas.core.indexes.range.RangeIndex"
      ]
     },
     "execution_count": 78,
     "metadata": {},
     "output_type": "execute_result"
    }
   ],
   "source": [
    "type(yelp_df.index)"
   ]
  },
  {
   "cell_type": "markdown",
   "metadata": {},
   "source": [
    "The `DataFrame` has an `index` given by the union of indices of its constituent `Series` (we'll explore this later in more detail). Since a `DataFrame` is a `dict` of `Series`, we can select a column and then a row using square bracket notation, but not the reverse (however, the `loc` method works around this)."
   ]
  },
  {
   "cell_type": "code",
   "execution_count": 83,
   "metadata": {},
   "outputs": [
    {
     "data": {
      "text/plain": [
       "0      Phoenix\n",
       "1    De Forest\n",
       "2    De Forest\n",
       "Name: city, dtype: object"
      ]
     },
     "execution_count": 83,
     "metadata": {},
     "output_type": "execute_result"
    }
   ],
   "source": [
    "yelp_df['city'][:3]"
   ]
  },
  {
   "cell_type": "code",
   "execution_count": 84,
   "metadata": {},
   "outputs": [
    {
     "data": {
      "text/plain": [
       "0      Phoenix\n",
       "1    De Forest\n",
       "2    De Forest\n",
       "3    De Forest\n",
       "Name: city, dtype: object"
      ]
     },
     "execution_count": 84,
     "metadata": {},
     "output_type": "execute_result"
    }
   ],
   "source": [
    "yelp_df.loc[:3, 'city']"
   ]
  },
  {
   "cell_type": "markdown",
   "metadata": {},
   "source": [
    "Understanding the underlying structure of the `DataFrame` object as a `dict` of `Series` will help you avoid errors and help you think about how the `DataFrame` should behave when we begin doing more complicated analysis.\n",
    "\n",
    "We can _aggregate_ data in a `DataFrame` using methods like `mean`, `sum`, `count`, and `std`. To view a collection of summary statistics for each column we can use the `describe` method."
   ]
  },
  {
   "cell_type": "code",
   "execution_count": 85,
   "metadata": {},
   "outputs": [
    {
     "data": {
      "text/html": [
       "<div>\n",
       "<style scoped>\n",
       "    .dataframe tbody tr th:only-of-type {\n",
       "        vertical-align: middle;\n",
       "    }\n",
       "\n",
       "    .dataframe tbody tr th {\n",
       "        vertical-align: top;\n",
       "    }\n",
       "\n",
       "    .dataframe thead th {\n",
       "        text-align: right;\n",
       "    }\n",
       "</style>\n",
       "<table border=\"1\" class=\"dataframe\">\n",
       "  <thead>\n",
       "    <tr style=\"text-align: right;\">\n",
       "      <th></th>\n",
       "      <th>latitude</th>\n",
       "      <th>longitude</th>\n",
       "      <th>review_count</th>\n",
       "      <th>stars</th>\n",
       "    </tr>\n",
       "  </thead>\n",
       "  <tbody>\n",
       "    <tr>\n",
       "      <th>count</th>\n",
       "      <td>37938.000000</td>\n",
       "      <td>37938.000000</td>\n",
       "      <td>37938.000000</td>\n",
       "      <td>37938.000000</td>\n",
       "    </tr>\n",
       "    <tr>\n",
       "      <th>mean</th>\n",
       "      <td>36.530288</td>\n",
       "      <td>-104.097172</td>\n",
       "      <td>29.300648</td>\n",
       "      <td>3.672914</td>\n",
       "    </tr>\n",
       "    <tr>\n",
       "      <th>std</th>\n",
       "      <td>5.822588</td>\n",
       "      <td>28.365375</td>\n",
       "      <td>92.893064</td>\n",
       "      <td>0.888730</td>\n",
       "    </tr>\n",
       "    <tr>\n",
       "      <th>min</th>\n",
       "      <td>32.876638</td>\n",
       "      <td>-115.369725</td>\n",
       "      <td>3.000000</td>\n",
       "      <td>1.000000</td>\n",
       "    </tr>\n",
       "    <tr>\n",
       "      <th>25%</th>\n",
       "      <td>33.476739</td>\n",
       "      <td>-115.136389</td>\n",
       "      <td>4.000000</td>\n",
       "      <td>3.000000</td>\n",
       "    </tr>\n",
       "    <tr>\n",
       "      <th>50%</th>\n",
       "      <td>33.680247</td>\n",
       "      <td>-112.068820</td>\n",
       "      <td>8.000000</td>\n",
       "      <td>3.500000</td>\n",
       "    </tr>\n",
       "    <tr>\n",
       "      <th>75%</th>\n",
       "      <td>36.141875</td>\n",
       "      <td>-111.883274</td>\n",
       "      <td>21.000000</td>\n",
       "      <td>4.500000</td>\n",
       "    </tr>\n",
       "    <tr>\n",
       "      <th>max</th>\n",
       "      <td>56.033777</td>\n",
       "      <td>-3.050088</td>\n",
       "      <td>4084.000000</td>\n",
       "      <td>5.000000</td>\n",
       "    </tr>\n",
       "  </tbody>\n",
       "</table>\n",
       "</div>"
      ],
      "text/plain": [
       "           latitude     longitude  review_count         stars\n",
       "count  37938.000000  37938.000000  37938.000000  37938.000000\n",
       "mean      36.530288   -104.097172     29.300648      3.672914\n",
       "std        5.822588     28.365375     92.893064      0.888730\n",
       "min       32.876638   -115.369725      3.000000      1.000000\n",
       "25%       33.476739   -115.136389      4.000000      3.000000\n",
       "50%       33.680247   -112.068820      8.000000      3.500000\n",
       "75%       36.141875   -111.883274     21.000000      4.500000\n",
       "max       56.033777     -3.050088   4084.000000      5.000000"
      ]
     },
     "execution_count": 85,
     "metadata": {},
     "output_type": "execute_result"
    }
   ],
   "source": [
    "# Summary Statistics for quantitative fields\n",
    "yelp_df.describe()"
   ]
  },
  {
   "cell_type": "code",
   "execution_count": 102,
   "metadata": {},
   "outputs": [
    {
     "data": {
      "text/plain": [
       "{'Las Vegas': 10851,\n",
       " 'Phoenix': 6715,\n",
       " 'Scottsdale': 3226,\n",
       " 'Edinburgh': 2595,\n",
       " 'Mesa': 1847,\n",
       " 'Tempe': 1822,\n",
       " 'Henderson': 1740,\n",
       " 'Chandler': 1468,\n",
       " 'Madison': 1465,\n",
       " 'Glendale': 1094}"
      ]
     },
     "execution_count": 102,
     "metadata": {},
     "output_type": "execute_result"
    }
   ],
   "source": [
    "dict(yelp_df.groupby('city')['business_id'].count().sort_values(ascending = False).head(10))"
   ]
  },
  {
   "cell_type": "markdown",
   "metadata": {},
   "source": [
    "### Filtering DataFrames"
   ]
  },
  {
   "cell_type": "code",
   "execution_count": 72,
   "metadata": {},
   "outputs": [
    {
     "data": {
      "text/html": [
       "<div>\n",
       "<style scoped>\n",
       "    .dataframe tbody tr th:only-of-type {\n",
       "        vertical-align: middle;\n",
       "    }\n",
       "\n",
       "    .dataframe tbody tr th {\n",
       "        vertical-align: top;\n",
       "    }\n",
       "\n",
       "    .dataframe thead th {\n",
       "        text-align: right;\n",
       "    }\n",
       "</style>\n",
       "<table border=\"1\" class=\"dataframe\">\n",
       "  <thead>\n",
       "    <tr style=\"text-align: right;\">\n",
       "      <th></th>\n",
       "      <th>business_id</th>\n",
       "      <th>name</th>\n",
       "      <th>categories</th>\n",
       "      <th>review_count</th>\n",
       "      <th>stars</th>\n",
       "      <th>open</th>\n",
       "    </tr>\n",
       "  </thead>\n",
       "  <tbody>\n",
       "    <tr>\n",
       "      <th>0</th>\n",
       "      <td>I83NNRHZRQZiCPcd9QzC5w</td>\n",
       "      <td>Boulder Station Hotel &amp; Casino</td>\n",
       "      <td>[Arts &amp; Entertainment, Casinos]</td>\n",
       "      <td>100</td>\n",
       "      <td>3.0</td>\n",
       "      <td>True</td>\n",
       "    </tr>\n",
       "    <tr>\n",
       "      <th>1</th>\n",
       "      <td>ZeMHiF-u7WZY1gf3-L6Alg</td>\n",
       "      <td>Petco</td>\n",
       "      <td>[Pet Services, Pet Groomers, Pet Training, Pet...</td>\n",
       "      <td>11</td>\n",
       "      <td>2.0</td>\n",
       "      <td>True</td>\n",
       "    </tr>\n",
       "    <tr>\n",
       "      <th>2</th>\n",
       "      <td>l6QcUE8XXLrVH6Ydm4GSNw</td>\n",
       "      <td>Fatburger</td>\n",
       "      <td>[Burgers, American (Traditional), Fast Food, R...</td>\n",
       "      <td>13</td>\n",
       "      <td>3.0</td>\n",
       "      <td>True</td>\n",
       "    </tr>\n",
       "    <tr>\n",
       "      <th>3</th>\n",
       "      <td>aBFiwLYaReshow7wi9Jmqw</td>\n",
       "      <td>Discount Tire Store - North Las Vegas</td>\n",
       "      <td>[Tires, Automotive, Wheel &amp; Rim Repair]</td>\n",
       "      <td>20</td>\n",
       "      <td>4.5</td>\n",
       "      <td>True</td>\n",
       "    </tr>\n",
       "    <tr>\n",
       "      <th>4</th>\n",
       "      <td>FGorBTbpa1VmLwf4nXBqPw</td>\n",
       "      <td>Ear Nose &amp; Throat Consultants of Nevada</td>\n",
       "      <td>[Doctors, Ear Nose &amp; Throat, Health &amp; Medical]</td>\n",
       "      <td>13</td>\n",
       "      <td>2.5</td>\n",
       "      <td>True</td>\n",
       "    </tr>\n",
       "    <tr>\n",
       "      <th>5</th>\n",
       "      <td>5WCXIZI2_M444IHPwxnt7Q</td>\n",
       "      <td>Desert Valley Pediatrics</td>\n",
       "      <td>[Doctors, Health &amp; Medical, Pediatricians]</td>\n",
       "      <td>21</td>\n",
       "      <td>2.5</td>\n",
       "      <td>True</td>\n",
       "    </tr>\n",
       "    <tr>\n",
       "      <th>6</th>\n",
       "      <td>0k-VfADQlgESYsjRJ0P0KA</td>\n",
       "      <td>Shepherd Eye Center</td>\n",
       "      <td>[Doctors, Ophthalmologists, Health &amp; Medical]</td>\n",
       "      <td>11</td>\n",
       "      <td>3.5</td>\n",
       "      <td>True</td>\n",
       "    </tr>\n",
       "    <tr>\n",
       "      <th>7</th>\n",
       "      <td>VZyE9u5-gAG62zfe53hXWA</td>\n",
       "      <td>Artisan Hotel Boutique</td>\n",
       "      <td>[Bars, Nightlife, Lounges, Hotels &amp; Travel, Ho...</td>\n",
       "      <td>310</td>\n",
       "      <td>3.5</td>\n",
       "      <td>True</td>\n",
       "    </tr>\n",
       "    <tr>\n",
       "      <th>8</th>\n",
       "      <td>AFDFOs2GaIyUArGyEUDQzQ</td>\n",
       "      <td>Cafe Noodle &amp; Chinese Barbeque</td>\n",
       "      <td>[Chinese, Restaurants]</td>\n",
       "      <td>141</td>\n",
       "      <td>3.5</td>\n",
       "      <td>True</td>\n",
       "    </tr>\n",
       "    <tr>\n",
       "      <th>9</th>\n",
       "      <td>FV16IeXJp2W6pnghTz2FAw</td>\n",
       "      <td>Pho Kim Long</td>\n",
       "      <td>[Vietnamese, Chinese, Restaurants]</td>\n",
       "      <td>1314</td>\n",
       "      <td>3.5</td>\n",
       "      <td>True</td>\n",
       "    </tr>\n",
       "    <tr>\n",
       "      <th>10</th>\n",
       "      <td>j6LvcZdFY2i16FdTGvtINA</td>\n",
       "      <td>United Auto Glass</td>\n",
       "      <td>[Automotive, Auto Glass Services]</td>\n",
       "      <td>18</td>\n",
       "      <td>4.5</td>\n",
       "      <td>True</td>\n",
       "    </tr>\n",
       "  </tbody>\n",
       "</table>\n",
       "</div>"
      ],
      "text/plain": [
       "               business_id                                     name  \\\n",
       "0   I83NNRHZRQZiCPcd9QzC5w           Boulder Station Hotel & Casino   \n",
       "1   ZeMHiF-u7WZY1gf3-L6Alg                                    Petco   \n",
       "2   l6QcUE8XXLrVH6Ydm4GSNw                                Fatburger   \n",
       "3   aBFiwLYaReshow7wi9Jmqw    Discount Tire Store - North Las Vegas   \n",
       "4   FGorBTbpa1VmLwf4nXBqPw  Ear Nose & Throat Consultants of Nevada   \n",
       "5   5WCXIZI2_M444IHPwxnt7Q                 Desert Valley Pediatrics   \n",
       "6   0k-VfADQlgESYsjRJ0P0KA                      Shepherd Eye Center   \n",
       "7   VZyE9u5-gAG62zfe53hXWA                   Artisan Hotel Boutique   \n",
       "8   AFDFOs2GaIyUArGyEUDQzQ           Cafe Noodle & Chinese Barbeque   \n",
       "9   FV16IeXJp2W6pnghTz2FAw                             Pho Kim Long   \n",
       "10  j6LvcZdFY2i16FdTGvtINA                        United Auto Glass   \n",
       "\n",
       "                                           categories  review_count  stars  \\\n",
       "0                     [Arts & Entertainment, Casinos]           100    3.0   \n",
       "1   [Pet Services, Pet Groomers, Pet Training, Pet...            11    2.0   \n",
       "2   [Burgers, American (Traditional), Fast Food, R...            13    3.0   \n",
       "3             [Tires, Automotive, Wheel & Rim Repair]            20    4.5   \n",
       "4      [Doctors, Ear Nose & Throat, Health & Medical]            13    2.5   \n",
       "5          [Doctors, Health & Medical, Pediatricians]            21    2.5   \n",
       "6       [Doctors, Ophthalmologists, Health & Medical]            11    3.5   \n",
       "7   [Bars, Nightlife, Lounges, Hotels & Travel, Ho...           310    3.5   \n",
       "8                              [Chinese, Restaurants]           141    3.5   \n",
       "9                  [Vietnamese, Chinese, Restaurants]          1314    3.5   \n",
       "10                  [Automotive, Auto Glass Services]            18    4.5   \n",
       "\n",
       "    open  \n",
       "0   True  \n",
       "1   True  \n",
       "2   True  \n",
       "3   True  \n",
       "4   True  \n",
       "5   True  \n",
       "6   True  \n",
       "7   True  \n",
       "8   True  \n",
       "9   True  \n",
       "10  True  "
      ]
     },
     "execution_count": 72,
     "metadata": {},
     "output_type": "execute_result"
    }
   ],
   "source": [
    "# Businesses in Las Vegas, NV only whose review count is more than 10\n",
    "LV_yelps = yelp_df[(yelp_df['city'] == 'Las Vegas') & (yelp_df['state'] == 'NV') & (yelp_df['review_count'] > 10)].reset_index()\n",
    "LV_yelps[['business_id','name', 'categories', 'review_count', 'stars', 'open']].loc[:10]"
   ]
  },
  {
   "cell_type": "code",
   "execution_count": 73,
   "metadata": {},
   "outputs": [
    {
     "data": {
      "text/plain": [
       "'Mon Ami Gabi'"
      ]
     },
     "execution_count": 73,
     "metadata": {},
     "output_type": "execute_result"
    }
   ],
   "source": [
    "# Which business has the most review counts in Las Vegas\n",
    "LV_yelps[['business_id','name', 'categories', 'review_count', 'stars', 'open']].sort_values(by = 'review_count', ascending = False).iloc[0]['name']"
   ]
  },
  {
   "cell_type": "code",
   "execution_count": 74,
   "metadata": {},
   "outputs": [
    {
     "data": {
      "text/plain": [
       "array(['NV'], dtype=object)"
      ]
     },
     "execution_count": 74,
     "metadata": {},
     "output_type": "execute_result"
    }
   ],
   "source": [
    "# Check that Las Vegas is only in NV \n",
    "LV_yelps['state'].unique()"
   ]
  },
  {
   "cell_type": "markdown",
   "metadata": {},
   "source": [
    "Let's now consider the `'open'` column, which is a `True`/`False` flag for whether a business is open. This is also a Boolean Pandas `Series`, so we can just use it directly."
   ]
  },
  {
   "cell_type": "code",
   "execution_count": 76,
   "metadata": {},
   "outputs": [
    {
     "data": {
      "text/html": [
       "<div>\n",
       "<style scoped>\n",
       "    .dataframe tbody tr th:only-of-type {\n",
       "        vertical-align: middle;\n",
       "    }\n",
       "\n",
       "    .dataframe tbody tr th {\n",
       "        vertical-align: top;\n",
       "    }\n",
       "\n",
       "    .dataframe thead th {\n",
       "        text-align: right;\n",
       "    }\n",
       "</style>\n",
       "<table border=\"1\" class=\"dataframe\">\n",
       "  <thead>\n",
       "    <tr style=\"text-align: right;\">\n",
       "      <th></th>\n",
       "      <th>attributes</th>\n",
       "      <th>business_id</th>\n",
       "      <th>categories</th>\n",
       "      <th>city</th>\n",
       "      <th>full_address</th>\n",
       "      <th>hours</th>\n",
       "      <th>latitude</th>\n",
       "      <th>longitude</th>\n",
       "      <th>name</th>\n",
       "      <th>neighborhoods</th>\n",
       "      <th>open</th>\n",
       "      <th>review_count</th>\n",
       "      <th>stars</th>\n",
       "      <th>state</th>\n",
       "      <th>type</th>\n",
       "    </tr>\n",
       "  </thead>\n",
       "  <tbody>\n",
       "    <tr>\n",
       "      <th>0</th>\n",
       "      <td>{'By Appointment Only': True}</td>\n",
       "      <td>vcNAWiLM4dR7D2nwwJ7nCA</td>\n",
       "      <td>[Doctors, Health &amp; Medical]</td>\n",
       "      <td>Phoenix</td>\n",
       "      <td>4840 E Indian School Rd\\nSte 101\\nPhoenix, AZ ...</td>\n",
       "      <td>{'Tuesday': {'close': '17:00', 'open': '08:00'...</td>\n",
       "      <td>33.499313</td>\n",
       "      <td>-111.983758</td>\n",
       "      <td>Eric Goldberg, MD</td>\n",
       "      <td>[]</td>\n",
       "      <td>True</td>\n",
       "      <td>7</td>\n",
       "      <td>3.5</td>\n",
       "      <td>AZ</td>\n",
       "      <td>business</td>\n",
       "    </tr>\n",
       "    <tr>\n",
       "      <th>1</th>\n",
       "      <td>{'Take-out': True, 'Good For': {'dessert': Fal...</td>\n",
       "      <td>JwUE5GmEO-sH1FuwJgKBlQ</td>\n",
       "      <td>[Restaurants]</td>\n",
       "      <td>De Forest</td>\n",
       "      <td>6162 US Highway 51\\nDe Forest, WI 53532</td>\n",
       "      <td>{}</td>\n",
       "      <td>43.238893</td>\n",
       "      <td>-89.335844</td>\n",
       "      <td>Pine Cone Restaurant</td>\n",
       "      <td>[]</td>\n",
       "      <td>True</td>\n",
       "      <td>26</td>\n",
       "      <td>4.0</td>\n",
       "      <td>WI</td>\n",
       "      <td>business</td>\n",
       "    </tr>\n",
       "    <tr>\n",
       "      <th>2</th>\n",
       "      <td>{'Take-out': True, 'Good For': {'dessert': Fal...</td>\n",
       "      <td>uGykseHzyS5xAMWoN6YUqA</td>\n",
       "      <td>[American (Traditional), Restaurants]</td>\n",
       "      <td>De Forest</td>\n",
       "      <td>505 W North St\\nDe Forest, WI 53532</td>\n",
       "      <td>{'Monday': {'close': '22:00', 'open': '06:00'}...</td>\n",
       "      <td>43.252267</td>\n",
       "      <td>-89.353437</td>\n",
       "      <td>Deforest Family Restaurant</td>\n",
       "      <td>[]</td>\n",
       "      <td>True</td>\n",
       "      <td>16</td>\n",
       "      <td>4.0</td>\n",
       "      <td>WI</td>\n",
       "      <td>business</td>\n",
       "    </tr>\n",
       "    <tr>\n",
       "      <th>3</th>\n",
       "      <td>{'Take-out': True, 'Wi-Fi': 'free', 'Takes Res...</td>\n",
       "      <td>LRKJF43s9-3jG9Lgx4zODg</td>\n",
       "      <td>[Food, Ice Cream &amp; Frozen Yogurt, Fast Food, R...</td>\n",
       "      <td>De Forest</td>\n",
       "      <td>4910 County Rd V\\nDe Forest, WI 53532</td>\n",
       "      <td>{'Monday': {'close': '22:00', 'open': '10:30'}...</td>\n",
       "      <td>43.251045</td>\n",
       "      <td>-89.374983</td>\n",
       "      <td>Culver's</td>\n",
       "      <td>[]</td>\n",
       "      <td>True</td>\n",
       "      <td>7</td>\n",
       "      <td>4.5</td>\n",
       "      <td>WI</td>\n",
       "      <td>business</td>\n",
       "    </tr>\n",
       "    <tr>\n",
       "      <th>4</th>\n",
       "      <td>{'Take-out': True, 'Has TV': False, 'Outdoor S...</td>\n",
       "      <td>RgDg-k9S5YD_BaxMckifkg</td>\n",
       "      <td>[Chinese, Restaurants]</td>\n",
       "      <td>De Forest</td>\n",
       "      <td>631 S Main St\\nDe Forest, WI 53532</td>\n",
       "      <td>{'Monday': {'close': '22:00', 'open': '11:00'}...</td>\n",
       "      <td>43.240875</td>\n",
       "      <td>-89.343722</td>\n",
       "      <td>Chang Jiang Chinese Kitchen</td>\n",
       "      <td>[]</td>\n",
       "      <td>True</td>\n",
       "      <td>3</td>\n",
       "      <td>4.0</td>\n",
       "      <td>WI</td>\n",
       "      <td>business</td>\n",
       "    </tr>\n",
       "  </tbody>\n",
       "</table>\n",
       "</div>"
      ],
      "text/plain": [
       "                                          attributes             business_id  \\\n",
       "0                      {'By Appointment Only': True}  vcNAWiLM4dR7D2nwwJ7nCA   \n",
       "1  {'Take-out': True, 'Good For': {'dessert': Fal...  JwUE5GmEO-sH1FuwJgKBlQ   \n",
       "2  {'Take-out': True, 'Good For': {'dessert': Fal...  uGykseHzyS5xAMWoN6YUqA   \n",
       "3  {'Take-out': True, 'Wi-Fi': 'free', 'Takes Res...  LRKJF43s9-3jG9Lgx4zODg   \n",
       "4  {'Take-out': True, 'Has TV': False, 'Outdoor S...  RgDg-k9S5YD_BaxMckifkg   \n",
       "\n",
       "                                          categories       city  \\\n",
       "0                        [Doctors, Health & Medical]    Phoenix   \n",
       "1                                      [Restaurants]  De Forest   \n",
       "2              [American (Traditional), Restaurants]  De Forest   \n",
       "3  [Food, Ice Cream & Frozen Yogurt, Fast Food, R...  De Forest   \n",
       "4                             [Chinese, Restaurants]  De Forest   \n",
       "\n",
       "                                        full_address  \\\n",
       "0  4840 E Indian School Rd\\nSte 101\\nPhoenix, AZ ...   \n",
       "1            6162 US Highway 51\\nDe Forest, WI 53532   \n",
       "2                505 W North St\\nDe Forest, WI 53532   \n",
       "3              4910 County Rd V\\nDe Forest, WI 53532   \n",
       "4                 631 S Main St\\nDe Forest, WI 53532   \n",
       "\n",
       "                                               hours   latitude   longitude  \\\n",
       "0  {'Tuesday': {'close': '17:00', 'open': '08:00'...  33.499313 -111.983758   \n",
       "1                                                 {}  43.238893  -89.335844   \n",
       "2  {'Monday': {'close': '22:00', 'open': '06:00'}...  43.252267  -89.353437   \n",
       "3  {'Monday': {'close': '22:00', 'open': '10:30'}...  43.251045  -89.374983   \n",
       "4  {'Monday': {'close': '22:00', 'open': '11:00'}...  43.240875  -89.343722   \n",
       "\n",
       "                          name neighborhoods  open  review_count  stars state  \\\n",
       "0            Eric Goldberg, MD            []  True             7    3.5    AZ   \n",
       "1         Pine Cone Restaurant            []  True            26    4.0    WI   \n",
       "2   Deforest Family Restaurant            []  True            16    4.0    WI   \n",
       "3                     Culver's            []  True             7    4.5    WI   \n",
       "4  Chang Jiang Chinese Kitchen            []  True             3    4.0    WI   \n",
       "\n",
       "       type  \n",
       "0  business  \n",
       "1  business  \n",
       "2  business  \n",
       "3  business  \n",
       "4  business  "
      ]
     },
     "execution_count": 76,
     "metadata": {},
     "output_type": "execute_result"
    }
   ],
   "source": [
    "# the open businesses\n",
    "yelp_df[yelp_df['open']].head()"
   ]
  },
  {
   "cell_type": "code",
   "execution_count": 78,
   "metadata": {},
   "outputs": [
    {
     "data": {
      "text/plain": [
       "(4652, 5312)"
      ]
     },
     "execution_count": 78,
     "metadata": {},
     "output_type": "execute_result"
    }
   ],
   "source": [
    "# Let's look only at the open businesses in Las Vegas, NV\n",
    "LV_yelps_open = LV_yelps[LV_yelps['open']]\n",
    "len(LV_yelps_open), len(LV_yelps)"
   ]
  },
  {
   "cell_type": "code",
   "execution_count": 79,
   "metadata": {},
   "outputs": [
    {
     "data": {
      "text/plain": [
       "660"
      ]
     },
     "execution_count": 79,
     "metadata": {},
     "output_type": "execute_result"
    }
   ],
   "source": [
    "# The closed businesses in Vegas are\n",
    "LV_yelps_closed = LV_yelps[~LV_yelps['open']]\n",
    "len(LV_yelps_closed)"
   ]
  },
  {
   "cell_type": "markdown",
   "metadata": {},
   "source": [
    "Notice in an earlier expression we wrote `(yelp_df['state'] == 'AZ') & (yelp_df['review_count'] > 10)`. Normally in Python we use the word `and` when we are working with logic. In Pandas we have to use _bit-wise_ logical operators; all that's important to know is the following equivalencies:\n",
    "\n",
    "`~` = `not`  \n",
    "`&` = `and`  \n",
    "`|` = `or`  \n",
    "\n",
    "We can also use Panda's built-in [string operations](https://pandas.pydata.org/pandas-docs/stable/text.html) for doing pattern matching. For example, there are a lot of businesses in Las Vegas in our data set. However, there are also businesses in 'Las Vegas East' and 'South Las Vegas'. To get all of the Las Vegas businesses I might do the following."
   ]
  },
  {
   "cell_type": "code",
   "execution_count": 82,
   "metadata": {},
   "outputs": [
    {
     "data": {
      "text/html": [
       "<div>\n",
       "<style scoped>\n",
       "    .dataframe tbody tr th:only-of-type {\n",
       "        vertical-align: middle;\n",
       "    }\n",
       "\n",
       "    .dataframe tbody tr th {\n",
       "        vertical-align: top;\n",
       "    }\n",
       "\n",
       "    .dataframe thead th {\n",
       "        text-align: right;\n",
       "    }\n",
       "</style>\n",
       "<table border=\"1\" class=\"dataframe\">\n",
       "  <thead>\n",
       "    <tr style=\"text-align: right;\">\n",
       "      <th></th>\n",
       "      <th>attributes</th>\n",
       "      <th>business_id</th>\n",
       "      <th>categories</th>\n",
       "      <th>city</th>\n",
       "      <th>full_address</th>\n",
       "      <th>hours</th>\n",
       "      <th>latitude</th>\n",
       "      <th>longitude</th>\n",
       "      <th>name</th>\n",
       "      <th>neighborhoods</th>\n",
       "      <th>open</th>\n",
       "      <th>review_count</th>\n",
       "      <th>stars</th>\n",
       "      <th>state</th>\n",
       "      <th>type</th>\n",
       "    </tr>\n",
       "  </thead>\n",
       "  <tbody>\n",
       "    <tr>\n",
       "      <th>4348</th>\n",
       "      <td>{'Parking': {'garage': False, 'street': False,...</td>\n",
       "      <td>uzztTCsg3XAKlYqmLO40aw</td>\n",
       "      <td>[Arts &amp; Entertainment, Shopping, Books, Mags, ...</td>\n",
       "      <td>Las Vegas</td>\n",
       "      <td>5835 S Eastern Ave\\nSoutheast\\nLas Vegas, NV 8...</td>\n",
       "      <td>{'Monday': {'close': '21:00', 'open': '10:00'}...</td>\n",
       "      <td>36.083936</td>\n",
       "      <td>-115.119422</td>\n",
       "      <td>Psychic Eye Book Shops</td>\n",
       "      <td>[Southeast]</td>\n",
       "      <td>True</td>\n",
       "      <td>7</td>\n",
       "      <td>4.5</td>\n",
       "      <td>NV</td>\n",
       "      <td>business</td>\n",
       "    </tr>\n",
       "    <tr>\n",
       "      <th>4360</th>\n",
       "      <td>{'Parking': {'garage': True, 'street': False, ...</td>\n",
       "      <td>IspFZDcpu9W5NvvJ7QgJZg</td>\n",
       "      <td>[Women's Clothing, Men's Clothing, Fashion, Sh...</td>\n",
       "      <td>Las Vegas</td>\n",
       "      <td>The Forum Shops At Caesars\\n3500 Las Vegas Blv...</td>\n",
       "      <td>{'Monday': {'close': '21:00', 'open': '10:00'}...</td>\n",
       "      <td>36.124423</td>\n",
       "      <td>-115.146372</td>\n",
       "      <td>Gap</td>\n",
       "      <td>[Eastside]</td>\n",
       "      <td>True</td>\n",
       "      <td>6</td>\n",
       "      <td>4.5</td>\n",
       "      <td>NV</td>\n",
       "      <td>business</td>\n",
       "    </tr>\n",
       "    <tr>\n",
       "      <th>4364</th>\n",
       "      <td>{'By Appointment Only': False, 'Parking': {'ga...</td>\n",
       "      <td>Dvulg9cc3XHkt5DkBUekhw</td>\n",
       "      <td>[Hair Salons, Beauty &amp; Spas]</td>\n",
       "      <td>Las Vegas</td>\n",
       "      <td>467 E Silverado Ranch Blvd\\nSte 175\\nSoutheast...</td>\n",
       "      <td>{}</td>\n",
       "      <td>36.012150</td>\n",
       "      <td>-115.153303</td>\n",
       "      <td>Great Clips</td>\n",
       "      <td>[Southeast]</td>\n",
       "      <td>True</td>\n",
       "      <td>10</td>\n",
       "      <td>2.5</td>\n",
       "      <td>NV</td>\n",
       "      <td>business</td>\n",
       "    </tr>\n",
       "    <tr>\n",
       "      <th>4441</th>\n",
       "      <td>{'Alcohol': 'full_bar', 'Music': {'video': Fal...</td>\n",
       "      <td>_SM8UKIwBNbmj1r629ipoQ</td>\n",
       "      <td>[Wine Bars, Bars, Restaurants, Nightlife, Ital...</td>\n",
       "      <td>Las Vegas</td>\n",
       "      <td>1916 Village Center Cir\\nSummerlin\\nLas Vegas,...</td>\n",
       "      <td>{'Monday': {'close': '23:00', 'open': '11:00'}...</td>\n",
       "      <td>36.192414</td>\n",
       "      <td>-115.304396</td>\n",
       "      <td>Chianti Cafe</td>\n",
       "      <td>[Summerlin]</td>\n",
       "      <td>False</td>\n",
       "      <td>9</td>\n",
       "      <td>3.5</td>\n",
       "      <td>NV</td>\n",
       "      <td>business</td>\n",
       "    </tr>\n",
       "    <tr>\n",
       "      <th>4489</th>\n",
       "      <td>{}</td>\n",
       "      <td>Zaw0IAXwopKX4MV23MHQRw</td>\n",
       "      <td>[Car Wash, Automotive]</td>\n",
       "      <td>Las Vegas</td>\n",
       "      <td>2718 E Tropicana Avenue\\nEastside\\nLas Vegas, ...</td>\n",
       "      <td>{}</td>\n",
       "      <td>36.100507</td>\n",
       "      <td>-115.113492</td>\n",
       "      <td>Terrible Herbst</td>\n",
       "      <td>[Eastside, Southeast]</td>\n",
       "      <td>True</td>\n",
       "      <td>3</td>\n",
       "      <td>1.5</td>\n",
       "      <td>NV</td>\n",
       "      <td>business</td>\n",
       "    </tr>\n",
       "  </tbody>\n",
       "</table>\n",
       "</div>"
      ],
      "text/plain": [
       "                                             attributes  \\\n",
       "4348  {'Parking': {'garage': False, 'street': False,...   \n",
       "4360  {'Parking': {'garage': True, 'street': False, ...   \n",
       "4364  {'By Appointment Only': False, 'Parking': {'ga...   \n",
       "4441  {'Alcohol': 'full_bar', 'Music': {'video': Fal...   \n",
       "4489                                                 {}   \n",
       "\n",
       "                 business_id  \\\n",
       "4348  uzztTCsg3XAKlYqmLO40aw   \n",
       "4360  IspFZDcpu9W5NvvJ7QgJZg   \n",
       "4364  Dvulg9cc3XHkt5DkBUekhw   \n",
       "4441  _SM8UKIwBNbmj1r629ipoQ   \n",
       "4489  Zaw0IAXwopKX4MV23MHQRw   \n",
       "\n",
       "                                             categories       city  \\\n",
       "4348  [Arts & Entertainment, Shopping, Books, Mags, ...  Las Vegas   \n",
       "4360  [Women's Clothing, Men's Clothing, Fashion, Sh...  Las Vegas   \n",
       "4364                       [Hair Salons, Beauty & Spas]  Las Vegas   \n",
       "4441  [Wine Bars, Bars, Restaurants, Nightlife, Ital...  Las Vegas   \n",
       "4489                             [Car Wash, Automotive]  Las Vegas   \n",
       "\n",
       "                                           full_address  \\\n",
       "4348  5835 S Eastern Ave\\nSoutheast\\nLas Vegas, NV 8...   \n",
       "4360  The Forum Shops At Caesars\\n3500 Las Vegas Blv...   \n",
       "4364  467 E Silverado Ranch Blvd\\nSte 175\\nSoutheast...   \n",
       "4441  1916 Village Center Cir\\nSummerlin\\nLas Vegas,...   \n",
       "4489  2718 E Tropicana Avenue\\nEastside\\nLas Vegas, ...   \n",
       "\n",
       "                                                  hours   latitude  \\\n",
       "4348  {'Monday': {'close': '21:00', 'open': '10:00'}...  36.083936   \n",
       "4360  {'Monday': {'close': '21:00', 'open': '10:00'}...  36.124423   \n",
       "4364                                                 {}  36.012150   \n",
       "4441  {'Monday': {'close': '23:00', 'open': '11:00'}...  36.192414   \n",
       "4489                                                 {}  36.100507   \n",
       "\n",
       "       longitude                    name          neighborhoods   open  \\\n",
       "4348 -115.119422  Psychic Eye Book Shops            [Southeast]   True   \n",
       "4360 -115.146372                     Gap             [Eastside]   True   \n",
       "4364 -115.153303             Great Clips            [Southeast]   True   \n",
       "4441 -115.304396            Chianti Cafe            [Summerlin]  False   \n",
       "4489 -115.113492         Terrible Herbst  [Eastside, Southeast]   True   \n",
       "\n",
       "      review_count  stars state      type  \n",
       "4348             7    4.5    NV  business  \n",
       "4360             6    4.5    NV  business  \n",
       "4364            10    2.5    NV  business  \n",
       "4441             9    3.5    NV  business  \n",
       "4489             3    1.5    NV  business  "
      ]
     },
     "execution_count": 82,
     "metadata": {},
     "output_type": "execute_result"
    }
   ],
   "source": [
    "vegas_yelp_df = yelp_df[yelp_df['city'].str.contains('Vegas')]\n",
    "vegas_yelp_df.head()"
   ]
  },
  {
   "cell_type": "code",
   "execution_count": 83,
   "metadata": {},
   "outputs": [
    {
     "data": {
      "text/plain": [
       "array(['Las Vegas', 'North Las Vegas', 'N Las Vegas', 'N. Las Vegas',\n",
       "       'C Las Vegas', 'Las Vegas ', 'Las Vegas, NV 89147',\n",
       "       'Las Vegas East', 'North Las Vegas ', 'N E Las Vegas',\n",
       "       'N W Las Vegas', 'Lake Las Vegas', 'South Las Vegas'], dtype=object)"
      ]
     },
     "execution_count": 83,
     "metadata": {},
     "output_type": "execute_result"
    }
   ],
   "source": [
    "vegas_yelp_df['city'].unique()"
   ]
  },
  {
   "cell_type": "code",
   "execution_count": 84,
   "metadata": {},
   "outputs": [
    {
     "data": {
      "text/plain": [
       "array(['NV', 'NC'], dtype=object)"
      ]
     },
     "execution_count": 84,
     "metadata": {},
     "output_type": "execute_result"
    }
   ],
   "source": [
    "vegas_yelp_df['state'].unique()"
   ]
  },
  {
   "cell_type": "code",
   "execution_count": 85,
   "metadata": {},
   "outputs": [
    {
     "data": {
      "text/plain": [
       "11337"
      ]
     },
     "execution_count": 85,
     "metadata": {},
     "output_type": "execute_result"
    }
   ],
   "source": [
    "len(vegas_yelp_df)"
   ]
  },
  {
   "cell_type": "code",
   "execution_count": 88,
   "metadata": {},
   "outputs": [
    {
     "data": {
      "text/plain": [
       "486"
      ]
     },
     "execution_count": 88,
     "metadata": {},
     "output_type": "execute_result"
    }
   ],
   "source": [
    "len(vegas_yelp_df) - dict(yelp_df.groupby('city')['business_id'].count())['Las Vegas']"
   ]
  },
  {
   "cell_type": "markdown",
   "metadata": {},
   "source": [
    "## Applying functions and data aggregation\n",
    "\n",
    "To analyze the data in the dataframe, we'll need to be able to apply functions to it. Pandas has many mathematical functions built in already, and DataFrames and Series can be passed to NumPy functions (since they behave like NumPy arrays)."
   ]
  },
  {
   "cell_type": "code",
   "execution_count": 101,
   "metadata": {},
   "outputs": [
    {
     "data": {
      "text/plain": [
       "0    1.945910\n",
       "1    3.258097\n",
       "2    2.772589\n",
       "3    1.945910\n",
       "4    1.098612\n",
       "Name: review_count, dtype: float64"
      ]
     },
     "execution_count": 101,
     "metadata": {},
     "output_type": "execute_result"
    }
   ],
   "source": [
    "import numpy as np\n",
    "log_review_count = np.log(yelp_df['review_count'])\n",
    "log_review_count.head()"
   ]
  },
  {
   "cell_type": "code",
   "execution_count": 93,
   "metadata": {},
   "outputs": [
    {
     "data": {
      "text/plain": [
       "29.3"
      ]
     },
     "execution_count": 93,
     "metadata": {},
     "output_type": "execute_result"
    }
   ],
   "source": [
    "mean_review_count = yelp_df['review_count'].mean()\n",
    "round(mean_review_count, 2)"
   ]
  },
  {
   "cell_type": "code",
   "execution_count": 99,
   "metadata": {},
   "outputs": [
    {
     "data": {
      "text/plain": [
       "(92.88, 4084)"
      ]
     },
     "execution_count": 99,
     "metadata": {},
     "output_type": "execute_result"
    }
   ],
   "source": [
    "# Average counts of reviews in Las Vegas, NV.\n",
    "round(LV_yelps['review_count'].mean(),2), max(LV_yelps['review_count'])"
   ]
  },
  {
   "cell_type": "markdown",
   "metadata": {},
   "source": [
    "In the first example we took the _logarithm_ of the review count for each business. In the second case, we calculated the mean review count of all businesses. In the first case, we ended up with a number for each business. We _transformed_ the review counts using the logarithm. In the second case, we _summarized_ the review counts of all the businesses in one number. This summary is a form of _data aggregation_, in which we take many data points and combine them into some smaller representation. The functions we apply to our data sets will either be in the category of **transformations** or **aggregations**.\n",
    "\n",
    "Sometimes we will need to transform our data in order for it to be usable. For instance, in the `'attributes'` column of our DataFrame, we have a `dict` for each business listing all of its properties. If I wanted to find a restaurant that offers delivery service, it would be difficult for me to filter the DataFrame, even though that information is in the `'attributes'` column. First, I need to transform the `dict` into something more useful."
   ]
  },
  {
   "cell_type": "code",
   "execution_count": 102,
   "metadata": {},
   "outputs": [],
   "source": [
    "def get_delivery_attr(attr_dict):\n",
    "    return attr_dict.get('Delivery')"
   ]
  },
  {
   "cell_type": "markdown",
   "metadata": {},
   "source": [
    "DataFrames and Series have an apply method that allows us to apply our function to the entire data set at once."
   ]
  },
  {
   "cell_type": "code",
   "execution_count": 103,
   "metadata": {},
   "outputs": [
    {
     "data": {
      "text/plain": [
       "0     None\n",
       "1    False\n",
       "2    False\n",
       "3    False\n",
       "4     None\n",
       "Name: attributes, dtype: object"
      ]
     },
     "execution_count": 103,
     "metadata": {},
     "output_type": "execute_result"
    }
   ],
   "source": [
    "delivery_attr = yelp_df['attributes'].apply(get_delivery_attr)\n",
    "delivery_attr.head()"
   ]
  },
  {
   "cell_type": "code",
   "execution_count": 107,
   "metadata": {},
   "outputs": [
    {
     "data": {
      "text/html": [
       "<div>\n",
       "<style scoped>\n",
       "    .dataframe tbody tr th:only-of-type {\n",
       "        vertical-align: middle;\n",
       "    }\n",
       "\n",
       "    .dataframe tbody tr th {\n",
       "        vertical-align: top;\n",
       "    }\n",
       "\n",
       "    .dataframe thead th {\n",
       "        text-align: right;\n",
       "    }\n",
       "</style>\n",
       "<table border=\"1\" class=\"dataframe\">\n",
       "  <thead>\n",
       "    <tr style=\"text-align: right;\">\n",
       "      <th></th>\n",
       "      <th>name</th>\n",
       "      <th>delivery</th>\n",
       "    </tr>\n",
       "  </thead>\n",
       "  <tbody>\n",
       "    <tr>\n",
       "      <th>37816</th>\n",
       "      <td>Nem Nuong Bistro</td>\n",
       "      <td>True</td>\n",
       "    </tr>\n",
       "    <tr>\n",
       "      <th>37846</th>\n",
       "      <td>Pin Kaow Thai Restaurant</td>\n",
       "      <td>True</td>\n",
       "    </tr>\n",
       "    <tr>\n",
       "      <th>37874</th>\n",
       "      <td>Skinny Chick Fat Chicken</td>\n",
       "      <td>True</td>\n",
       "    </tr>\n",
       "    <tr>\n",
       "      <th>37880</th>\n",
       "      <td>Arrivederci Cucina Italiana</td>\n",
       "      <td>True</td>\n",
       "    </tr>\n",
       "    <tr>\n",
       "      <th>37881</th>\n",
       "      <td>Grinders Pizza Lounge</td>\n",
       "      <td>True</td>\n",
       "    </tr>\n",
       "    <tr>\n",
       "      <th>37889</th>\n",
       "      <td>Brown Rice Thai Kitchen</td>\n",
       "      <td>True</td>\n",
       "    </tr>\n",
       "    <tr>\n",
       "      <th>37914</th>\n",
       "      <td>Grand Avenue Pizza Company</td>\n",
       "      <td>True</td>\n",
       "    </tr>\n",
       "    <tr>\n",
       "      <th>37929</th>\n",
       "      <td>702 Wing Spot</td>\n",
       "      <td>True</td>\n",
       "    </tr>\n",
       "    <tr>\n",
       "      <th>37932</th>\n",
       "      <td>Maza Mediterranean Grill &amp; Lounge</td>\n",
       "      <td>True</td>\n",
       "    </tr>\n",
       "    <tr>\n",
       "      <th>37936</th>\n",
       "      <td>LaBella Pizzeria and Restaurant</td>\n",
       "      <td>True</td>\n",
       "    </tr>\n",
       "  </tbody>\n",
       "</table>\n",
       "</div>"
      ],
      "text/plain": [
       "                                    name delivery\n",
       "37816                   Nem Nuong Bistro     True\n",
       "37846           Pin Kaow Thai Restaurant     True\n",
       "37874           Skinny Chick Fat Chicken     True\n",
       "37880        Arrivederci Cucina Italiana     True\n",
       "37881              Grinders Pizza Lounge     True\n",
       "37889            Brown Rice Thai Kitchen     True\n",
       "37914         Grand Avenue Pizza Company     True\n",
       "37929                      702 Wing Spot     True\n",
       "37932  Maza Mediterranean Grill & Lounge     True\n",
       "37936    LaBella Pizzeria and Restaurant     True"
      ]
     },
     "execution_count": 107,
     "metadata": {},
     "output_type": "execute_result"
    }
   ],
   "source": [
    "# Create a new column 'delivery'\n",
    "yelp_df['delivery'] = delivery_attr\n",
    "\n",
    "# to find businesses that deliver\n",
    "yelp_df[yelp_df['delivery'].fillna(False)][['name', 'delivery']].tail(10)"
   ]
  },
  {
   "cell_type": "markdown",
   "metadata": {},
   "source": [
    "It's less common (though possible) to use `apply` on an entire DataFrame rather than just one column. Since a DataFrame might contain many types of data, we won't usually want to apply the same transformation or aggregation across all of the columns."
   ]
  },
  {
   "cell_type": "markdown",
   "metadata": {},
   "source": [
    "## Data aggregation with `groupby`\n",
    "\n",
    "Data aggregation is an [_overloaded_](https://en.wikipedia.org/wiki/Function_overloading) term. It refers to both data summarization (as above) but also to the combining of different data sets.\n",
    "\n",
    "With our Yelp data, we might be interested in comparing the star ratings of businesses in different cities. We could calculate the mean star rating for each city, and this would allow us to easily compare them. First we would have to split up our data by city, calculate the mean for each city, and then combine it back at the end. This procedure is known as [split-apply-combine](https://pandas.pydata.org/pandas-docs/stable/groupby.html) and is a classic example of data aggregation (in the sense of both summarizing data and also combining different data sets).\n",
    "\n",
    "We achieve the splitting and recombining using the `groupby` method."
   ]
  },
  {
   "cell_type": "code",
   "execution_count": 108,
   "metadata": {},
   "outputs": [
    {
     "data": {
      "text/plain": [
       "city\n",
       "Ahwatukee          3.687500\n",
       "Anthem             3.781818\n",
       "Apache Junction    3.637500\n",
       "Arcadia            5.000000\n",
       "Atlanta            3.500000\n",
       "Name: stars, dtype: float64"
      ]
     },
     "execution_count": 108,
     "metadata": {},
     "output_type": "execute_result"
    }
   ],
   "source": [
    "stars_by_city = yelp_df.groupby('city')['stars'].mean()\n",
    "stars_by_city.head()"
   ]
  },
  {
   "cell_type": "markdown",
   "metadata": {},
   "source": [
    "We can also apply multiple functions at once. It might be helpful to know the standard deviation of star ratings, the total number of reviews, and the count of businesses as well."
   ]
  },
  {
   "cell_type": "code",
   "execution_count": 109,
   "metadata": {},
   "outputs": [
    {
     "data": {
      "text/html": [
       "<div>\n",
       "<style scoped>\n",
       "    .dataframe tbody tr th:only-of-type {\n",
       "        vertical-align: middle;\n",
       "    }\n",
       "\n",
       "    .dataframe tbody tr th {\n",
       "        vertical-align: top;\n",
       "    }\n",
       "\n",
       "    .dataframe thead tr th {\n",
       "        text-align: left;\n",
       "    }\n",
       "\n",
       "    .dataframe thead tr:last-of-type th {\n",
       "        text-align: right;\n",
       "    }\n",
       "</style>\n",
       "<table border=\"1\" class=\"dataframe\">\n",
       "  <thead>\n",
       "    <tr>\n",
       "      <th></th>\n",
       "      <th colspan=\"2\" halign=\"left\">stars</th>\n",
       "      <th>review_count</th>\n",
       "      <th>business_id</th>\n",
       "    </tr>\n",
       "    <tr>\n",
       "      <th></th>\n",
       "      <th>mean</th>\n",
       "      <th>std</th>\n",
       "      <th>sum</th>\n",
       "      <th>count</th>\n",
       "    </tr>\n",
       "    <tr>\n",
       "      <th>city</th>\n",
       "      <th></th>\n",
       "      <th></th>\n",
       "      <th></th>\n",
       "      <th></th>\n",
       "    </tr>\n",
       "  </thead>\n",
       "  <tbody>\n",
       "    <tr>\n",
       "      <th>Ahwatukee</th>\n",
       "      <td>3.687500</td>\n",
       "      <td>1.066955</td>\n",
       "      <td>258</td>\n",
       "      <td>8</td>\n",
       "    </tr>\n",
       "    <tr>\n",
       "      <th>Anthem</th>\n",
       "      <td>3.781818</td>\n",
       "      <td>0.756231</td>\n",
       "      <td>727</td>\n",
       "      <td>55</td>\n",
       "    </tr>\n",
       "    <tr>\n",
       "      <th>Apache Junction</th>\n",
       "      <td>3.637500</td>\n",
       "      <td>1.028010</td>\n",
       "      <td>853</td>\n",
       "      <td>80</td>\n",
       "    </tr>\n",
       "    <tr>\n",
       "      <th>Arcadia</th>\n",
       "      <td>5.000000</td>\n",
       "      <td>NaN</td>\n",
       "      <td>4</td>\n",
       "      <td>1</td>\n",
       "    </tr>\n",
       "    <tr>\n",
       "      <th>Atlanta</th>\n",
       "      <td>3.500000</td>\n",
       "      <td>NaN</td>\n",
       "      <td>16</td>\n",
       "      <td>1</td>\n",
       "    </tr>\n",
       "  </tbody>\n",
       "</table>\n",
       "</div>"
      ],
      "text/plain": [
       "                    stars           review_count business_id\n",
       "                     mean       std          sum       count\n",
       "city                                                        \n",
       "Ahwatukee        3.687500  1.066955          258           8\n",
       "Anthem           3.781818  0.756231          727          55\n",
       "Apache Junction  3.637500  1.028010          853          80\n",
       "Arcadia          5.000000       NaN            4           1\n",
       "Atlanta          3.500000       NaN           16           1"
      ]
     },
     "execution_count": 109,
     "metadata": {},
     "output_type": "execute_result"
    }
   ],
   "source": [
    "agg_by_city = yelp_df.groupby('city').agg({'stars': ['mean', 'std'], 'review_count': 'sum', 'business_id': 'count'})\n",
    "agg_by_city.head()"
   ]
  },
  {
   "cell_type": "code",
   "execution_count": 110,
   "metadata": {},
   "outputs": [
    {
     "data": {
      "text/html": [
       "<div>\n",
       "<style scoped>\n",
       "    .dataframe tbody tr th:only-of-type {\n",
       "        vertical-align: middle;\n",
       "    }\n",
       "\n",
       "    .dataframe tbody tr th {\n",
       "        vertical-align: top;\n",
       "    }\n",
       "\n",
       "    .dataframe thead th {\n",
       "        text-align: right;\n",
       "    }\n",
       "</style>\n",
       "<table border=\"1\" class=\"dataframe\">\n",
       "  <thead>\n",
       "    <tr style=\"text-align: right;\">\n",
       "      <th></th>\n",
       "      <th>stars_mean</th>\n",
       "      <th>stars_std</th>\n",
       "      <th>review_count_sum</th>\n",
       "      <th>business_id_count</th>\n",
       "    </tr>\n",
       "    <tr>\n",
       "      <th>city</th>\n",
       "      <th></th>\n",
       "      <th></th>\n",
       "      <th></th>\n",
       "      <th></th>\n",
       "    </tr>\n",
       "  </thead>\n",
       "  <tbody>\n",
       "    <tr>\n",
       "      <th>Ahwatukee</th>\n",
       "      <td>3.687500</td>\n",
       "      <td>1.066955</td>\n",
       "      <td>258</td>\n",
       "      <td>8</td>\n",
       "    </tr>\n",
       "    <tr>\n",
       "      <th>Anthem</th>\n",
       "      <td>3.781818</td>\n",
       "      <td>0.756231</td>\n",
       "      <td>727</td>\n",
       "      <td>55</td>\n",
       "    </tr>\n",
       "    <tr>\n",
       "      <th>Apache Junction</th>\n",
       "      <td>3.637500</td>\n",
       "      <td>1.028010</td>\n",
       "      <td>853</td>\n",
       "      <td>80</td>\n",
       "    </tr>\n",
       "    <tr>\n",
       "      <th>Arcadia</th>\n",
       "      <td>5.000000</td>\n",
       "      <td>NaN</td>\n",
       "      <td>4</td>\n",
       "      <td>1</td>\n",
       "    </tr>\n",
       "    <tr>\n",
       "      <th>Atlanta</th>\n",
       "      <td>3.500000</td>\n",
       "      <td>NaN</td>\n",
       "      <td>16</td>\n",
       "      <td>1</td>\n",
       "    </tr>\n",
       "  </tbody>\n",
       "</table>\n",
       "</div>"
      ],
      "text/plain": [
       "                 stars_mean  stars_std  review_count_sum  business_id_count\n",
       "city                                                                       \n",
       "Ahwatukee          3.687500   1.066955               258                  8\n",
       "Anthem             3.781818   0.756231               727                 55\n",
       "Apache Junction    3.637500   1.028010               853                 80\n",
       "Arcadia            5.000000        NaN                 4                  1\n",
       "Atlanta            3.500000        NaN                16                  1"
      ]
     },
     "execution_count": 110,
     "metadata": {},
     "output_type": "execute_result"
    }
   ],
   "source": [
    "# unstacking the columns\n",
    "new_columns = map(lambda x: '_'.join(x),\n",
    "                  zip(agg_by_city.columns.get_level_values(0),\n",
    "                      agg_by_city.columns.get_level_values(1)))\n",
    "agg_by_city.columns = new_columns\n",
    "agg_by_city.head()"
   ]
  },
  {
   "cell_type": "code",
   "execution_count": 111,
   "metadata": {},
   "outputs": [
    {
     "data": {
      "text/plain": [
       "<pandas.core.groupby.generic.DataFrameGroupBy object at 0x00000244B0ADF898>"
      ]
     },
     "execution_count": 111,
     "metadata": {},
     "output_type": "execute_result"
    }
   ],
   "source": [
    "by_city = yelp_df.groupby('city')\n",
    "by_city"
   ]
  },
  {
   "cell_type": "code",
   "execution_count": 112,
   "metadata": {},
   "outputs": [
    {
     "data": {
      "text/plain": [
       "['__bytes__',\n",
       " '__class__',\n",
       " '__delattr__',\n",
       " '__dict__',\n",
       " '__dir__',\n",
       " '__doc__',\n",
       " '__eq__',\n",
       " '__format__',\n",
       " '__ge__',\n",
       " '__getattr__',\n",
       " '__getattribute__',\n",
       " '__getitem__',\n",
       " '__gt__',\n",
       " '__hash__',\n",
       " '__init__',\n",
       " '__init_subclass__',\n",
       " '__iter__',\n",
       " '__le__',\n",
       " '__len__',\n",
       " '__lt__',\n",
       " '__module__',\n",
       " '__ne__',\n",
       " '__new__',\n",
       " '__reduce__',\n",
       " '__reduce_ex__',\n",
       " '__repr__',\n",
       " '__setattr__',\n",
       " '__sizeof__',\n",
       " '__str__',\n",
       " '__subclasshook__',\n",
       " '__unicode__',\n",
       " '__weakref__',\n",
       " '_accessors',\n",
       " '_add_numeric_operations',\n",
       " '_agg_examples_doc',\n",
       " '_agg_see_also_doc',\n",
       " '_aggregate',\n",
       " '_aggregate_generic',\n",
       " '_aggregate_item_by_item',\n",
       " '_aggregate_multiple_funcs',\n",
       " '_apply_filter',\n",
       " '_apply_to_column_groupbys',\n",
       " '_apply_whitelist',\n",
       " '_assure_grouper',\n",
       " '_block_agg_axis',\n",
       " '_bool_agg',\n",
       " '_builtin_table',\n",
       " '_choose_path',\n",
       " '_concat_objects',\n",
       " '_constructor',\n",
       " '_cumcount_array',\n",
       " '_cython_agg_blocks',\n",
       " '_cython_agg_general',\n",
       " '_cython_table',\n",
       " '_cython_transform',\n",
       " '_decide_output_index',\n",
       " '_def_str',\n",
       " '_define_paths',\n",
       " '_deprecations',\n",
       " '_dir_additions',\n",
       " '_dir_deletions',\n",
       " '_fill',\n",
       " '_get_cythonized_result',\n",
       " '_get_data_to_aggregate',\n",
       " '_get_index',\n",
       " '_get_indices',\n",
       " '_gotitem',\n",
       " '_group_selection',\n",
       " '_insert_inaxis_grouper_inplace',\n",
       " '_internal_names',\n",
       " '_internal_names_set',\n",
       " '_is_builtin_func',\n",
       " '_is_cython_func',\n",
       " '_iterate_column_groupbys',\n",
       " '_iterate_slices',\n",
       " '_make_wrapper',\n",
       " '_obj_with_exclusions',\n",
       " '_post_process_cython_aggregate',\n",
       " '_python_agg_general',\n",
       " '_python_apply_general',\n",
       " '_reindex_output',\n",
       " '_reset_cache',\n",
       " '_reset_group_selection',\n",
       " '_selected_obj',\n",
       " '_selection',\n",
       " '_selection_list',\n",
       " '_selection_name',\n",
       " '_set_group_selection',\n",
       " '_set_result_index_ordered',\n",
       " '_shallow_copy',\n",
       " '_transform_fast',\n",
       " '_transform_general',\n",
       " '_transform_item_by_item',\n",
       " '_transform_should_cast',\n",
       " '_try_aggregate_string_function',\n",
       " '_try_cast',\n",
       " '_wrap_agged_blocks',\n",
       " '_wrap_aggregated_output',\n",
       " '_wrap_applied_output',\n",
       " '_wrap_generic_output',\n",
       " '_wrap_transformed_output',\n",
       " 'agg',\n",
       " 'aggregate',\n",
       " 'all',\n",
       " 'any',\n",
       " 'apply',\n",
       " 'attributes',\n",
       " 'backfill',\n",
       " 'bfill',\n",
       " 'boxplot',\n",
       " 'business_id',\n",
       " 'categories',\n",
       " 'city',\n",
       " 'corr',\n",
       " 'corrwith',\n",
       " 'count',\n",
       " 'cov',\n",
       " 'cumcount',\n",
       " 'cummax',\n",
       " 'cummin',\n",
       " 'cumprod',\n",
       " 'cumsum',\n",
       " 'delivery',\n",
       " 'describe',\n",
       " 'diff',\n",
       " 'dtypes',\n",
       " 'expanding',\n",
       " 'ffill',\n",
       " 'fillna',\n",
       " 'filter',\n",
       " 'first',\n",
       " 'full_address',\n",
       " 'get_group',\n",
       " 'groups',\n",
       " 'head',\n",
       " 'hist',\n",
       " 'hours',\n",
       " 'idxmax',\n",
       " 'idxmin',\n",
       " 'indices',\n",
       " 'last',\n",
       " 'latitude',\n",
       " 'longitude',\n",
       " 'mad',\n",
       " 'max',\n",
       " 'mean',\n",
       " 'median',\n",
       " 'min',\n",
       " 'name',\n",
       " 'ndim',\n",
       " 'neighborhoods',\n",
       " 'ngroup',\n",
       " 'ngroups',\n",
       " 'nth',\n",
       " 'nunique',\n",
       " 'ohlc',\n",
       " 'open',\n",
       " 'pad',\n",
       " 'pct_change',\n",
       " 'pipe',\n",
       " 'plot',\n",
       " 'prod',\n",
       " 'quantile',\n",
       " 'rank',\n",
       " 'resample',\n",
       " 'review_count',\n",
       " 'rolling',\n",
       " 'sem',\n",
       " 'shift',\n",
       " 'size',\n",
       " 'skew',\n",
       " 'stars',\n",
       " 'state',\n",
       " 'std',\n",
       " 'sum',\n",
       " 'tail',\n",
       " 'take',\n",
       " 'transform',\n",
       " 'tshift',\n",
       " 'type',\n",
       " 'var']"
      ]
     },
     "execution_count": 112,
     "metadata": {},
     "output_type": "execute_result"
    }
   ],
   "source": [
    "dir(by_city)"
   ]
  },
  {
   "cell_type": "code",
   "execution_count": 113,
   "metadata": {},
   "outputs": [
    {
     "name": "stdout",
     "output_type": "stream",
     "text": [
      "<class 'dict'>\n"
     ]
    }
   ],
   "source": [
    "print(type(by_city.groups))"
   ]
  },
  {
   "cell_type": "code",
   "execution_count": 114,
   "metadata": {},
   "outputs": [
    {
     "data": {
      "text/plain": [
       "[('Ahwatukee',\n",
       "  Int64Index([1718, 1740, 13572, 17787, 20361, 22856, 28608, 30499], dtype='int64')),\n",
       " ('Anthem',\n",
       "  Int64Index([ 1946,  1948,  1949,  1950,  1951,  1952,  1953,  1954,  1955,\n",
       "               1956,  1957,  1958,  1961,  1962, 11455, 12008, 12572, 12870,\n",
       "              13007, 13069, 13286, 13500, 13636, 13703, 13744, 13827, 13935,\n",
       "              15483, 15581, 15756, 19358, 21295, 21303, 21327, 22354, 22428,\n",
       "              22654, 22782, 23215, 24937, 25026, 26116, 26300, 26331, 26841,\n",
       "              26937, 30039, 30170, 31565, 32525, 33027, 33492, 33983, 34663,\n",
       "              35433],\n",
       "             dtype='int64')),\n",
       " ('Apache Junction',\n",
       "  Int64Index([ 2392,  2393,  2394,  2395,  2396,  2397,  2398,  2399,  2400,\n",
       "               2401,  2402,  2403,  2404,  2406,  2407,  2408,  2409,  2410,\n",
       "               2412,  2413,  2414,  2415,  2417,  2418,  2419,  7305,  7524,\n",
       "               7525,  7528,  7529,  7530,  7531,  7532,  7533,  7534, 10813,\n",
       "              11315, 11660, 12662, 12858, 12893, 13021, 13107, 13367, 13534,\n",
       "              13871, 15645, 17769, 19447, 19682, 19695, 20030, 20977, 21940,\n",
       "              22571, 22750, 22884, 23175, 23226, 23429, 25839, 26064, 26169,\n",
       "              26582, 27131, 27594, 27901, 28112, 28124, 29329, 30062, 30753,\n",
       "              30810, 30850, 31841, 33347, 33378, 34415, 34558, 36436],\n",
       "             dtype='int64')),\n",
       " ('Arcadia', Int64Index([20625], dtype='int64')),\n",
       " ('Atlanta', Int64Index([16976], dtype='int64'))]"
      ]
     },
     "execution_count": 114,
     "metadata": {},
     "output_type": "execute_result"
    }
   ],
   "source": [
    "list(by_city.groups.items())[:5]"
   ]
  },
  {
   "cell_type": "code",
   "execution_count": 115,
   "metadata": {},
   "outputs": [
    {
     "data": {
      "text/html": [
       "<div>\n",
       "<style scoped>\n",
       "    .dataframe tbody tr th:only-of-type {\n",
       "        vertical-align: middle;\n",
       "    }\n",
       "\n",
       "    .dataframe tbody tr th {\n",
       "        vertical-align: top;\n",
       "    }\n",
       "\n",
       "    .dataframe thead th {\n",
       "        text-align: right;\n",
       "    }\n",
       "</style>\n",
       "<table border=\"1\" class=\"dataframe\">\n",
       "  <thead>\n",
       "    <tr style=\"text-align: right;\">\n",
       "      <th></th>\n",
       "      <th>attributes</th>\n",
       "      <th>business_id</th>\n",
       "      <th>categories</th>\n",
       "      <th>city</th>\n",
       "      <th>full_address</th>\n",
       "      <th>hours</th>\n",
       "      <th>latitude</th>\n",
       "      <th>longitude</th>\n",
       "      <th>name</th>\n",
       "      <th>neighborhoods</th>\n",
       "      <th>open</th>\n",
       "      <th>review_count</th>\n",
       "      <th>stars</th>\n",
       "      <th>state</th>\n",
       "      <th>type</th>\n",
       "      <th>delivery</th>\n",
       "    </tr>\n",
       "  </thead>\n",
       "  <tbody>\n",
       "    <tr>\n",
       "      <th>1946</th>\n",
       "      <td>{'Parking': {'garage': False, 'street': False,...</td>\n",
       "      <td>Y0Ife2OJPs5QSL-7dyMF5Q</td>\n",
       "      <td>[Fashion, Shopping, Shoe Stores]</td>\n",
       "      <td>Anthem</td>\n",
       "      <td>4250 W Anthem Way\\nSte 375\\nAnthem, AZ 85086</td>\n",
       "      <td>{}</td>\n",
       "      <td>33.874003</td>\n",
       "      <td>-112.150162</td>\n",
       "      <td>Nike Factory Store</td>\n",
       "      <td>[]</td>\n",
       "      <td>True</td>\n",
       "      <td>8</td>\n",
       "      <td>4.0</td>\n",
       "      <td>AZ</td>\n",
       "      <td>business</td>\n",
       "      <td>None</td>\n",
       "    </tr>\n",
       "    <tr>\n",
       "      <th>1948</th>\n",
       "      <td>{'Take-out': True, 'Wi-Fi': 'no', 'Good For': ...</td>\n",
       "      <td>v1ocqAm5soWTNPttLQhSZw</td>\n",
       "      <td>[Chinese, Restaurants]</td>\n",
       "      <td>Anthem</td>\n",
       "      <td>3434 W Anthem Way\\nSte 118\\nAnthem, AZ 85086</td>\n",
       "      <td>{}</td>\n",
       "      <td>33.864429</td>\n",
       "      <td>-112.135305</td>\n",
       "      <td>Shanghai Club</td>\n",
       "      <td>[]</td>\n",
       "      <td>True</td>\n",
       "      <td>50</td>\n",
       "      <td>3.5</td>\n",
       "      <td>AZ</td>\n",
       "      <td>business</td>\n",
       "      <td>False</td>\n",
       "    </tr>\n",
       "    <tr>\n",
       "      <th>1949</th>\n",
       "      <td>{'Parking': {'garage': False, 'street': False,...</td>\n",
       "      <td>HMDymN9TbFUln9AkqHMpVw</td>\n",
       "      <td>[Department Stores, Fashion, Shopping]</td>\n",
       "      <td>Anthem</td>\n",
       "      <td>4250 W Anthem Way\\nAnthem, AZ 85086</td>\n",
       "      <td>{}</td>\n",
       "      <td>33.875410</td>\n",
       "      <td>-112.151046</td>\n",
       "      <td>Polo Ralph Lauren Factory Store</td>\n",
       "      <td>[]</td>\n",
       "      <td>True</td>\n",
       "      <td>3</td>\n",
       "      <td>3.0</td>\n",
       "      <td>AZ</td>\n",
       "      <td>business</td>\n",
       "      <td>None</td>\n",
       "    </tr>\n",
       "    <tr>\n",
       "      <th>1950</th>\n",
       "      <td>{'Parking': {'garage': False, 'street': False,...</td>\n",
       "      <td>XJv7dUb5fMRaZAWVZjhtvw</td>\n",
       "      <td>[Shopping, Outlet Stores]</td>\n",
       "      <td>Anthem</td>\n",
       "      <td>4250 W Anthem Way\\nAnthem, AZ 85086</td>\n",
       "      <td>{}</td>\n",
       "      <td>33.873311</td>\n",
       "      <td>-112.149875</td>\n",
       "      <td>Outlets At Anthem</td>\n",
       "      <td>[]</td>\n",
       "      <td>True</td>\n",
       "      <td>64</td>\n",
       "      <td>3.5</td>\n",
       "      <td>AZ</td>\n",
       "      <td>business</td>\n",
       "      <td>None</td>\n",
       "    </tr>\n",
       "    <tr>\n",
       "      <th>1951</th>\n",
       "      <td>{'Ambience': {'romantic': False, 'intimate': F...</td>\n",
       "      <td>xPDbCj9tfp5nnGzYzoCHwA</td>\n",
       "      <td>[Sandwiches, Restaurants]</td>\n",
       "      <td>Anthem</td>\n",
       "      <td>3655 W Anthem Way\\nSte C105\\nAnthem, AZ 85086</td>\n",
       "      <td>{}</td>\n",
       "      <td>33.864913</td>\n",
       "      <td>-112.138854</td>\n",
       "      <td>Subway</td>\n",
       "      <td>[]</td>\n",
       "      <td>True</td>\n",
       "      <td>6</td>\n",
       "      <td>3.0</td>\n",
       "      <td>AZ</td>\n",
       "      <td>business</td>\n",
       "      <td>None</td>\n",
       "    </tr>\n",
       "  </tbody>\n",
       "</table>\n",
       "</div>"
      ],
      "text/plain": [
       "                                             attributes  \\\n",
       "1946  {'Parking': {'garage': False, 'street': False,...   \n",
       "1948  {'Take-out': True, 'Wi-Fi': 'no', 'Good For': ...   \n",
       "1949  {'Parking': {'garage': False, 'street': False,...   \n",
       "1950  {'Parking': {'garage': False, 'street': False,...   \n",
       "1951  {'Ambience': {'romantic': False, 'intimate': F...   \n",
       "\n",
       "                 business_id                              categories    city  \\\n",
       "1946  Y0Ife2OJPs5QSL-7dyMF5Q        [Fashion, Shopping, Shoe Stores]  Anthem   \n",
       "1948  v1ocqAm5soWTNPttLQhSZw                  [Chinese, Restaurants]  Anthem   \n",
       "1949  HMDymN9TbFUln9AkqHMpVw  [Department Stores, Fashion, Shopping]  Anthem   \n",
       "1950  XJv7dUb5fMRaZAWVZjhtvw               [Shopping, Outlet Stores]  Anthem   \n",
       "1951  xPDbCj9tfp5nnGzYzoCHwA               [Sandwiches, Restaurants]  Anthem   \n",
       "\n",
       "                                       full_address hours   latitude  \\\n",
       "1946   4250 W Anthem Way\\nSte 375\\nAnthem, AZ 85086    {}  33.874003   \n",
       "1948   3434 W Anthem Way\\nSte 118\\nAnthem, AZ 85086    {}  33.864429   \n",
       "1949            4250 W Anthem Way\\nAnthem, AZ 85086    {}  33.875410   \n",
       "1950            4250 W Anthem Way\\nAnthem, AZ 85086    {}  33.873311   \n",
       "1951  3655 W Anthem Way\\nSte C105\\nAnthem, AZ 85086    {}  33.864913   \n",
       "\n",
       "       longitude                             name neighborhoods  open  \\\n",
       "1946 -112.150162               Nike Factory Store            []  True   \n",
       "1948 -112.135305                    Shanghai Club            []  True   \n",
       "1949 -112.151046  Polo Ralph Lauren Factory Store            []  True   \n",
       "1950 -112.149875                Outlets At Anthem            []  True   \n",
       "1951 -112.138854                           Subway            []  True   \n",
       "\n",
       "      review_count  stars state      type delivery  \n",
       "1946             8    4.0    AZ  business     None  \n",
       "1948            50    3.5    AZ  business    False  \n",
       "1949             3    3.0    AZ  business     None  \n",
       "1950            64    3.5    AZ  business     None  \n",
       "1951             6    3.0    AZ  business     None  "
      ]
     },
     "execution_count": 115,
     "metadata": {},
     "output_type": "execute_result"
    }
   ],
   "source": [
    "by_city.get_group('Anthem').head()"
   ]
  },
  {
   "cell_type": "markdown",
   "metadata": {},
   "source": [
    "When we use `groupby` on a column, Pandas builds a `dict`, using the unique elements of the column as the keys and the index of the rows in each group as the values. This `dict` is stored in the `groups` attribute. Pandas can then use this `dict` to direct the application of aggregating functions over the different groups."
   ]
  },
  {
   "cell_type": "markdown",
   "metadata": {},
   "source": [
    "## Sorting\n",
    "\n",
    "Even though the DataFrame in many ways behaves similarly to a `dict`, it also is ordered. Therefore we can sort the data in it. Pandas provides two sorting methods, `sort_values` and `sort_index`."
   ]
  },
  {
   "cell_type": "code",
   "execution_count": 116,
   "metadata": {},
   "outputs": [
    {
     "data": {
      "text/html": [
       "<div>\n",
       "<style scoped>\n",
       "    .dataframe tbody tr th:only-of-type {\n",
       "        vertical-align: middle;\n",
       "    }\n",
       "\n",
       "    .dataframe tbody tr th {\n",
       "        vertical-align: top;\n",
       "    }\n",
       "\n",
       "    .dataframe thead th {\n",
       "        text-align: right;\n",
       "    }\n",
       "</style>\n",
       "<table border=\"1\" class=\"dataframe\">\n",
       "  <thead>\n",
       "    <tr style=\"text-align: right;\">\n",
       "      <th></th>\n",
       "      <th>attributes</th>\n",
       "      <th>categories</th>\n",
       "      <th>city</th>\n",
       "      <th>full_address</th>\n",
       "      <th>hours</th>\n",
       "      <th>latitude</th>\n",
       "      <th>longitude</th>\n",
       "      <th>name</th>\n",
       "      <th>neighborhoods</th>\n",
       "      <th>open</th>\n",
       "      <th>review_count</th>\n",
       "      <th>stars</th>\n",
       "      <th>state</th>\n",
       "      <th>type</th>\n",
       "      <th>delivery</th>\n",
       "    </tr>\n",
       "    <tr>\n",
       "      <th>business_id</th>\n",
       "      <th></th>\n",
       "      <th></th>\n",
       "      <th></th>\n",
       "      <th></th>\n",
       "      <th></th>\n",
       "      <th></th>\n",
       "      <th></th>\n",
       "      <th></th>\n",
       "      <th></th>\n",
       "      <th></th>\n",
       "      <th></th>\n",
       "      <th></th>\n",
       "      <th></th>\n",
       "      <th></th>\n",
       "      <th></th>\n",
       "    </tr>\n",
       "  </thead>\n",
       "  <tbody>\n",
       "    <tr>\n",
       "      <th>--1emggGHgoG6ipd_RMb-g</th>\n",
       "      <td>{'Parking': {'garage': False, 'street': False,...</td>\n",
       "      <td>[Food, Convenience Stores]</td>\n",
       "      <td>Las Vegas</td>\n",
       "      <td>3280 S Decatur Blvd\\nWestside\\nLas Vegas, NV 8...</td>\n",
       "      <td>{}</td>\n",
       "      <td>36.130531</td>\n",
       "      <td>-115.207238</td>\n",
       "      <td>Sinclair</td>\n",
       "      <td>[Westside]</td>\n",
       "      <td>True</td>\n",
       "      <td>4</td>\n",
       "      <td>4.0</td>\n",
       "      <td>NV</td>\n",
       "      <td>business</td>\n",
       "      <td>None</td>\n",
       "    </tr>\n",
       "    <tr>\n",
       "      <th>--4Pe8BZ6gj57VFL5mUE8g</th>\n",
       "      <td>{'Parking': {'garage': False, 'street': False,...</td>\n",
       "      <td>[Shopping, Office Equipment]</td>\n",
       "      <td>Phoenix</td>\n",
       "      <td>21001 North Tatum Blvd. #24\\nPhoenix, AZ 85050</td>\n",
       "      <td>{}</td>\n",
       "      <td>33.678615</td>\n",
       "      <td>-111.974607</td>\n",
       "      <td>Office Max</td>\n",
       "      <td>[]</td>\n",
       "      <td>True</td>\n",
       "      <td>5</td>\n",
       "      <td>3.0</td>\n",
       "      <td>AZ</td>\n",
       "      <td>business</td>\n",
       "      <td>None</td>\n",
       "    </tr>\n",
       "    <tr>\n",
       "      <th>--5jkZ3-nUPZxUvtcbr8Uw</th>\n",
       "      <td>{'Take-out': True, 'Wi-Fi': 'no', 'Good For': ...</td>\n",
       "      <td>[Greek, Restaurants]</td>\n",
       "      <td>Scottsdale</td>\n",
       "      <td>1336 N Scottsdale Rd\\nScottsdale, AZ 85257</td>\n",
       "      <td>{'Monday': {'close': '21:00', 'open': '11:00'}...</td>\n",
       "      <td>33.463373</td>\n",
       "      <td>-111.926908</td>\n",
       "      <td>Mika's Greek</td>\n",
       "      <td>[]</td>\n",
       "      <td>True</td>\n",
       "      <td>42</td>\n",
       "      <td>4.5</td>\n",
       "      <td>AZ</td>\n",
       "      <td>business</td>\n",
       "      <td>False</td>\n",
       "    </tr>\n",
       "    <tr>\n",
       "      <th>--BlvDO_RG2yElKu9XA1_g</th>\n",
       "      <td>{'Take-out': True, 'Wi-Fi': 'free', 'Good For'...</td>\n",
       "      <td>[Sushi Bars, Hawaiian, Chinese, Restaurants]</td>\n",
       "      <td>Scottsdale</td>\n",
       "      <td>14870 N Northsight Blvd\\nSte 103\\nScottsdale, ...</td>\n",
       "      <td>{'Monday': {'close': '21:00', 'open': '10:30'}...</td>\n",
       "      <td>33.620568</td>\n",
       "      <td>-111.897836</td>\n",
       "      <td>Asian Island</td>\n",
       "      <td>[]</td>\n",
       "      <td>True</td>\n",
       "      <td>65</td>\n",
       "      <td>4.0</td>\n",
       "      <td>AZ</td>\n",
       "      <td>business</td>\n",
       "      <td>True</td>\n",
       "    </tr>\n",
       "    <tr>\n",
       "      <th>--Dl2rW_xO8GuYBomlg9zw</th>\n",
       "      <td>{'By Appointment Only': True}</td>\n",
       "      <td>[Medical Centers, Health &amp; Medical]</td>\n",
       "      <td>Las Vegas</td>\n",
       "      <td>4505 S Maryland Pkwy\\nUniversity\\nLas Vegas, N...</td>\n",
       "      <td>{}</td>\n",
       "      <td>36.110940</td>\n",
       "      <td>-115.141514</td>\n",
       "      <td>UNLV Student Health Center</td>\n",
       "      <td>[University]</td>\n",
       "      <td>True</td>\n",
       "      <td>6</td>\n",
       "      <td>4.0</td>\n",
       "      <td>NV</td>\n",
       "      <td>business</td>\n",
       "      <td>None</td>\n",
       "    </tr>\n",
       "  </tbody>\n",
       "</table>\n",
       "</div>"
      ],
      "text/plain": [
       "                                                               attributes  \\\n",
       "business_id                                                                 \n",
       "--1emggGHgoG6ipd_RMb-g  {'Parking': {'garage': False, 'street': False,...   \n",
       "--4Pe8BZ6gj57VFL5mUE8g  {'Parking': {'garage': False, 'street': False,...   \n",
       "--5jkZ3-nUPZxUvtcbr8Uw  {'Take-out': True, 'Wi-Fi': 'no', 'Good For': ...   \n",
       "--BlvDO_RG2yElKu9XA1_g  {'Take-out': True, 'Wi-Fi': 'free', 'Good For'...   \n",
       "--Dl2rW_xO8GuYBomlg9zw                      {'By Appointment Only': True}   \n",
       "\n",
       "                                                          categories  \\\n",
       "business_id                                                            \n",
       "--1emggGHgoG6ipd_RMb-g                    [Food, Convenience Stores]   \n",
       "--4Pe8BZ6gj57VFL5mUE8g                  [Shopping, Office Equipment]   \n",
       "--5jkZ3-nUPZxUvtcbr8Uw                          [Greek, Restaurants]   \n",
       "--BlvDO_RG2yElKu9XA1_g  [Sushi Bars, Hawaiian, Chinese, Restaurants]   \n",
       "--Dl2rW_xO8GuYBomlg9zw           [Medical Centers, Health & Medical]   \n",
       "\n",
       "                              city  \\\n",
       "business_id                          \n",
       "--1emggGHgoG6ipd_RMb-g   Las Vegas   \n",
       "--4Pe8BZ6gj57VFL5mUE8g     Phoenix   \n",
       "--5jkZ3-nUPZxUvtcbr8Uw  Scottsdale   \n",
       "--BlvDO_RG2yElKu9XA1_g  Scottsdale   \n",
       "--Dl2rW_xO8GuYBomlg9zw   Las Vegas   \n",
       "\n",
       "                                                             full_address  \\\n",
       "business_id                                                                 \n",
       "--1emggGHgoG6ipd_RMb-g  3280 S Decatur Blvd\\nWestside\\nLas Vegas, NV 8...   \n",
       "--4Pe8BZ6gj57VFL5mUE8g     21001 North Tatum Blvd. #24\\nPhoenix, AZ 85050   \n",
       "--5jkZ3-nUPZxUvtcbr8Uw         1336 N Scottsdale Rd\\nScottsdale, AZ 85257   \n",
       "--BlvDO_RG2yElKu9XA1_g  14870 N Northsight Blvd\\nSte 103\\nScottsdale, ...   \n",
       "--Dl2rW_xO8GuYBomlg9zw  4505 S Maryland Pkwy\\nUniversity\\nLas Vegas, N...   \n",
       "\n",
       "                                                                    hours  \\\n",
       "business_id                                                                 \n",
       "--1emggGHgoG6ipd_RMb-g                                                 {}   \n",
       "--4Pe8BZ6gj57VFL5mUE8g                                                 {}   \n",
       "--5jkZ3-nUPZxUvtcbr8Uw  {'Monday': {'close': '21:00', 'open': '11:00'}...   \n",
       "--BlvDO_RG2yElKu9XA1_g  {'Monday': {'close': '21:00', 'open': '10:30'}...   \n",
       "--Dl2rW_xO8GuYBomlg9zw                                                 {}   \n",
       "\n",
       "                         latitude   longitude                        name  \\\n",
       "business_id                                                                 \n",
       "--1emggGHgoG6ipd_RMb-g  36.130531 -115.207238                    Sinclair   \n",
       "--4Pe8BZ6gj57VFL5mUE8g  33.678615 -111.974607                  Office Max   \n",
       "--5jkZ3-nUPZxUvtcbr8Uw  33.463373 -111.926908                Mika's Greek   \n",
       "--BlvDO_RG2yElKu9XA1_g  33.620568 -111.897836                Asian Island   \n",
       "--Dl2rW_xO8GuYBomlg9zw  36.110940 -115.141514  UNLV Student Health Center   \n",
       "\n",
       "                       neighborhoods  open  review_count  stars state  \\\n",
       "business_id                                                             \n",
       "--1emggGHgoG6ipd_RMb-g    [Westside]  True             4    4.0    NV   \n",
       "--4Pe8BZ6gj57VFL5mUE8g            []  True             5    3.0    AZ   \n",
       "--5jkZ3-nUPZxUvtcbr8Uw            []  True            42    4.5    AZ   \n",
       "--BlvDO_RG2yElKu9XA1_g            []  True            65    4.0    AZ   \n",
       "--Dl2rW_xO8GuYBomlg9zw  [University]  True             6    4.0    NV   \n",
       "\n",
       "                            type delivery  \n",
       "business_id                                \n",
       "--1emggGHgoG6ipd_RMb-g  business     None  \n",
       "--4Pe8BZ6gj57VFL5mUE8g  business     None  \n",
       "--5jkZ3-nUPZxUvtcbr8Uw  business    False  \n",
       "--BlvDO_RG2yElKu9XA1_g  business     True  \n",
       "--Dl2rW_xO8GuYBomlg9zw  business     None  "
      ]
     },
     "execution_count": 116,
     "metadata": {},
     "output_type": "execute_result"
    }
   ],
   "source": [
    "yelp_df.set_index('business_id').sort_index().head()"
   ]
  },
  {
   "cell_type": "markdown",
   "metadata": {},
   "source": [
    "## Joining Data Sets"
   ]
  },
  {
   "cell_type": "code",
   "execution_count": 117,
   "metadata": {},
   "outputs": [
    {
     "data": {
      "text/html": [
       "<div>\n",
       "<style scoped>\n",
       "    .dataframe tbody tr th:only-of-type {\n",
       "        vertical-align: middle;\n",
       "    }\n",
       "\n",
       "    .dataframe tbody tr th {\n",
       "        vertical-align: top;\n",
       "    }\n",
       "\n",
       "    .dataframe thead th {\n",
       "        text-align: right;\n",
       "    }\n",
       "</style>\n",
       "<table border=\"1\" class=\"dataframe\">\n",
       "  <thead>\n",
       "    <tr style=\"text-align: right;\">\n",
       "      <th></th>\n",
       "      <th>GEO.id</th>\n",
       "      <th>GEO.id2</th>\n",
       "      <th>GEO.display-label</th>\n",
       "      <th>rescen42010</th>\n",
       "      <th>resbase42010</th>\n",
       "      <th>respop72010</th>\n",
       "      <th>respop72011</th>\n",
       "      <th>respop72012</th>\n",
       "      <th>respop72013</th>\n",
       "      <th>respop72014</th>\n",
       "      <th>respop72015</th>\n",
       "      <th>respop72016</th>\n",
       "    </tr>\n",
       "  </thead>\n",
       "  <tbody>\n",
       "    <tr>\n",
       "      <th>0</th>\n",
       "      <td>0610000US0900104720</td>\n",
       "      <td>900104720</td>\n",
       "      <td>Bethel town, Fairfield County, Connecticut</td>\n",
       "      <td>18584.0</td>\n",
       "      <td>18584</td>\n",
       "      <td>18642</td>\n",
       "      <td>18942</td>\n",
       "      <td>19150</td>\n",
       "      <td>19267</td>\n",
       "      <td>19316</td>\n",
       "      <td>19463</td>\n",
       "      <td>19627</td>\n",
       "    </tr>\n",
       "    <tr>\n",
       "      <th>1</th>\n",
       "      <td>0610000US0900108070</td>\n",
       "      <td>900108070</td>\n",
       "      <td>Bridgeport town, Fairfield County, Connecticut</td>\n",
       "      <td>144229.0</td>\n",
       "      <td>144236</td>\n",
       "      <td>144912</td>\n",
       "      <td>146226</td>\n",
       "      <td>146962</td>\n",
       "      <td>147666</td>\n",
       "      <td>147560</td>\n",
       "      <td>147090</td>\n",
       "      <td>145936</td>\n",
       "    </tr>\n",
       "    <tr>\n",
       "      <th>2</th>\n",
       "      <td>0610000US0900108980</td>\n",
       "      <td>900108980</td>\n",
       "      <td>Brookfield town, Fairfield County, Connecticut</td>\n",
       "      <td>16452.0</td>\n",
       "      <td>16452</td>\n",
       "      <td>16483</td>\n",
       "      <td>16635</td>\n",
       "      <td>16785</td>\n",
       "      <td>16859</td>\n",
       "      <td>17016</td>\n",
       "      <td>17087</td>\n",
       "      <td>17098</td>\n",
       "    </tr>\n",
       "    <tr>\n",
       "      <th>3</th>\n",
       "      <td>0610000US0900118500</td>\n",
       "      <td>900118500</td>\n",
       "      <td>Danbury town, Fairfield County, Connecticut</td>\n",
       "      <td>80893.0</td>\n",
       "      <td>80903</td>\n",
       "      <td>81356</td>\n",
       "      <td>82182</td>\n",
       "      <td>82788</td>\n",
       "      <td>83678</td>\n",
       "      <td>83687</td>\n",
       "      <td>84236</td>\n",
       "      <td>84992</td>\n",
       "    </tr>\n",
       "    <tr>\n",
       "      <th>4</th>\n",
       "      <td>0610000US0900118850</td>\n",
       "      <td>900118850</td>\n",
       "      <td>Darien town, Fairfield County, Connecticut</td>\n",
       "      <td>20732.0</td>\n",
       "      <td>20732</td>\n",
       "      <td>20777</td>\n",
       "      <td>20975</td>\n",
       "      <td>21127</td>\n",
       "      <td>21342</td>\n",
       "      <td>21641</td>\n",
       "      <td>21718</td>\n",
       "      <td>21744</td>\n",
       "    </tr>\n",
       "  </tbody>\n",
       "</table>\n",
       "</div>"
      ],
      "text/plain": [
       "                GEO.id    GEO.id2  \\\n",
       "0  0610000US0900104720  900104720   \n",
       "1  0610000US0900108070  900108070   \n",
       "2  0610000US0900108980  900108980   \n",
       "3  0610000US0900118500  900118500   \n",
       "4  0610000US0900118850  900118850   \n",
       "\n",
       "                                GEO.display-label  rescen42010  resbase42010  \\\n",
       "0      Bethel town, Fairfield County, Connecticut      18584.0         18584   \n",
       "1  Bridgeport town, Fairfield County, Connecticut     144229.0        144236   \n",
       "2  Brookfield town, Fairfield County, Connecticut      16452.0         16452   \n",
       "3     Danbury town, Fairfield County, Connecticut      80893.0         80903   \n",
       "4      Darien town, Fairfield County, Connecticut      20732.0         20732   \n",
       "\n",
       "   respop72010  respop72011  respop72012  respop72013  respop72014  \\\n",
       "0        18642        18942        19150        19267        19316   \n",
       "1       144912       146226       146962       147666       147560   \n",
       "2        16483        16635        16785        16859        17016   \n",
       "3        81356        82182        82788        83678        83687   \n",
       "4        20777        20975        21127        21342        21641   \n",
       "\n",
       "   respop72015  respop72016  \n",
       "0        19463        19627  \n",
       "1       147090       145936  \n",
       "2        17087        17098  \n",
       "3        84236        84992  \n",
       "4        21718        21744  "
      ]
     },
     "execution_count": 117,
     "metadata": {},
     "output_type": "execute_result"
    }
   ],
   "source": [
    "census = pd.read_csv('PEP_2016_PEPANNRES.csv', skiprows=[1])\n",
    "census.head()"
   ]
  },
  {
   "cell_type": "code",
   "execution_count": 118,
   "metadata": {},
   "outputs": [
    {
     "data": {
      "text/plain": [
       "21143"
      ]
     },
     "execution_count": 118,
     "metadata": {},
     "output_type": "execute_result"
    }
   ],
   "source": [
    "len(census)"
   ]
  },
  {
   "cell_type": "code",
   "execution_count": 191,
   "metadata": {},
   "outputs": [
    {
     "data": {
      "text/html": [
       "<div>\n",
       "<style scoped>\n",
       "    .dataframe tbody tr th:only-of-type {\n",
       "        vertical-align: middle;\n",
       "    }\n",
       "\n",
       "    .dataframe tbody tr th {\n",
       "        vertical-align: top;\n",
       "    }\n",
       "\n",
       "    .dataframe thead th {\n",
       "        text-align: right;\n",
       "    }\n",
       "</style>\n",
       "<table border=\"1\" class=\"dataframe\">\n",
       "  <thead>\n",
       "    <tr style=\"text-align: right;\">\n",
       "      <th></th>\n",
       "      <th>city</th>\n",
       "      <th>county</th>\n",
       "      <th>state</th>\n",
       "    </tr>\n",
       "  </thead>\n",
       "  <tbody>\n",
       "    <tr>\n",
       "      <th>0</th>\n",
       "      <td>Bethel town</td>\n",
       "      <td>Fairfield County</td>\n",
       "      <td>Connecticut</td>\n",
       "    </tr>\n",
       "    <tr>\n",
       "      <th>1</th>\n",
       "      <td>Bridgeport town</td>\n",
       "      <td>Fairfield County</td>\n",
       "      <td>Connecticut</td>\n",
       "    </tr>\n",
       "    <tr>\n",
       "      <th>2</th>\n",
       "      <td>Brookfield town</td>\n",
       "      <td>Fairfield County</td>\n",
       "      <td>Connecticut</td>\n",
       "    </tr>\n",
       "    <tr>\n",
       "      <th>3</th>\n",
       "      <td>Danbury town</td>\n",
       "      <td>Fairfield County</td>\n",
       "      <td>Connecticut</td>\n",
       "    </tr>\n",
       "    <tr>\n",
       "      <th>4</th>\n",
       "      <td>Darien town</td>\n",
       "      <td>Fairfield County</td>\n",
       "      <td>Connecticut</td>\n",
       "    </tr>\n",
       "  </tbody>\n",
       "</table>\n",
       "</div>"
      ],
      "text/plain": [
       "              city            county        state\n",
       "0      Bethel town  Fairfield County  Connecticut\n",
       "1  Bridgeport town  Fairfield County  Connecticut\n",
       "2  Brookfield town  Fairfield County  Connecticut\n",
       "3     Danbury town  Fairfield County  Connecticut\n",
       "4      Darien town  Fairfield County  Connecticut"
      ]
     },
     "execution_count": 191,
     "metadata": {},
     "output_type": "execute_result"
    }
   ],
   "source": [
    "# Address field\n",
    "address = census['GEO.display-label'].apply(lambda x: x.split(\",\"))\n",
    "city = address.apply(lambda x: \"\".join(x[0].split(maxsplit = 0)[0]))\n",
    "county = address.apply(lambda x: x[1].split(maxsplit = 0)[0])\n",
    "state = address.apply(lambda x: x[2].split(maxsplit = 0)[0])\n",
    "result = pd.DataFrame(zip(city, county, state), columns=[\"city\", \"county\", \"state\"])\n",
    "# Add the State column to the census dataframe\n",
    "# census['state'] = result['state']\n",
    "result.head()\n",
    "# result['state'].unique()"
   ]
  },
  {
   "cell_type": "code",
   "execution_count": 192,
   "metadata": {},
   "outputs": [
    {
     "data": {
      "text/html": [
       "<div>\n",
       "<style scoped>\n",
       "    .dataframe tbody tr th:only-of-type {\n",
       "        vertical-align: middle;\n",
       "    }\n",
       "\n",
       "    .dataframe tbody tr th {\n",
       "        vertical-align: top;\n",
       "    }\n",
       "\n",
       "    .dataframe thead th {\n",
       "        text-align: right;\n",
       "    }\n",
       "</style>\n",
       "<table border=\"1\" class=\"dataframe\">\n",
       "  <thead>\n",
       "    <tr style=\"text-align: right;\">\n",
       "      <th></th>\n",
       "      <th>GEO.id</th>\n",
       "      <th>GEO.id2</th>\n",
       "      <th>GEO.display-label</th>\n",
       "      <th>rescen42010</th>\n",
       "      <th>resbase42010</th>\n",
       "      <th>respop72010</th>\n",
       "      <th>respop72011</th>\n",
       "      <th>respop72012</th>\n",
       "      <th>respop72013</th>\n",
       "      <th>respop72014</th>\n",
       "      <th>respop72015</th>\n",
       "      <th>respop72016</th>\n",
       "      <th>state</th>\n",
       "      <th>city</th>\n",
       "    </tr>\n",
       "  </thead>\n",
       "  <tbody>\n",
       "    <tr>\n",
       "      <th>21138</th>\n",
       "      <td>0610000US5514173475</td>\n",
       "      <td>5514173475</td>\n",
       "      <td>Sherry town, Wood County, Wisconsin</td>\n",
       "      <td>803.0</td>\n",
       "      <td>803</td>\n",
       "      <td>803</td>\n",
       "      <td>815</td>\n",
       "      <td>817</td>\n",
       "      <td>811</td>\n",
       "      <td>800</td>\n",
       "      <td>798</td>\n",
       "      <td>789</td>\n",
       "      <td>Wisconsin</td>\n",
       "      <td>S h e r r y   t o</td>\n",
       "    </tr>\n",
       "    <tr>\n",
       "      <th>21139</th>\n",
       "      <td>0610000US5514173900</td>\n",
       "      <td>5514173900</td>\n",
       "      <td>Sigel town, Wood County, Wisconsin</td>\n",
       "      <td>1051.0</td>\n",
       "      <td>1051</td>\n",
       "      <td>1051</td>\n",
       "      <td>1048</td>\n",
       "      <td>1043</td>\n",
       "      <td>1038</td>\n",
       "      <td>1031</td>\n",
       "      <td>1028</td>\n",
       "      <td>1021</td>\n",
       "      <td>Wisconsin</td>\n",
       "      <td>S i g e l   t o</td>\n",
       "    </tr>\n",
       "    <tr>\n",
       "      <th>21140</th>\n",
       "      <td>0610000US5514182650</td>\n",
       "      <td>5514182650</td>\n",
       "      <td>Vesper village, Wood County, Wisconsin</td>\n",
       "      <td>584.0</td>\n",
       "      <td>584</td>\n",
       "      <td>584</td>\n",
       "      <td>580</td>\n",
       "      <td>575</td>\n",
       "      <td>571</td>\n",
       "      <td>565</td>\n",
       "      <td>558</td>\n",
       "      <td>554</td>\n",
       "      <td>Wisconsin</td>\n",
       "      <td>V e s p e r   v i l l a</td>\n",
       "    </tr>\n",
       "    <tr>\n",
       "      <th>21141</th>\n",
       "      <td>0610000US5514188200</td>\n",
       "      <td>5514188200</td>\n",
       "      <td>Wisconsin Rapids city, Wood County, Wisconsin</td>\n",
       "      <td>18367.0</td>\n",
       "      <td>18385</td>\n",
       "      <td>18376</td>\n",
       "      <td>18315</td>\n",
       "      <td>18201</td>\n",
       "      <td>18037</td>\n",
       "      <td>17958</td>\n",
       "      <td>17862</td>\n",
       "      <td>17887</td>\n",
       "      <td>Wisconsin</td>\n",
       "      <td>W i s c o n s i n   R a p i d s   c i</td>\n",
       "    </tr>\n",
       "    <tr>\n",
       "      <th>21142</th>\n",
       "      <td>0610000US5514188575</td>\n",
       "      <td>5514188575</td>\n",
       "      <td>Wood town, Wood County, Wisconsin</td>\n",
       "      <td>796.0</td>\n",
       "      <td>796</td>\n",
       "      <td>796</td>\n",
       "      <td>791</td>\n",
       "      <td>788</td>\n",
       "      <td>779</td>\n",
       "      <td>769</td>\n",
       "      <td>765</td>\n",
       "      <td>759</td>\n",
       "      <td>Wisconsin</td>\n",
       "      <td>W o o d   t o</td>\n",
       "    </tr>\n",
       "  </tbody>\n",
       "</table>\n",
       "</div>"
      ],
      "text/plain": [
       "                    GEO.id     GEO.id2  \\\n",
       "21138  0610000US5514173475  5514173475   \n",
       "21139  0610000US5514173900  5514173900   \n",
       "21140  0610000US5514182650  5514182650   \n",
       "21141  0610000US5514188200  5514188200   \n",
       "21142  0610000US5514188575  5514188575   \n",
       "\n",
       "                                   GEO.display-label  rescen42010  \\\n",
       "21138            Sherry town, Wood County, Wisconsin        803.0   \n",
       "21139             Sigel town, Wood County, Wisconsin       1051.0   \n",
       "21140         Vesper village, Wood County, Wisconsin        584.0   \n",
       "21141  Wisconsin Rapids city, Wood County, Wisconsin      18367.0   \n",
       "21142              Wood town, Wood County, Wisconsin        796.0   \n",
       "\n",
       "       resbase42010  respop72010  respop72011  respop72012  respop72013  \\\n",
       "21138           803          803          815          817          811   \n",
       "21139          1051         1051         1048         1043         1038   \n",
       "21140           584          584          580          575          571   \n",
       "21141         18385        18376        18315        18201        18037   \n",
       "21142           796          796          791          788          779   \n",
       "\n",
       "       respop72014  respop72015  respop72016      state  \\\n",
       "21138          800          798          789  Wisconsin   \n",
       "21139         1031         1028         1021  Wisconsin   \n",
       "21140          565          558          554  Wisconsin   \n",
       "21141        17958        17862        17887  Wisconsin   \n",
       "21142          769          765          759  Wisconsin   \n",
       "\n",
       "                                        city  \n",
       "21138                      S h e r r y   t o  \n",
       "21139                        S i g e l   t o  \n",
       "21140                V e s p e r   v i l l a  \n",
       "21141  W i s c o n s i n   R a p i d s   c i  \n",
       "21142                          W o o d   t o  "
      ]
     },
     "execution_count": 192,
     "metadata": {},
     "output_type": "execute_result"
    }
   ],
   "source": [
    "# Add the state column from the result to the census dataframe\n",
    "census['state'] = result['state']\n",
    "census.tail()"
   ]
  },
  {
   "cell_type": "code",
   "execution_count": 193,
   "metadata": {},
   "outputs": [
    {
     "data": {
      "text/plain": [
       "array(['Connecticut', 'Illinois', 'Indiana', 'Kansas', 'Maine',\n",
       "       'Massachusetts', 'Michigan', 'Minnesota', 'Missouri', 'Nebraska',\n",
       "       'New Hampshire', 'New Jersey', 'New York', 'North Dakota', 'Ohio',\n",
       "       'Pennsylvania', 'Rhode Island', 'South Dakota', 'Vermont',\n",
       "       'Wisconsin'], dtype=object)"
      ]
     },
     "execution_count": 193,
     "metadata": {},
     "output_type": "execute_result"
    }
   ],
   "source": [
    "# convert state names to abbreviations\n",
    "census['state'].unique()"
   ]
  },
  {
   "cell_type": "code",
   "execution_count": 194,
   "metadata": {},
   "outputs": [
    {
     "data": {
      "text/plain": [
       "0    CT\n",
       "1    CT\n",
       "2    CT\n",
       "3    CT\n",
       "4    CT\n",
       "Name: state, dtype: object"
      ]
     },
     "execution_count": 194,
     "metadata": {},
     "output_type": "execute_result"
    }
   ],
   "source": [
    "state_abbr = dict(zip(census['state'].unique(), ['CT', 'IL', 'IN', 'KS', 'ME', 'MA', 'MI', 'MN', 'MO', 'NE', 'NH', 'NJ', 'NY', 'ND', 'OH', 'PA', 'RI', 'SD', 'VT', 'WI']))\n",
    "census['state'] = census['state'].replace(state_abbr)\n",
    "census['state'].head()"
   ]
  },
  {
   "cell_type": "code",
   "execution_count": 195,
   "metadata": {},
   "outputs": [
    {
     "data": {
      "text/html": [
       "<div>\n",
       "<style scoped>\n",
       "    .dataframe tbody tr th:only-of-type {\n",
       "        vertical-align: middle;\n",
       "    }\n",
       "\n",
       "    .dataframe tbody tr th {\n",
       "        vertical-align: top;\n",
       "    }\n",
       "\n",
       "    .dataframe thead th {\n",
       "        text-align: right;\n",
       "    }\n",
       "</style>\n",
       "<table border=\"1\" class=\"dataframe\">\n",
       "  <thead>\n",
       "    <tr style=\"text-align: right;\">\n",
       "      <th></th>\n",
       "      <th>GEO.id</th>\n",
       "      <th>GEO.id2</th>\n",
       "      <th>GEO.display-label</th>\n",
       "      <th>rescen42010</th>\n",
       "      <th>resbase42010</th>\n",
       "      <th>respop72010</th>\n",
       "      <th>respop72011</th>\n",
       "      <th>respop72012</th>\n",
       "      <th>respop72013</th>\n",
       "      <th>respop72014</th>\n",
       "      <th>respop72015</th>\n",
       "      <th>respop72016</th>\n",
       "      <th>state</th>\n",
       "      <th>city</th>\n",
       "    </tr>\n",
       "  </thead>\n",
       "  <tbody>\n",
       "    <tr>\n",
       "      <th>0</th>\n",
       "      <td>0610000US0900104720</td>\n",
       "      <td>900104720</td>\n",
       "      <td>Bethel town, Fairfield County, Connecticut</td>\n",
       "      <td>18584.0</td>\n",
       "      <td>18584</td>\n",
       "      <td>18642</td>\n",
       "      <td>18942</td>\n",
       "      <td>19150</td>\n",
       "      <td>19267</td>\n",
       "      <td>19316</td>\n",
       "      <td>19463</td>\n",
       "      <td>19627</td>\n",
       "      <td>CT</td>\n",
       "      <td>Bethel town</td>\n",
       "    </tr>\n",
       "    <tr>\n",
       "      <th>1</th>\n",
       "      <td>0610000US0900108070</td>\n",
       "      <td>900108070</td>\n",
       "      <td>Bridgeport town, Fairfield County, Connecticut</td>\n",
       "      <td>144229.0</td>\n",
       "      <td>144236</td>\n",
       "      <td>144912</td>\n",
       "      <td>146226</td>\n",
       "      <td>146962</td>\n",
       "      <td>147666</td>\n",
       "      <td>147560</td>\n",
       "      <td>147090</td>\n",
       "      <td>145936</td>\n",
       "      <td>CT</td>\n",
       "      <td>Bridgeport town</td>\n",
       "    </tr>\n",
       "    <tr>\n",
       "      <th>2</th>\n",
       "      <td>0610000US0900108980</td>\n",
       "      <td>900108980</td>\n",
       "      <td>Brookfield town, Fairfield County, Connecticut</td>\n",
       "      <td>16452.0</td>\n",
       "      <td>16452</td>\n",
       "      <td>16483</td>\n",
       "      <td>16635</td>\n",
       "      <td>16785</td>\n",
       "      <td>16859</td>\n",
       "      <td>17016</td>\n",
       "      <td>17087</td>\n",
       "      <td>17098</td>\n",
       "      <td>CT</td>\n",
       "      <td>Brookfield town</td>\n",
       "    </tr>\n",
       "    <tr>\n",
       "      <th>3</th>\n",
       "      <td>0610000US0900118500</td>\n",
       "      <td>900118500</td>\n",
       "      <td>Danbury town, Fairfield County, Connecticut</td>\n",
       "      <td>80893.0</td>\n",
       "      <td>80903</td>\n",
       "      <td>81356</td>\n",
       "      <td>82182</td>\n",
       "      <td>82788</td>\n",
       "      <td>83678</td>\n",
       "      <td>83687</td>\n",
       "      <td>84236</td>\n",
       "      <td>84992</td>\n",
       "      <td>CT</td>\n",
       "      <td>Danbury town</td>\n",
       "    </tr>\n",
       "    <tr>\n",
       "      <th>4</th>\n",
       "      <td>0610000US0900118850</td>\n",
       "      <td>900118850</td>\n",
       "      <td>Darien town, Fairfield County, Connecticut</td>\n",
       "      <td>20732.0</td>\n",
       "      <td>20732</td>\n",
       "      <td>20777</td>\n",
       "      <td>20975</td>\n",
       "      <td>21127</td>\n",
       "      <td>21342</td>\n",
       "      <td>21641</td>\n",
       "      <td>21718</td>\n",
       "      <td>21744</td>\n",
       "      <td>CT</td>\n",
       "      <td>Darien town</td>\n",
       "    </tr>\n",
       "  </tbody>\n",
       "</table>\n",
       "</div>"
      ],
      "text/plain": [
       "                GEO.id    GEO.id2  \\\n",
       "0  0610000US0900104720  900104720   \n",
       "1  0610000US0900108070  900108070   \n",
       "2  0610000US0900108980  900108980   \n",
       "3  0610000US0900118500  900118500   \n",
       "4  0610000US0900118850  900118850   \n",
       "\n",
       "                                GEO.display-label  rescen42010  resbase42010  \\\n",
       "0      Bethel town, Fairfield County, Connecticut      18584.0         18584   \n",
       "1  Bridgeport town, Fairfield County, Connecticut     144229.0        144236   \n",
       "2  Brookfield town, Fairfield County, Connecticut      16452.0         16452   \n",
       "3     Danbury town, Fairfield County, Connecticut      80893.0         80903   \n",
       "4      Darien town, Fairfield County, Connecticut      20732.0         20732   \n",
       "\n",
       "   respop72010  respop72011  respop72012  respop72013  respop72014  \\\n",
       "0        18642        18942        19150        19267        19316   \n",
       "1       144912       146226       146962       147666       147560   \n",
       "2        16483        16635        16785        16859        17016   \n",
       "3        81356        82182        82788        83678        83687   \n",
       "4        20777        20975        21127        21342        21641   \n",
       "\n",
       "   respop72015  respop72016 state             city  \n",
       "0        19463        19627    CT      Bethel town  \n",
       "1       147090       145936    CT  Bridgeport town  \n",
       "2        17087        17098    CT  Brookfield town  \n",
       "3        84236        84992    CT     Danbury town  \n",
       "4        21718        21744    CT      Darien town  "
      ]
     },
     "execution_count": 195,
     "metadata": {},
     "output_type": "execute_result"
    }
   ],
   "source": [
    "# Add the city from the result dataframe to the census dataframe\n",
    "census['city'] = result['city']\n",
    "census.head()"
   ]
  },
  {
   "cell_type": "code",
   "execution_count": 196,
   "metadata": {},
   "outputs": [
    {
     "data": {
      "text/plain": [
       "0        Bethel\n",
       "1    Bridgeport\n",
       "2    Brookfield\n",
       "3       Danbury\n",
       "4        Darien\n",
       "Name: city, dtype: object"
      ]
     },
     "execution_count": 196,
     "metadata": {},
     "output_type": "execute_result"
    }
   ],
   "source": [
    "# remove last word (e.g. 'city', 'town', township', 'borough', 'village') from city names\n",
    "census['city'] = census['city'].apply(lambda x: ' '.join(x.split(' ')[:-1]))\n",
    "census['city'].head()"
   ]
  },
  {
   "cell_type": "code",
   "execution_count": 198,
   "metadata": {},
   "outputs": [
    {
     "data": {
      "text/html": [
       "<div>\n",
       "<style scoped>\n",
       "    .dataframe tbody tr th:only-of-type {\n",
       "        vertical-align: middle;\n",
       "    }\n",
       "\n",
       "    .dataframe tbody tr th {\n",
       "        vertical-align: top;\n",
       "    }\n",
       "\n",
       "    .dataframe thead th {\n",
       "        text-align: right;\n",
       "    }\n",
       "</style>\n",
       "<table border=\"1\" class=\"dataframe\">\n",
       "  <thead>\n",
       "    <tr style=\"text-align: right;\">\n",
       "      <th></th>\n",
       "      <th>attributes</th>\n",
       "      <th>business_id</th>\n",
       "      <th>categories</th>\n",
       "      <th>city</th>\n",
       "      <th>full_address</th>\n",
       "      <th>hours</th>\n",
       "      <th>latitude</th>\n",
       "      <th>longitude</th>\n",
       "      <th>name</th>\n",
       "      <th>neighborhoods</th>\n",
       "      <th>...</th>\n",
       "      <th>GEO.display-label</th>\n",
       "      <th>rescen42010</th>\n",
       "      <th>resbase42010</th>\n",
       "      <th>respop72010</th>\n",
       "      <th>respop72011</th>\n",
       "      <th>respop72012</th>\n",
       "      <th>respop72013</th>\n",
       "      <th>respop72014</th>\n",
       "      <th>respop72015</th>\n",
       "      <th>respop72016</th>\n",
       "    </tr>\n",
       "  </thead>\n",
       "  <tbody>\n",
       "    <tr>\n",
       "      <th>0</th>\n",
       "      <td>{'Take-out': True, 'Caters': True, 'Attire': '...</td>\n",
       "      <td>HxPpZSY6Q1eARuiahhra6A</td>\n",
       "      <td>[Event Planning &amp; Services, Party &amp; Event Plan...</td>\n",
       "      <td>Middleton</td>\n",
       "      <td>6401 University Ave\\nMiddleton, WI 53562</td>\n",
       "      <td>{}</td>\n",
       "      <td>43.093265</td>\n",
       "      <td>-89.491800</td>\n",
       "      <td>Crandalls Carryout &amp; Catering</td>\n",
       "      <td>[]</td>\n",
       "      <td>...</td>\n",
       "      <td>Middleton city, Dane County, Wisconsin</td>\n",
       "      <td>17442.0</td>\n",
       "      <td>17558</td>\n",
       "      <td>17622</td>\n",
       "      <td>17903</td>\n",
       "      <td>18271</td>\n",
       "      <td>18522</td>\n",
       "      <td>18694</td>\n",
       "      <td>18955</td>\n",
       "      <td>19109</td>\n",
       "    </tr>\n",
       "    <tr>\n",
       "      <th>1</th>\n",
       "      <td>{'Take-out': True, 'Caters': True, 'Attire': '...</td>\n",
       "      <td>HxPpZSY6Q1eARuiahhra6A</td>\n",
       "      <td>[Event Planning &amp; Services, Party &amp; Event Plan...</td>\n",
       "      <td>Middleton</td>\n",
       "      <td>6401 University Ave\\nMiddleton, WI 53562</td>\n",
       "      <td>{}</td>\n",
       "      <td>43.093265</td>\n",
       "      <td>-89.491800</td>\n",
       "      <td>Crandalls Carryout &amp; Catering</td>\n",
       "      <td>[]</td>\n",
       "      <td>...</td>\n",
       "      <td>Middleton town, Dane County, Wisconsin</td>\n",
       "      <td>5877.0</td>\n",
       "      <td>5831</td>\n",
       "      <td>5845</td>\n",
       "      <td>5943</td>\n",
       "      <td>6030</td>\n",
       "      <td>6086</td>\n",
       "      <td>6140</td>\n",
       "      <td>6179</td>\n",
       "      <td>6257</td>\n",
       "    </tr>\n",
       "    <tr>\n",
       "      <th>2</th>\n",
       "      <td>{'Take-out': True, 'Good For': {'dessert': Fal...</td>\n",
       "      <td>SKLw05kEIlZcpTD5pqma8Q</td>\n",
       "      <td>[Party &amp; Event Planning, Asian Fusion, Event P...</td>\n",
       "      <td>Middleton</td>\n",
       "      <td>2039 Allen Blvd\\nMiddleton, WI 53562</td>\n",
       "      <td>{'Monday': {'close': '14:00', 'open': '11:00'}...</td>\n",
       "      <td>43.090642</td>\n",
       "      <td>-89.485169</td>\n",
       "      <td>Imperial Garden Chinese Restaurant</td>\n",
       "      <td>[]</td>\n",
       "      <td>...</td>\n",
       "      <td>Middleton city, Dane County, Wisconsin</td>\n",
       "      <td>17442.0</td>\n",
       "      <td>17558</td>\n",
       "      <td>17622</td>\n",
       "      <td>17903</td>\n",
       "      <td>18271</td>\n",
       "      <td>18522</td>\n",
       "      <td>18694</td>\n",
       "      <td>18955</td>\n",
       "      <td>19109</td>\n",
       "    </tr>\n",
       "  </tbody>\n",
       "</table>\n",
       "<p>3 rows × 28 columns</p>\n",
       "</div>"
      ],
      "text/plain": [
       "                                          attributes             business_id  \\\n",
       "0  {'Take-out': True, 'Caters': True, 'Attire': '...  HxPpZSY6Q1eARuiahhra6A   \n",
       "1  {'Take-out': True, 'Caters': True, 'Attire': '...  HxPpZSY6Q1eARuiahhra6A   \n",
       "2  {'Take-out': True, 'Good For': {'dessert': Fal...  SKLw05kEIlZcpTD5pqma8Q   \n",
       "\n",
       "                                          categories       city  \\\n",
       "0  [Event Planning & Services, Party & Event Plan...  Middleton   \n",
       "1  [Event Planning & Services, Party & Event Plan...  Middleton   \n",
       "2  [Party & Event Planning, Asian Fusion, Event P...  Middleton   \n",
       "\n",
       "                               full_address  \\\n",
       "0  6401 University Ave\\nMiddleton, WI 53562   \n",
       "1  6401 University Ave\\nMiddleton, WI 53562   \n",
       "2      2039 Allen Blvd\\nMiddleton, WI 53562   \n",
       "\n",
       "                                               hours   latitude  longitude  \\\n",
       "0                                                 {}  43.093265 -89.491800   \n",
       "1                                                 {}  43.093265 -89.491800   \n",
       "2  {'Monday': {'close': '14:00', 'open': '11:00'}...  43.090642 -89.485169   \n",
       "\n",
       "                                 name neighborhoods  ...  \\\n",
       "0       Crandalls Carryout & Catering            []  ...   \n",
       "1       Crandalls Carryout & Catering            []  ...   \n",
       "2  Imperial Garden Chinese Restaurant            []  ...   \n",
       "\n",
       "                        GEO.display-label  rescen42010  resbase42010  \\\n",
       "0  Middleton city, Dane County, Wisconsin      17442.0         17558   \n",
       "1  Middleton town, Dane County, Wisconsin       5877.0          5831   \n",
       "2  Middleton city, Dane County, Wisconsin      17442.0         17558   \n",
       "\n",
       "  respop72010 respop72011 respop72012 respop72013  respop72014 respop72015  \\\n",
       "0       17622       17903       18271       18522        18694       18955   \n",
       "1        5845        5943        6030        6086         6140        6179   \n",
       "2       17622       17903       18271       18522        18694       18955   \n",
       "\n",
       "   respop72016  \n",
       "0        19109  \n",
       "1         6257  \n",
       "2        19109  \n",
       "\n",
       "[3 rows x 28 columns]"
      ]
     },
     "execution_count": 198,
     "metadata": {},
     "output_type": "execute_result"
    }
   ],
   "source": [
    "# Join yelp data frame to the census data frame. Use city and state fields to merge the dataframes\n",
    "merged_df = yelp_df.merge(census, on = ['state', 'city'])\n",
    "merged_df.head(3)"
   ]
  },
  {
   "cell_type": "code",
   "execution_count": 199,
   "metadata": {},
   "outputs": [
    {
     "data": {
      "text/plain": [
       "0    WI\n",
       "1    WI\n",
       "2    WI\n",
       "3    WI\n",
       "4    WI\n",
       "Name: state, dtype: object"
      ]
     },
     "execution_count": 199,
     "metadata": {},
     "output_type": "execute_result"
    }
   ],
   "source": [
    "merged_df['state'].head()"
   ]
  },
  {
   "cell_type": "code",
   "execution_count": 202,
   "metadata": {},
   "outputs": [
    {
     "data": {
      "text/plain": [
       "(37938, 3598)"
      ]
     },
     "execution_count": 202,
     "metadata": {},
     "output_type": "execute_result"
    }
   ],
   "source": [
    "len(yelp_df), len(merged_df)"
   ]
  },
  {
   "cell_type": "markdown",
   "metadata": {},
   "source": [
    "The `merge` function looks through the `'state'` and `'city'` columns of `yelp_df` and `census` and tries to match up rows that share values. When a match is found, the rows are combined. What happens when a match is not found? We can imagine four scenarios:  \n",
    "\n",
    "1. We only keep rows from `yelp_df` and `census` if they match. Any rows from either table that have no match are discarded. This is called an _inner join_.  \n",
    "\n",
    "2. We keep all rows from `yelp_df` and `census`, even if they have no match. In this case, when a row in `yelp_df` has no match in `census`, all the columns from `census` are merged in with null values. When a row in `census` has no match in `yelp_df`, all the columns from `yelp_df` are merged in with null values. This is called an _outer join_.\n",
    "\n",
    "3. We privilege the `yelp_df` data. If a row in `yelp_df` has no match in `census`, we keep it and fill in the missing `census` columns as null values. If a row in `census` has no match in `yelp_df`, we discard it. This is called a _left join_.\n",
    "\n",
    "4. We privilege the `census` data. This is called a _right join_.\n",
    "\n",
    "The default behavior for Pandas is case #1, the _inner join_. This means if there are cities in `yelp_df` that we don't have matching `census` data for, they are dropped. Therefore, `merged_df` might be smaller than `yelp_df`."
   ]
  },
  {
   "cell_type": "markdown",
   "metadata": {},
   "source": [
    "There are a lot of cities in `yelp_df` that aren't in `census`! We might want to keep these rows, but we don't need any census data where there are no businesses. Then we should use a _left join_."
   ]
  },
  {
   "cell_type": "code",
   "execution_count": 203,
   "metadata": {},
   "outputs": [
    {
     "name": "stdout",
     "output_type": "stream",
     "text": [
      "(37938, 16)\n",
      "(39648, 28)\n"
     ]
    }
   ],
   "source": [
    "merged_df = yelp_df.merge(census, on=['state', 'city'], how='left')\n",
    "print(yelp_df.shape)\n",
    "print(merged_df.shape)"
   ]
  },
  {
   "cell_type": "markdown",
   "metadata": {},
   "source": [
    "Sometimes we don't need to merge together the columns of separate data sets, but just need to add more rows. For example, the New York City subway system [releases data about how many customers enter and exit the station each week](http://web.mta.info/developers/turnstile.html). Each weekly data set has the same columns, so if we want multiple weeks of data, we just have to append one week to another."
   ]
  },
  {
   "cell_type": "code",
   "execution_count": 204,
   "metadata": {},
   "outputs": [],
   "source": [
    "nov18_2017 = pd.read_csv('http://web.mta.info/developers/data/nyct/turnstile/turnstile_171118.txt')\n",
    "nov11_2017 = pd.read_csv('http://web.mta.info/developers/data/nyct/turnstile/turnstile_171111.txt')"
   ]
  },
  {
   "cell_type": "code",
   "execution_count": 205,
   "metadata": {},
   "outputs": [
    {
     "data": {
      "text/html": [
       "<div>\n",
       "<style scoped>\n",
       "    .dataframe tbody tr th:only-of-type {\n",
       "        vertical-align: middle;\n",
       "    }\n",
       "\n",
       "    .dataframe tbody tr th {\n",
       "        vertical-align: top;\n",
       "    }\n",
       "\n",
       "    .dataframe thead th {\n",
       "        text-align: right;\n",
       "    }\n",
       "</style>\n",
       "<table border=\"1\" class=\"dataframe\">\n",
       "  <thead>\n",
       "    <tr style=\"text-align: right;\">\n",
       "      <th></th>\n",
       "      <th>C/A</th>\n",
       "      <th>UNIT</th>\n",
       "      <th>SCP</th>\n",
       "      <th>STATION</th>\n",
       "      <th>LINENAME</th>\n",
       "      <th>DIVISION</th>\n",
       "      <th>DATE</th>\n",
       "      <th>TIME</th>\n",
       "      <th>DESC</th>\n",
       "      <th>ENTRIES</th>\n",
       "      <th>EXITS</th>\n",
       "    </tr>\n",
       "  </thead>\n",
       "  <tbody>\n",
       "    <tr>\n",
       "      <th>0</th>\n",
       "      <td>A002</td>\n",
       "      <td>R051</td>\n",
       "      <td>02-00-00</td>\n",
       "      <td>59 ST</td>\n",
       "      <td>NQR456W</td>\n",
       "      <td>BMT</td>\n",
       "      <td>11/11/2017</td>\n",
       "      <td>03:00:00</td>\n",
       "      <td>REGULAR</td>\n",
       "      <td>6402636</td>\n",
       "      <td>2166100</td>\n",
       "    </tr>\n",
       "    <tr>\n",
       "      <th>1</th>\n",
       "      <td>A002</td>\n",
       "      <td>R051</td>\n",
       "      <td>02-00-00</td>\n",
       "      <td>59 ST</td>\n",
       "      <td>NQR456W</td>\n",
       "      <td>BMT</td>\n",
       "      <td>11/11/2017</td>\n",
       "      <td>07:00:00</td>\n",
       "      <td>REGULAR</td>\n",
       "      <td>6402645</td>\n",
       "      <td>2166112</td>\n",
       "    </tr>\n",
       "    <tr>\n",
       "      <th>2</th>\n",
       "      <td>A002</td>\n",
       "      <td>R051</td>\n",
       "      <td>02-00-00</td>\n",
       "      <td>59 ST</td>\n",
       "      <td>NQR456W</td>\n",
       "      <td>BMT</td>\n",
       "      <td>11/11/2017</td>\n",
       "      <td>11:00:00</td>\n",
       "      <td>REGULAR</td>\n",
       "      <td>6402717</td>\n",
       "      <td>2166175</td>\n",
       "    </tr>\n",
       "    <tr>\n",
       "      <th>3</th>\n",
       "      <td>A002</td>\n",
       "      <td>R051</td>\n",
       "      <td>02-00-00</td>\n",
       "      <td>59 ST</td>\n",
       "      <td>NQR456W</td>\n",
       "      <td>BMT</td>\n",
       "      <td>11/11/2017</td>\n",
       "      <td>15:00:00</td>\n",
       "      <td>REGULAR</td>\n",
       "      <td>6402857</td>\n",
       "      <td>2166230</td>\n",
       "    </tr>\n",
       "    <tr>\n",
       "      <th>4</th>\n",
       "      <td>A002</td>\n",
       "      <td>R051</td>\n",
       "      <td>02-00-00</td>\n",
       "      <td>59 ST</td>\n",
       "      <td>NQR456W</td>\n",
       "      <td>BMT</td>\n",
       "      <td>11/11/2017</td>\n",
       "      <td>19:00:00</td>\n",
       "      <td>REGULAR</td>\n",
       "      <td>6403178</td>\n",
       "      <td>2166292</td>\n",
       "    </tr>\n",
       "  </tbody>\n",
       "</table>\n",
       "</div>"
      ],
      "text/plain": [
       "    C/A  UNIT       SCP STATION LINENAME DIVISION        DATE      TIME  \\\n",
       "0  A002  R051  02-00-00   59 ST  NQR456W      BMT  11/11/2017  03:00:00   \n",
       "1  A002  R051  02-00-00   59 ST  NQR456W      BMT  11/11/2017  07:00:00   \n",
       "2  A002  R051  02-00-00   59 ST  NQR456W      BMT  11/11/2017  11:00:00   \n",
       "3  A002  R051  02-00-00   59 ST  NQR456W      BMT  11/11/2017  15:00:00   \n",
       "4  A002  R051  02-00-00   59 ST  NQR456W      BMT  11/11/2017  19:00:00   \n",
       "\n",
       "      DESC  ENTRIES  \\\n",
       "0  REGULAR  6402636   \n",
       "1  REGULAR  6402645   \n",
       "2  REGULAR  6402717   \n",
       "3  REGULAR  6402857   \n",
       "4  REGULAR  6403178   \n",
       "\n",
       "   EXITS                                                                 \n",
       "0                                            2166100                     \n",
       "1                                            2166112                     \n",
       "2                                            2166175                     \n",
       "3                                            2166230                     \n",
       "4                                            2166292                     "
      ]
     },
     "execution_count": 205,
     "metadata": {},
     "output_type": "execute_result"
    }
   ],
   "source": [
    "nov18_2017.head()"
   ]
  },
  {
   "cell_type": "code",
   "execution_count": 206,
   "metadata": {},
   "outputs": [
    {
     "data": {
      "text/html": [
       "<div>\n",
       "<style scoped>\n",
       "    .dataframe tbody tr th:only-of-type {\n",
       "        vertical-align: middle;\n",
       "    }\n",
       "\n",
       "    .dataframe tbody tr th {\n",
       "        vertical-align: top;\n",
       "    }\n",
       "\n",
       "    .dataframe thead th {\n",
       "        text-align: right;\n",
       "    }\n",
       "</style>\n",
       "<table border=\"1\" class=\"dataframe\">\n",
       "  <thead>\n",
       "    <tr style=\"text-align: right;\">\n",
       "      <th></th>\n",
       "      <th>C/A</th>\n",
       "      <th>UNIT</th>\n",
       "      <th>SCP</th>\n",
       "      <th>STATION</th>\n",
       "      <th>LINENAME</th>\n",
       "      <th>DIVISION</th>\n",
       "      <th>DATE</th>\n",
       "      <th>TIME</th>\n",
       "      <th>DESC</th>\n",
       "      <th>ENTRIES</th>\n",
       "      <th>EXITS</th>\n",
       "    </tr>\n",
       "  </thead>\n",
       "  <tbody>\n",
       "    <tr>\n",
       "      <th>0</th>\n",
       "      <td>A002</td>\n",
       "      <td>R051</td>\n",
       "      <td>02-00-00</td>\n",
       "      <td>59 ST</td>\n",
       "      <td>NQR456W</td>\n",
       "      <td>BMT</td>\n",
       "      <td>11/04/2017</td>\n",
       "      <td>00:00:00</td>\n",
       "      <td>REGULAR</td>\n",
       "      <td>6393563.0</td>\n",
       "      <td>2162811.0</td>\n",
       "    </tr>\n",
       "    <tr>\n",
       "      <th>1</th>\n",
       "      <td>A002</td>\n",
       "      <td>R051</td>\n",
       "      <td>02-00-00</td>\n",
       "      <td>59 ST</td>\n",
       "      <td>NQR456W</td>\n",
       "      <td>BMT</td>\n",
       "      <td>11/04/2017</td>\n",
       "      <td>04:00:00</td>\n",
       "      <td>REGULAR</td>\n",
       "      <td>6393595.0</td>\n",
       "      <td>2162822.0</td>\n",
       "    </tr>\n",
       "    <tr>\n",
       "      <th>2</th>\n",
       "      <td>A002</td>\n",
       "      <td>R051</td>\n",
       "      <td>02-00-00</td>\n",
       "      <td>59 ST</td>\n",
       "      <td>NQR456W</td>\n",
       "      <td>BMT</td>\n",
       "      <td>11/04/2017</td>\n",
       "      <td>08:00:00</td>\n",
       "      <td>REGULAR</td>\n",
       "      <td>6393616.0</td>\n",
       "      <td>2162855.0</td>\n",
       "    </tr>\n",
       "    <tr>\n",
       "      <th>3</th>\n",
       "      <td>A002</td>\n",
       "      <td>R051</td>\n",
       "      <td>02-00-00</td>\n",
       "      <td>59 ST</td>\n",
       "      <td>NQR456W</td>\n",
       "      <td>BMT</td>\n",
       "      <td>11/04/2017</td>\n",
       "      <td>12:00:00</td>\n",
       "      <td>REGULAR</td>\n",
       "      <td>6393742.0</td>\n",
       "      <td>2162933.0</td>\n",
       "    </tr>\n",
       "    <tr>\n",
       "      <th>4</th>\n",
       "      <td>A002</td>\n",
       "      <td>R051</td>\n",
       "      <td>02-00-00</td>\n",
       "      <td>59 ST</td>\n",
       "      <td>NQR456W</td>\n",
       "      <td>BMT</td>\n",
       "      <td>11/04/2017</td>\n",
       "      <td>16:00:00</td>\n",
       "      <td>REGULAR</td>\n",
       "      <td>6394021.0</td>\n",
       "      <td>2162992.0</td>\n",
       "    </tr>\n",
       "  </tbody>\n",
       "</table>\n",
       "</div>"
      ],
      "text/plain": [
       "    C/A  UNIT       SCP STATION LINENAME DIVISION        DATE      TIME  \\\n",
       "0  A002  R051  02-00-00   59 ST  NQR456W      BMT  11/04/2017  00:00:00   \n",
       "1  A002  R051  02-00-00   59 ST  NQR456W      BMT  11/04/2017  04:00:00   \n",
       "2  A002  R051  02-00-00   59 ST  NQR456W      BMT  11/04/2017  08:00:00   \n",
       "3  A002  R051  02-00-00   59 ST  NQR456W      BMT  11/04/2017  12:00:00   \n",
       "4  A002  R051  02-00-00   59 ST  NQR456W      BMT  11/04/2017  16:00:00   \n",
       "\n",
       "      DESC    ENTRIES  \\\n",
       "0  REGULAR  6393563.0   \n",
       "1  REGULAR  6393595.0   \n",
       "2  REGULAR  6393616.0   \n",
       "3  REGULAR  6393742.0   \n",
       "4  REGULAR  6394021.0   \n",
       "\n",
       "   EXITS                                                                 \n",
       "0                                          2162811.0                     \n",
       "1                                          2162822.0                     \n",
       "2                                          2162855.0                     \n",
       "3                                          2162933.0                     \n",
       "4                                          2162992.0                     "
      ]
     },
     "execution_count": 206,
     "metadata": {},
     "output_type": "execute_result"
    }
   ],
   "source": [
    "nov11_2017.head()"
   ]
  },
  {
   "cell_type": "code",
   "execution_count": 208,
   "metadata": {},
   "outputs": [
    {
     "data": {
      "text/plain": [
       "array(['11/11/2017', '11/12/2017', '11/13/2017', '11/14/2017',\n",
       "       '11/15/2017', '11/16/2017', '11/17/2017', '11/04/2017',\n",
       "       '11/05/2017', '11/06/2017', '11/07/2017', '11/08/2017',\n",
       "       '11/09/2017', '11/10/2017', nan], dtype=object)"
      ]
     },
     "execution_count": 208,
     "metadata": {},
     "output_type": "execute_result"
    }
   ],
   "source": [
    "# Append the above two dataframes\n",
    "nov = pd.concat([nov18_2017, nov11_2017])\n",
    "nov['DATE'].unique()"
   ]
  },
  {
   "cell_type": "markdown",
   "metadata": {},
   "source": [
    "We can also use `concat` to perform inner and outer joins based on index. For example, we can perform some data aggregation and then join the results onto the original DataFrame."
   ]
  },
  {
   "cell_type": "code",
   "execution_count": 209,
   "metadata": {},
   "outputs": [
    {
     "data": {
      "text/plain": [
       "city\n",
       "Ahwatukee           8\n",
       "Anthem             55\n",
       "Apache Junction    80\n",
       "Arcadia             1\n",
       "Atlanta             1\n",
       "Name: city_counts, dtype: int64"
      ]
     },
     "execution_count": 209,
     "metadata": {},
     "output_type": "execute_result"
    }
   ],
   "source": [
    "city_counts = yelp_df.groupby('city')['business_id'].count().rename('city_counts')\n",
    "city_counts.head()"
   ]
  },
  {
   "cell_type": "code",
   "execution_count": 210,
   "metadata": {},
   "outputs": [
    {
     "data": {
      "text/plain": [
       "pandas.core.series.Series"
      ]
     },
     "execution_count": 210,
     "metadata": {},
     "output_type": "execute_result"
    }
   ],
   "source": [
    "type(city_counts)"
   ]
  },
  {
   "cell_type": "code",
   "execution_count": 211,
   "metadata": {},
   "outputs": [
    {
     "data": {
      "text/html": [
       "<div>\n",
       "<style scoped>\n",
       "    .dataframe tbody tr th:only-of-type {\n",
       "        vertical-align: middle;\n",
       "    }\n",
       "\n",
       "    .dataframe tbody tr th {\n",
       "        vertical-align: top;\n",
       "    }\n",
       "\n",
       "    .dataframe thead th {\n",
       "        text-align: right;\n",
       "    }\n",
       "</style>\n",
       "<table border=\"1\" class=\"dataframe\">\n",
       "  <thead>\n",
       "    <tr style=\"text-align: right;\">\n",
       "      <th></th>\n",
       "      <th>city</th>\n",
       "      <th>attributes</th>\n",
       "      <th>business_id</th>\n",
       "      <th>categories</th>\n",
       "      <th>full_address</th>\n",
       "      <th>hours</th>\n",
       "      <th>latitude</th>\n",
       "      <th>longitude</th>\n",
       "      <th>name</th>\n",
       "      <th>neighborhoods</th>\n",
       "      <th>open</th>\n",
       "      <th>review_count</th>\n",
       "      <th>stars</th>\n",
       "      <th>state</th>\n",
       "      <th>type</th>\n",
       "      <th>delivery</th>\n",
       "      <th>city_counts</th>\n",
       "    </tr>\n",
       "  </thead>\n",
       "  <tbody>\n",
       "    <tr>\n",
       "      <th>0</th>\n",
       "      <td>Phoenix</td>\n",
       "      <td>{'By Appointment Only': True}</td>\n",
       "      <td>vcNAWiLM4dR7D2nwwJ7nCA</td>\n",
       "      <td>[Doctors, Health &amp; Medical]</td>\n",
       "      <td>4840 E Indian School Rd\\nSte 101\\nPhoenix, AZ ...</td>\n",
       "      <td>{'Tuesday': {'close': '17:00', 'open': '08:00'...</td>\n",
       "      <td>33.499313</td>\n",
       "      <td>-111.983758</td>\n",
       "      <td>Eric Goldberg, MD</td>\n",
       "      <td>[]</td>\n",
       "      <td>True</td>\n",
       "      <td>7</td>\n",
       "      <td>3.5</td>\n",
       "      <td>AZ</td>\n",
       "      <td>business</td>\n",
       "      <td>None</td>\n",
       "      <td>6715</td>\n",
       "    </tr>\n",
       "    <tr>\n",
       "      <th>1</th>\n",
       "      <td>De Forest</td>\n",
       "      <td>{'Take-out': True, 'Good For': {'dessert': Fal...</td>\n",
       "      <td>JwUE5GmEO-sH1FuwJgKBlQ</td>\n",
       "      <td>[Restaurants]</td>\n",
       "      <td>6162 US Highway 51\\nDe Forest, WI 53532</td>\n",
       "      <td>{}</td>\n",
       "      <td>43.238893</td>\n",
       "      <td>-89.335844</td>\n",
       "      <td>Pine Cone Restaurant</td>\n",
       "      <td>[]</td>\n",
       "      <td>True</td>\n",
       "      <td>26</td>\n",
       "      <td>4.0</td>\n",
       "      <td>WI</td>\n",
       "      <td>business</td>\n",
       "      <td>False</td>\n",
       "      <td>6</td>\n",
       "    </tr>\n",
       "    <tr>\n",
       "      <th>2</th>\n",
       "      <td>De Forest</td>\n",
       "      <td>{'Take-out': True, 'Good For': {'dessert': Fal...</td>\n",
       "      <td>uGykseHzyS5xAMWoN6YUqA</td>\n",
       "      <td>[American (Traditional), Restaurants]</td>\n",
       "      <td>505 W North St\\nDe Forest, WI 53532</td>\n",
       "      <td>{'Monday': {'close': '22:00', 'open': '06:00'}...</td>\n",
       "      <td>43.252267</td>\n",
       "      <td>-89.353437</td>\n",
       "      <td>Deforest Family Restaurant</td>\n",
       "      <td>[]</td>\n",
       "      <td>True</td>\n",
       "      <td>16</td>\n",
       "      <td>4.0</td>\n",
       "      <td>WI</td>\n",
       "      <td>business</td>\n",
       "      <td>False</td>\n",
       "      <td>6</td>\n",
       "    </tr>\n",
       "    <tr>\n",
       "      <th>3</th>\n",
       "      <td>De Forest</td>\n",
       "      <td>{'Take-out': True, 'Wi-Fi': 'free', 'Takes Res...</td>\n",
       "      <td>LRKJF43s9-3jG9Lgx4zODg</td>\n",
       "      <td>[Food, Ice Cream &amp; Frozen Yogurt, Fast Food, R...</td>\n",
       "      <td>4910 County Rd V\\nDe Forest, WI 53532</td>\n",
       "      <td>{'Monday': {'close': '22:00', 'open': '10:30'}...</td>\n",
       "      <td>43.251045</td>\n",
       "      <td>-89.374983</td>\n",
       "      <td>Culver's</td>\n",
       "      <td>[]</td>\n",
       "      <td>True</td>\n",
       "      <td>7</td>\n",
       "      <td>4.5</td>\n",
       "      <td>WI</td>\n",
       "      <td>business</td>\n",
       "      <td>False</td>\n",
       "      <td>6</td>\n",
       "    </tr>\n",
       "    <tr>\n",
       "      <th>4</th>\n",
       "      <td>De Forest</td>\n",
       "      <td>{'Take-out': True, 'Has TV': False, 'Outdoor S...</td>\n",
       "      <td>RgDg-k9S5YD_BaxMckifkg</td>\n",
       "      <td>[Chinese, Restaurants]</td>\n",
       "      <td>631 S Main St\\nDe Forest, WI 53532</td>\n",
       "      <td>{'Monday': {'close': '22:00', 'open': '11:00'}...</td>\n",
       "      <td>43.240875</td>\n",
       "      <td>-89.343722</td>\n",
       "      <td>Chang Jiang Chinese Kitchen</td>\n",
       "      <td>[]</td>\n",
       "      <td>True</td>\n",
       "      <td>3</td>\n",
       "      <td>4.0</td>\n",
       "      <td>WI</td>\n",
       "      <td>business</td>\n",
       "      <td>None</td>\n",
       "      <td>6</td>\n",
       "    </tr>\n",
       "  </tbody>\n",
       "</table>\n",
       "</div>"
      ],
      "text/plain": [
       "        city                                         attributes  \\\n",
       "0    Phoenix                      {'By Appointment Only': True}   \n",
       "1  De Forest  {'Take-out': True, 'Good For': {'dessert': Fal...   \n",
       "2  De Forest  {'Take-out': True, 'Good For': {'dessert': Fal...   \n",
       "3  De Forest  {'Take-out': True, 'Wi-Fi': 'free', 'Takes Res...   \n",
       "4  De Forest  {'Take-out': True, 'Has TV': False, 'Outdoor S...   \n",
       "\n",
       "              business_id                                         categories  \\\n",
       "0  vcNAWiLM4dR7D2nwwJ7nCA                        [Doctors, Health & Medical]   \n",
       "1  JwUE5GmEO-sH1FuwJgKBlQ                                      [Restaurants]   \n",
       "2  uGykseHzyS5xAMWoN6YUqA              [American (Traditional), Restaurants]   \n",
       "3  LRKJF43s9-3jG9Lgx4zODg  [Food, Ice Cream & Frozen Yogurt, Fast Food, R...   \n",
       "4  RgDg-k9S5YD_BaxMckifkg                             [Chinese, Restaurants]   \n",
       "\n",
       "                                        full_address  \\\n",
       "0  4840 E Indian School Rd\\nSte 101\\nPhoenix, AZ ...   \n",
       "1            6162 US Highway 51\\nDe Forest, WI 53532   \n",
       "2                505 W North St\\nDe Forest, WI 53532   \n",
       "3              4910 County Rd V\\nDe Forest, WI 53532   \n",
       "4                 631 S Main St\\nDe Forest, WI 53532   \n",
       "\n",
       "                                               hours   latitude   longitude  \\\n",
       "0  {'Tuesday': {'close': '17:00', 'open': '08:00'...  33.499313 -111.983758   \n",
       "1                                                 {}  43.238893  -89.335844   \n",
       "2  {'Monday': {'close': '22:00', 'open': '06:00'}...  43.252267  -89.353437   \n",
       "3  {'Monday': {'close': '22:00', 'open': '10:30'}...  43.251045  -89.374983   \n",
       "4  {'Monday': {'close': '22:00', 'open': '11:00'}...  43.240875  -89.343722   \n",
       "\n",
       "                          name neighborhoods  open  review_count  stars state  \\\n",
       "0            Eric Goldberg, MD            []  True             7    3.5    AZ   \n",
       "1         Pine Cone Restaurant            []  True            26    4.0    WI   \n",
       "2   Deforest Family Restaurant            []  True            16    4.0    WI   \n",
       "3                     Culver's            []  True             7    4.5    WI   \n",
       "4  Chang Jiang Chinese Kitchen            []  True             3    4.0    WI   \n",
       "\n",
       "       type delivery  city_counts  \n",
       "0  business     None         6715  \n",
       "1  business    False            6  \n",
       "2  business    False            6  \n",
       "3  business    False            6  \n",
       "4  business     None            6  "
      ]
     },
     "execution_count": 211,
     "metadata": {},
     "output_type": "execute_result"
    }
   ],
   "source": [
    "pd.concat([yelp_df.set_index('city'), city_counts], axis=1, join='inner').reset_index().head()"
   ]
  },
  {
   "cell_type": "markdown",
   "metadata": {},
   "source": [
    "Pandas provides [extensive documentation](https://pandas.pydata.org/pandas-docs/stable/merging.html) with diagrammed examples on different methods and approaches for joining data."
   ]
  },
  {
   "cell_type": "markdown",
   "metadata": {},
   "source": [
    "## Working with Time Series "
   ]
  },
  {
   "cell_type": "code",
   "execution_count": 212,
   "metadata": {},
   "outputs": [
    {
     "data": {
      "text/html": [
       "<div>\n",
       "<style scoped>\n",
       "    .dataframe tbody tr th:only-of-type {\n",
       "        vertical-align: middle;\n",
       "    }\n",
       "\n",
       "    .dataframe tbody tr th {\n",
       "        vertical-align: top;\n",
       "    }\n",
       "\n",
       "    .dataframe thead th {\n",
       "        text-align: right;\n",
       "    }\n",
       "</style>\n",
       "<table border=\"1\" class=\"dataframe\">\n",
       "  <thead>\n",
       "    <tr style=\"text-align: right;\">\n",
       "      <th></th>\n",
       "      <th>Year</th>\n",
       "      <th>Population</th>\n",
       "      <th>Annual Growth Rate (%)</th>\n",
       "      <th>Annual Population Change</th>\n",
       "    </tr>\n",
       "  </thead>\n",
       "  <tbody>\n",
       "    <tr>\n",
       "      <th>0</th>\n",
       "      <td>1950-01-01</td>\n",
       "      <td>2.557629e+09</td>\n",
       "      <td>1.459</td>\n",
       "      <td>37311223.0</td>\n",
       "    </tr>\n",
       "    <tr>\n",
       "      <th>1</th>\n",
       "      <td>1951-01-01</td>\n",
       "      <td>2.594940e+09</td>\n",
       "      <td>1.612</td>\n",
       "      <td>41832429.0</td>\n",
       "    </tr>\n",
       "    <tr>\n",
       "      <th>2</th>\n",
       "      <td>1952-01-01</td>\n",
       "      <td>2.636772e+09</td>\n",
       "      <td>1.717</td>\n",
       "      <td>45281083.0</td>\n",
       "    </tr>\n",
       "    <tr>\n",
       "      <th>3</th>\n",
       "      <td>1953-01-01</td>\n",
       "      <td>2.682053e+09</td>\n",
       "      <td>1.796</td>\n",
       "      <td>48174715.0</td>\n",
       "    </tr>\n",
       "    <tr>\n",
       "      <th>4</th>\n",
       "      <td>1954-01-01</td>\n",
       "      <td>2.730228e+09</td>\n",
       "      <td>1.900</td>\n",
       "      <td>51870839.0</td>\n",
       "    </tr>\n",
       "  </tbody>\n",
       "</table>\n",
       "</div>"
      ],
      "text/plain": [
       "        Year    Population  Annual Growth Rate (%)  Annual Population Change\n",
       "0 1950-01-01  2.557629e+09                   1.459                37311223.0\n",
       "1 1951-01-01  2.594940e+09                   1.612                41832429.0\n",
       "2 1952-01-01  2.636772e+09                   1.717                45281083.0\n",
       "3 1953-01-01  2.682053e+09                   1.796                48174715.0\n",
       "4 1954-01-01  2.730228e+09                   1.900                51870839.0"
      ]
     },
     "execution_count": 212,
     "metadata": {},
     "output_type": "execute_result"
    }
   ],
   "source": [
    "# Data were extracted from the following website. Look at the page source!\n",
    "pop_growth = pd.read_html('https://web.archive.org/web/20170127165708/https://www.census.gov/population/international/data/worldpop/table_population.php', attrs={'class': 'query_table'}, parse_dates=[0])[0]\n",
    "pop_growth.dropna(inplace = True)\n",
    "pop_growth.head()"
   ]
  },
  {
   "cell_type": "markdown",
   "metadata": {},
   "source": [
    "Population growth is calculated using the following formula:\n",
    "\n",
    "$$r(t) = [ ( P(t+1) - P(t) ) / P(t) ] * 100$$\n",
    "\n",
    "Where: \n",
    "<p style=\"text-align: center;\">\n",
    "t = year <br/>\n",
    "r(t) = growth rate from midyear t to midyear t+1 <br/>\n",
    "P(t) = population at midyear t\n",
    "</p>"
   ]
  },
  {
   "cell_type": "markdown",
   "metadata": {},
   "source": [
    "By setting the `'Year'` column to the index, we can easily aggregate data by date using the `resample` method. The `resample` method allows us to decrease or increase the sampling frequency of our data. For instance, maybe instead of yearly data, we want to see average quantities for each decade."
   ]
  },
  {
   "cell_type": "code",
   "execution_count": 213,
   "metadata": {},
   "outputs": [],
   "source": [
    "pop_growth.set_index('Year', inplace=True)"
   ]
  },
  {
   "cell_type": "code",
   "execution_count": 215,
   "metadata": {},
   "outputs": [
    {
     "data": {
      "text/html": [
       "<div>\n",
       "<style scoped>\n",
       "    .dataframe tbody tr th:only-of-type {\n",
       "        vertical-align: middle;\n",
       "    }\n",
       "\n",
       "    .dataframe tbody tr th {\n",
       "        vertical-align: top;\n",
       "    }\n",
       "\n",
       "    .dataframe thead th {\n",
       "        text-align: right;\n",
       "    }\n",
       "</style>\n",
       "<table border=\"1\" class=\"dataframe\">\n",
       "  <thead>\n",
       "    <tr style=\"text-align: right;\">\n",
       "      <th></th>\n",
       "      <th>Population</th>\n",
       "      <th>Annual Growth Rate (%)</th>\n",
       "      <th>Annual Population Change</th>\n",
       "    </tr>\n",
       "    <tr>\n",
       "      <th>Year</th>\n",
       "      <th></th>\n",
       "      <th></th>\n",
       "      <th></th>\n",
       "    </tr>\n",
       "  </thead>\n",
       "  <tbody>\n",
       "    <tr>\n",
       "      <th>1950-01-01</th>\n",
       "      <td>2.557629e+09</td>\n",
       "      <td>1.459</td>\n",
       "      <td>37311223.0</td>\n",
       "    </tr>\n",
       "    <tr>\n",
       "      <th>1951-01-01</th>\n",
       "      <td>2.594940e+09</td>\n",
       "      <td>1.612</td>\n",
       "      <td>41832429.0</td>\n",
       "    </tr>\n",
       "    <tr>\n",
       "      <th>1952-01-01</th>\n",
       "      <td>2.636772e+09</td>\n",
       "      <td>1.717</td>\n",
       "      <td>45281083.0</td>\n",
       "    </tr>\n",
       "    <tr>\n",
       "      <th>1953-01-01</th>\n",
       "      <td>2.682053e+09</td>\n",
       "      <td>1.796</td>\n",
       "      <td>48174715.0</td>\n",
       "    </tr>\n",
       "    <tr>\n",
       "      <th>1954-01-01</th>\n",
       "      <td>2.730228e+09</td>\n",
       "      <td>1.900</td>\n",
       "      <td>51870839.0</td>\n",
       "    </tr>\n",
       "  </tbody>\n",
       "</table>\n",
       "</div>"
      ],
      "text/plain": [
       "              Population  Annual Growth Rate (%)  Annual Population Change\n",
       "Year                                                                      \n",
       "1950-01-01  2.557629e+09                   1.459                37311223.0\n",
       "1951-01-01  2.594940e+09                   1.612                41832429.0\n",
       "1952-01-01  2.636772e+09                   1.717                45281083.0\n",
       "1953-01-01  2.682053e+09                   1.796                48174715.0\n",
       "1954-01-01  2.730228e+09                   1.900                51870839.0"
      ]
     },
     "execution_count": 215,
     "metadata": {},
     "output_type": "execute_result"
    }
   ],
   "source": [
    "pop_growth.head()"
   ]
  },
  {
   "cell_type": "code",
   "execution_count": 224,
   "metadata": {},
   "outputs": [
    {
     "data": {
      "text/plain": [
       "1.459"
      ]
     },
     "execution_count": 224,
     "metadata": {},
     "output_type": "execute_result"
    }
   ],
   "source": [
    "round((pop_growth.loc['1951-01-01', 'Population'] - pop_growth.loc['1950-01-01', 'Population']) * 100 / pop_growth.loc['1950-01-01', 'Population'],3)"
   ]
  },
  {
   "cell_type": "code",
   "execution_count": 225,
   "metadata": {},
   "outputs": [
    {
     "data": {
      "text/html": [
       "<div>\n",
       "<style scoped>\n",
       "    .dataframe tbody tr th:only-of-type {\n",
       "        vertical-align: middle;\n",
       "    }\n",
       "\n",
       "    .dataframe tbody tr th {\n",
       "        vertical-align: top;\n",
       "    }\n",
       "\n",
       "    .dataframe thead th {\n",
       "        text-align: right;\n",
       "    }\n",
       "</style>\n",
       "<table border=\"1\" class=\"dataframe\">\n",
       "  <thead>\n",
       "    <tr style=\"text-align: right;\">\n",
       "      <th></th>\n",
       "      <th>Population</th>\n",
       "      <th>Annual Growth Rate (%)</th>\n",
       "      <th>Annual Population Change</th>\n",
       "    </tr>\n",
       "    <tr>\n",
       "      <th>Year</th>\n",
       "      <th></th>\n",
       "      <th></th>\n",
       "      <th></th>\n",
       "    </tr>\n",
       "  </thead>\n",
       "  <tbody>\n",
       "    <tr>\n",
       "      <th>1950-01-01</th>\n",
       "      <td>2.765922e+09</td>\n",
       "      <td>1.7529</td>\n",
       "      <td>48537285.4</td>\n",
       "    </tr>\n",
       "    <tr>\n",
       "      <th>1960-01-01</th>\n",
       "      <td>3.321900e+09</td>\n",
       "      <td>2.0094</td>\n",
       "      <td>66969623.4</td>\n",
       "    </tr>\n",
       "    <tr>\n",
       "      <th>1970-01-01</th>\n",
       "      <td>4.047646e+09</td>\n",
       "      <td>1.8154</td>\n",
       "      <td>73179902.2</td>\n",
       "    </tr>\n",
       "    <tr>\n",
       "      <th>1980-01-01</th>\n",
       "      <td>4.813578e+09</td>\n",
       "      <td>1.7438</td>\n",
       "      <td>83875618.4</td>\n",
       "    </tr>\n",
       "    <tr>\n",
       "      <th>1990-01-01</th>\n",
       "      <td>5.651506e+09</td>\n",
       "      <td>1.4220</td>\n",
       "      <td>80123197.0</td>\n",
       "    </tr>\n",
       "    <tr>\n",
       "      <th>2000-01-01</th>\n",
       "      <td>6.429734e+09</td>\n",
       "      <td>1.2017</td>\n",
       "      <td>77213097.9</td>\n",
       "    </tr>\n",
       "    <tr>\n",
       "      <th>2010-01-01</th>\n",
       "      <td>7.206287e+09</td>\n",
       "      <td>1.0742</td>\n",
       "      <td>77318221.4</td>\n",
       "    </tr>\n",
       "    <tr>\n",
       "      <th>2020-01-01</th>\n",
       "      <td>7.949758e+09</td>\n",
       "      <td>0.8687</td>\n",
       "      <td>68934817.8</td>\n",
       "    </tr>\n",
       "    <tr>\n",
       "      <th>2030-01-01</th>\n",
       "      <td>8.587652e+09</td>\n",
       "      <td>0.6741</td>\n",
       "      <td>57810604.6</td>\n",
       "    </tr>\n",
       "    <tr>\n",
       "      <th>2040-01-01</th>\n",
       "      <td>9.120663e+09</td>\n",
       "      <td>0.5238</td>\n",
       "      <td>47723189.0</td>\n",
       "    </tr>\n",
       "  </tbody>\n",
       "</table>\n",
       "</div>"
      ],
      "text/plain": [
       "              Population  Annual Growth Rate (%)  Annual Population Change\n",
       "Year                                                                      \n",
       "1950-01-01  2.765922e+09                  1.7529                48537285.4\n",
       "1960-01-01  3.321900e+09                  2.0094                66969623.4\n",
       "1970-01-01  4.047646e+09                  1.8154                73179902.2\n",
       "1980-01-01  4.813578e+09                  1.7438                83875618.4\n",
       "1990-01-01  5.651506e+09                  1.4220                80123197.0\n",
       "2000-01-01  6.429734e+09                  1.2017                77213097.9\n",
       "2010-01-01  7.206287e+09                  1.0742                77318221.4\n",
       "2020-01-01  7.949758e+09                  0.8687                68934817.8\n",
       "2030-01-01  8.587652e+09                  0.6741                57810604.6\n",
       "2040-01-01  9.120663e+09                  0.5238                47723189.0"
      ]
     },
     "execution_count": 225,
     "metadata": {},
     "output_type": "execute_result"
    }
   ],
   "source": [
    "# Find the mean population, growth rate and annual population change for each 10 years\n",
    "pop_growth.resample('10AS').mean()"
   ]
  },
  {
   "cell_type": "markdown",
   "metadata": {},
   "source": [
    "This kind of resampling is called _downsampling_, because we are decreasing the sampling frequency of the data. We can choose how to aggregate the data from each decade (e.g. `mean`). Options for aggregation include `mean`, `median`, `sum`, `last`, and `first`.\n",
    "\n",
    "We can also _upsample_ data. In this case, we don't have data for each quarter, so we have to tell Pandas has to fill in the missing data."
   ]
  },
  {
   "cell_type": "code",
   "execution_count": 226,
   "metadata": {},
   "outputs": [
    {
     "data": {
      "text/html": [
       "<div>\n",
       "<style scoped>\n",
       "    .dataframe tbody tr th:only-of-type {\n",
       "        vertical-align: middle;\n",
       "    }\n",
       "\n",
       "    .dataframe tbody tr th {\n",
       "        vertical-align: top;\n",
       "    }\n",
       "\n",
       "    .dataframe thead th {\n",
       "        text-align: right;\n",
       "    }\n",
       "</style>\n",
       "<table border=\"1\" class=\"dataframe\">\n",
       "  <thead>\n",
       "    <tr style=\"text-align: right;\">\n",
       "      <th></th>\n",
       "      <th>Population</th>\n",
       "      <th>Annual Growth Rate (%)</th>\n",
       "      <th>Annual Population Change</th>\n",
       "    </tr>\n",
       "    <tr>\n",
       "      <th>Year</th>\n",
       "      <th></th>\n",
       "      <th></th>\n",
       "      <th></th>\n",
       "    </tr>\n",
       "  </thead>\n",
       "  <tbody>\n",
       "    <tr>\n",
       "      <th>1950-03-31</th>\n",
       "      <td>2.594940e+09</td>\n",
       "      <td>1.612</td>\n",
       "      <td>41832429.0</td>\n",
       "    </tr>\n",
       "    <tr>\n",
       "      <th>1950-06-30</th>\n",
       "      <td>2.594940e+09</td>\n",
       "      <td>1.612</td>\n",
       "      <td>41832429.0</td>\n",
       "    </tr>\n",
       "    <tr>\n",
       "      <th>1950-09-30</th>\n",
       "      <td>2.594940e+09</td>\n",
       "      <td>1.612</td>\n",
       "      <td>41832429.0</td>\n",
       "    </tr>\n",
       "    <tr>\n",
       "      <th>1950-12-31</th>\n",
       "      <td>2.594940e+09</td>\n",
       "      <td>1.612</td>\n",
       "      <td>41832429.0</td>\n",
       "    </tr>\n",
       "    <tr>\n",
       "      <th>1951-03-31</th>\n",
       "      <td>2.636772e+09</td>\n",
       "      <td>1.717</td>\n",
       "      <td>45281083.0</td>\n",
       "    </tr>\n",
       "  </tbody>\n",
       "</table>\n",
       "</div>"
      ],
      "text/plain": [
       "              Population  Annual Growth Rate (%)  Annual Population Change\n",
       "Year                                                                      \n",
       "1950-03-31  2.594940e+09                   1.612                41832429.0\n",
       "1950-06-30  2.594940e+09                   1.612                41832429.0\n",
       "1950-09-30  2.594940e+09                   1.612                41832429.0\n",
       "1950-12-31  2.594940e+09                   1.612                41832429.0\n",
       "1951-03-31  2.636772e+09                   1.717                45281083.0"
      ]
     },
     "execution_count": 226,
     "metadata": {},
     "output_type": "execute_result"
    }
   ],
   "source": [
    "# Upsample. Get population info for each quarter. Fill method backward\n",
    "pop_growth.resample('1Q').bfill().head()"
   ]
  },
  {
   "cell_type": "code",
   "execution_count": 227,
   "metadata": {},
   "outputs": [
    {
     "data": {
      "text/html": [
       "<div>\n",
       "<style scoped>\n",
       "    .dataframe tbody tr th:only-of-type {\n",
       "        vertical-align: middle;\n",
       "    }\n",
       "\n",
       "    .dataframe tbody tr th {\n",
       "        vertical-align: top;\n",
       "    }\n",
       "\n",
       "    .dataframe thead th {\n",
       "        text-align: right;\n",
       "    }\n",
       "</style>\n",
       "<table border=\"1\" class=\"dataframe\">\n",
       "  <thead>\n",
       "    <tr style=\"text-align: right;\">\n",
       "      <th></th>\n",
       "      <th>Population</th>\n",
       "      <th>Annual Growth Rate (%)</th>\n",
       "      <th>Annual Population Change</th>\n",
       "    </tr>\n",
       "    <tr>\n",
       "      <th>Year</th>\n",
       "      <th></th>\n",
       "      <th></th>\n",
       "      <th></th>\n",
       "    </tr>\n",
       "  </thead>\n",
       "  <tbody>\n",
       "    <tr>\n",
       "      <th>1950-03-31</th>\n",
       "      <td>2.557629e+09</td>\n",
       "      <td>1.459</td>\n",
       "      <td>37311223.0</td>\n",
       "    </tr>\n",
       "    <tr>\n",
       "      <th>1950-06-30</th>\n",
       "      <td>2.557629e+09</td>\n",
       "      <td>1.459</td>\n",
       "      <td>37311223.0</td>\n",
       "    </tr>\n",
       "    <tr>\n",
       "      <th>1950-09-30</th>\n",
       "      <td>2.557629e+09</td>\n",
       "      <td>1.459</td>\n",
       "      <td>37311223.0</td>\n",
       "    </tr>\n",
       "    <tr>\n",
       "      <th>1950-12-31</th>\n",
       "      <td>2.557629e+09</td>\n",
       "      <td>1.459</td>\n",
       "      <td>37311223.0</td>\n",
       "    </tr>\n",
       "    <tr>\n",
       "      <th>1951-03-31</th>\n",
       "      <td>2.594940e+09</td>\n",
       "      <td>1.612</td>\n",
       "      <td>41832429.0</td>\n",
       "    </tr>\n",
       "  </tbody>\n",
       "</table>\n",
       "</div>"
      ],
      "text/plain": [
       "              Population  Annual Growth Rate (%)  Annual Population Change\n",
       "Year                                                                      \n",
       "1950-03-31  2.557629e+09                   1.459                37311223.0\n",
       "1950-06-30  2.557629e+09                   1.459                37311223.0\n",
       "1950-09-30  2.557629e+09                   1.459                37311223.0\n",
       "1950-12-31  2.557629e+09                   1.459                37311223.0\n",
       "1951-03-31  2.594940e+09                   1.612                41832429.0"
      ]
     },
     "execution_count": 227,
     "metadata": {},
     "output_type": "execute_result"
    }
   ],
   "source": [
    "# Fill method forward\n",
    "pop_growth.resample('1Q').ffill().head()"
   ]
  },
  {
   "cell_type": "markdown",
   "metadata": {},
   "source": [
    "Pandas' time series capabilities are built on the Pandas `Timestamp` class."
   ]
  },
  {
   "cell_type": "code",
   "execution_count": 228,
   "metadata": {},
   "outputs": [
    {
     "name": "stdout",
     "output_type": "stream",
     "text": [
      "191 days 09:16:00\n"
     ]
    }
   ],
   "source": [
    "print(pd.Timestamp('Feb. 11 2016 2:30 am') - pd.Timestamp('2015-08-03 5:14 pm'))"
   ]
  },
  {
   "cell_type": "code",
   "execution_count": 229,
   "metadata": {},
   "outputs": [
    {
     "name": "stdout",
     "output_type": "stream",
     "text": [
      "2017-01-05 00:00:00\n",
      "2017-01-03 00:00:00\n",
      "2017-04-28 00:00:00\n"
     ]
    }
   ],
   "source": [
    "from pandas.tseries.offsets import BDay, Day, BMonthEnd\n",
    "\n",
    "print(pd.Timestamp('January 9, 2017') - Day(4))\n",
    "print(pd.Timestamp('January 9, 2017') - BDay(4))\n",
    "print(pd.Timestamp('January 9, 2017') + BMonthEnd(4))"
   ]
  },
  {
   "cell_type": "code",
   "execution_count": 230,
   "metadata": {},
   "outputs": [
    {
     "data": {
      "text/plain": [
       "DatetimeIndex(['2017-01-09', '2017-01-10', '2017-01-11', '2017-01-12',\n",
       "               '2017-01-13', '2017-01-16', '2017-01-17', '2017-01-18',\n",
       "               '2017-01-19', '2017-01-20', '2017-01-23', '2017-01-24',\n",
       "               '2017-01-25', '2017-01-26', '2017-01-27', '2017-01-30',\n",
       "               '2017-01-31', '2017-02-01', '2017-02-02', '2017-02-03',\n",
       "               '2017-02-06', '2017-02-07', '2017-02-08', '2017-02-09',\n",
       "               '2017-02-10', '2017-02-13', '2017-02-14', '2017-02-15',\n",
       "               '2017-02-16', '2017-02-17', '2017-02-20', '2017-02-21',\n",
       "               '2017-02-22', '2017-02-23', '2017-02-24', '2017-02-27',\n",
       "               '2017-02-28', '2017-03-01', '2017-03-02'],\n",
       "              dtype='datetime64[ns]', freq='B')"
      ]
     },
     "execution_count": 230,
     "metadata": {},
     "output_type": "execute_result"
    }
   ],
   "source": [
    "pd.date_range(start='1/8/2017', end='3/2/2017', freq='B')"
   ]
  },
  {
   "cell_type": "markdown",
   "metadata": {},
   "source": [
    "The `Timestamp` class is compatible with Python's `datetime` module."
   ]
  },
  {
   "cell_type": "code",
   "execution_count": 231,
   "metadata": {},
   "outputs": [
    {
     "data": {
      "text/plain": [
       "Timedelta('113 days 00:00:00')"
      ]
     },
     "execution_count": 231,
     "metadata": {},
     "output_type": "execute_result"
    }
   ],
   "source": [
    "import datetime\n",
    "pd.Timestamp('May 1, 2017') - datetime.datetime(2017, 1, 8)"
   ]
  },
  {
   "cell_type": "markdown",
   "metadata": {},
   "source": [
    "## Visualizing data with Pandas\n",
    "\n",
    "Visualizing a data set is an important first step in drawing insights. We can easily pass data from Pandas to Matplotlib for visualizations, but Pandas also plugs into Matplotlib directly through methods like `plot` and `hist`."
   ]
  },
  {
   "cell_type": "code",
   "execution_count": 232,
   "metadata": {},
   "outputs": [
    {
     "data": {
      "text/plain": [
       "<matplotlib.axes._subplots.AxesSubplot at 0x2449b35e5f8>"
      ]
     },
     "execution_count": 232,
     "metadata": {},
     "output_type": "execute_result"
    },
    {
     "data": {
      "image/png": "[encoded data removed]",
      "text/plain": [
       "<Figure size 432x288 with 1 Axes>"
      ]
     },
     "metadata": {
      "needs_background": "light"
     },
     "output_type": "display_data"
    }
   ],
   "source": [
    "# Plot review counts from the yelp dataframe.\n",
    "yelp_df['review_count'].apply(np.log).hist(bins=30)"
   ]
  },
  {
   "cell_type": "code",
   "execution_count": 233,
   "metadata": {},
   "outputs": [
    {
     "data": {
      "text/plain": [
       "<matplotlib.axes._subplots.AxesSubplot at 0x2449b35ec50>"
      ]
     },
     "execution_count": 233,
     "metadata": {},
     "output_type": "execute_result"
    },
    {
     "data": {
      "image/png": "[encoded data removed]",
      "text/plain": [
       "<Figure size 432x288 with 1 Axes>"
      ]
     },
     "metadata": {
      "needs_background": "light"
     },
     "output_type": "display_data"
    }
   ],
   "source": [
    "# Annual population growth from 1950 onward\n",
    "pop_growth['Annual Growth Rate (%)'].plot()"
   ]
  },
  {
   "cell_type": "markdown",
   "metadata": {},
   "source": [
    "The [plotting functions take many parameters](https://pandas.pydata.org/pandas-docs/stable/generated/pandas.DataFrame.plot.html) for customizing the appearance of the output. Since they are essentially a wrapper around the Matplotlib functions, they also accept many of the Matplotlib parameters, not all of which are listed in the Pandas documentation. Pandas provides [a guide](https://pandas.pydata.org/pandas-docs/stable/visualization.html) to making various plots from DataFrames."
   ]
  },
  {
   "cell_type": "code",
   "execution_count": null,
   "metadata": {},
   "outputs": [],
   "source": []
  }
 ],
 "metadata": {
  "kernelspec": {
   "display_name": "Python 3",
   "language": "python",
   "name": "python3"
  },
  "language_info": {
   "codemirror_mode": {
    "name": "ipython",
    "version": 3
   },
   "file_extension": ".py",
   "mimetype": "text/x-python",
   "name": "python",
   "nbconvert_exporter": "python",
   "pygments_lexer": "ipython3",
   "version": "3.7.3"
  }
 },
 "nbformat": 4,
 "nbformat_minor": 2
}
