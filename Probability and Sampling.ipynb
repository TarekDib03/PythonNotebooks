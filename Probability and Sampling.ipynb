{
 "cells": [
  {
   "cell_type": "markdown",
   "metadata": {},
   "source": [
    "A population has 100 people, including Mo and Jo. Suppose we sample two people at random without replacement, what is the probability that both Mo and Jo are in the sample? Jo and Mo are equally likely to be selected. A simple random sample (SRS) is uniform and without replacement.\n",
    "\n",
    "There are two ways to draw Mo and Jo: Mo then Jo, or Jo then Mo. The probability to draw Mo then Jo is equal to the probability of drawing Jo then Mo. The probability is 1/100 * 1/99 using the multiplication rule."
   ]
  },
  {
   "cell_type": "code",
   "execution_count": 2,
   "metadata": {},
   "outputs": [
    {
     "data": {
      "text/plain": [
       "0.0002"
      ]
     },
     "execution_count": 2,
     "metadata": {},
     "output_type": "execute_result"
    }
   ],
   "source": [
    "# The probability that both Mo and Jo are in the sample\n",
    "P = round(2*(1/100 * 1/99), 5)\n",
    "P"
   ]
  },
  {
   "cell_type": "code",
   "execution_count": 5,
   "metadata": {},
   "outputs": [
    {
     "data": {
      "text/plain": [
       "0.9602"
      ]
     },
     "execution_count": 5,
     "metadata": {},
     "output_type": "execute_result"
    }
   ],
   "source": [
    "# The probability that neither Mo nor Jo is in the sample\n",
    "round((98/100) * (97/99),5)"
   ]
  },
  {
   "cell_type": "code",
   "execution_count": null,
   "metadata": {},
   "outputs": [],
   "source": []
  }
 ],
 "metadata": {
  "kernelspec": {
   "display_name": "Python 3",
   "language": "python",
   "name": "python3"
  },
  "language_info": {
   "codemirror_mode": {
    "name": "ipython",
    "version": 3
   },
   "file_extension": ".py",
   "mimetype": "text/x-python",
   "name": "python",
   "nbconvert_exporter": "python",
   "pygments_lexer": "ipython3",
   "version": "3.7.3"
  }
 },
 "nbformat": 4,
 "nbformat_minor": 2
}
